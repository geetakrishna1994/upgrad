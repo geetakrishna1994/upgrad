{
 "cells": [
  {
   "cell_type": "code",
   "execution_count": 1,
   "metadata": {},
   "outputs": [],
   "source": [
    "import warnings\n",
    "import numpy as np\n",
    "import pandas as pd\n",
    "import matplotlib.pyplot as plt\n",
    "import seaborn as sns\n",
    "from sklearn.model_selection import train_test_split\n",
    "import statsmodels.api as sm\n",
    "from sklearn.decomposition import PCA\n",
    "from sklearn.decomposition import IncrementalPCA\n",
    "from sklearn.linear_model import LogisticRegression\n",
    "from sklearn.feature_selection import RFE\n",
    "from statsmodels.stats.outliers_influence import variance_inflation_factor\n",
    "from sklearn.model_selection import GridSearchCV\n",
    "from sklearn.metrics import confusion_matrix\n",
    "from imblearn.metrics import sensitivity_specificity_support\n",
    "from sklearn.metrics import roc_auc_score\n",
    "from sklearn.model_selection import StratifiedKFold\n",
    "\n"
   ]
  },
  {
   "cell_type": "code",
   "execution_count": 2,
   "metadata": {},
   "outputs": [],
   "source": [
    "warnings.filterwarnings('ignore')\n",
    "sns.set_style('darkgrid')"
   ]
  },
  {
   "cell_type": "markdown",
   "metadata": {},
   "source": [
    "## Data import and EDA"
   ]
  },
  {
   "cell_type": "code",
   "execution_count": 3,
   "metadata": {},
   "outputs": [],
   "source": [
    "marketing = pd.read_csv('./bank_marketing.csv')"
   ]
  },
  {
   "cell_type": "code",
   "execution_count": 4,
   "metadata": {},
   "outputs": [
    {
     "data": {
      "text/plain": [
       "(41188, 21)"
      ]
     },
     "execution_count": 4,
     "metadata": {},
     "output_type": "execute_result"
    }
   ],
   "source": [
    "marketing.shape"
   ]
  },
  {
   "cell_type": "code",
   "execution_count": 5,
   "metadata": {},
   "outputs": [
    {
     "name": "stdout",
     "output_type": "stream",
     "text": [
      "<class 'pandas.core.frame.DataFrame'>\n",
      "RangeIndex: 41188 entries, 0 to 41187\n",
      "Data columns (total 21 columns):\n",
      "age               41188 non-null int64\n",
      "job               41188 non-null object\n",
      "marital           41188 non-null object\n",
      "education         41188 non-null object\n",
      "default           41188 non-null object\n",
      "housing           41188 non-null object\n",
      "loan              41188 non-null object\n",
      "contact           41188 non-null object\n",
      "month             41188 non-null object\n",
      "day_of_week       41188 non-null object\n",
      "duration          41188 non-null int64\n",
      "campaign          41188 non-null int64\n",
      "pdays             41188 non-null int64\n",
      "previous          41188 non-null int64\n",
      "poutcome          41188 non-null object\n",
      "emp.var.rate      41188 non-null float64\n",
      "cons.price.idx    41188 non-null float64\n",
      "cons.conf.idx     41188 non-null float64\n",
      "euribor3m         41188 non-null float64\n",
      "nr.employed       41188 non-null float64\n",
      "response          41188 non-null object\n",
      "dtypes: float64(5), int64(5), object(11)\n",
      "memory usage: 6.6+ MB\n"
     ]
    }
   ],
   "source": [
    "marketing.info()"
   ]
  },
  {
   "cell_type": "code",
   "execution_count": 6,
   "metadata": {},
   "outputs": [
    {
     "data": {
      "text/html": [
       "<div>\n",
       "<style scoped>\n",
       "    .dataframe tbody tr th:only-of-type {\n",
       "        vertical-align: middle;\n",
       "    }\n",
       "\n",
       "    .dataframe tbody tr th {\n",
       "        vertical-align: top;\n",
       "    }\n",
       "\n",
       "    .dataframe thead th {\n",
       "        text-align: right;\n",
       "    }\n",
       "</style>\n",
       "<table border=\"1\" class=\"dataframe\">\n",
       "  <thead>\n",
       "    <tr style=\"text-align: right;\">\n",
       "      <th></th>\n",
       "      <th>age</th>\n",
       "      <th>job</th>\n",
       "      <th>marital</th>\n",
       "      <th>education</th>\n",
       "      <th>default</th>\n",
       "      <th>housing</th>\n",
       "      <th>loan</th>\n",
       "      <th>contact</th>\n",
       "      <th>month</th>\n",
       "      <th>day_of_week</th>\n",
       "      <th>...</th>\n",
       "      <th>campaign</th>\n",
       "      <th>pdays</th>\n",
       "      <th>previous</th>\n",
       "      <th>poutcome</th>\n",
       "      <th>emp.var.rate</th>\n",
       "      <th>cons.price.idx</th>\n",
       "      <th>cons.conf.idx</th>\n",
       "      <th>euribor3m</th>\n",
       "      <th>nr.employed</th>\n",
       "      <th>response</th>\n",
       "    </tr>\n",
       "  </thead>\n",
       "  <tbody>\n",
       "    <tr>\n",
       "      <th>0</th>\n",
       "      <td>56</td>\n",
       "      <td>housemaid</td>\n",
       "      <td>married</td>\n",
       "      <td>basic.4y</td>\n",
       "      <td>no</td>\n",
       "      <td>no</td>\n",
       "      <td>no</td>\n",
       "      <td>telephone</td>\n",
       "      <td>may</td>\n",
       "      <td>mon</td>\n",
       "      <td>...</td>\n",
       "      <td>1</td>\n",
       "      <td>999</td>\n",
       "      <td>0</td>\n",
       "      <td>nonexistent</td>\n",
       "      <td>1.1</td>\n",
       "      <td>93.994</td>\n",
       "      <td>-36.4</td>\n",
       "      <td>4.857</td>\n",
       "      <td>5191.0</td>\n",
       "      <td>no</td>\n",
       "    </tr>\n",
       "    <tr>\n",
       "      <th>1</th>\n",
       "      <td>57</td>\n",
       "      <td>services</td>\n",
       "      <td>married</td>\n",
       "      <td>high.school</td>\n",
       "      <td>unknown</td>\n",
       "      <td>no</td>\n",
       "      <td>no</td>\n",
       "      <td>telephone</td>\n",
       "      <td>may</td>\n",
       "      <td>mon</td>\n",
       "      <td>...</td>\n",
       "      <td>1</td>\n",
       "      <td>999</td>\n",
       "      <td>0</td>\n",
       "      <td>nonexistent</td>\n",
       "      <td>1.1</td>\n",
       "      <td>93.994</td>\n",
       "      <td>-36.4</td>\n",
       "      <td>4.857</td>\n",
       "      <td>5191.0</td>\n",
       "      <td>no</td>\n",
       "    </tr>\n",
       "    <tr>\n",
       "      <th>2</th>\n",
       "      <td>37</td>\n",
       "      <td>services</td>\n",
       "      <td>married</td>\n",
       "      <td>high.school</td>\n",
       "      <td>no</td>\n",
       "      <td>yes</td>\n",
       "      <td>no</td>\n",
       "      <td>telephone</td>\n",
       "      <td>may</td>\n",
       "      <td>mon</td>\n",
       "      <td>...</td>\n",
       "      <td>1</td>\n",
       "      <td>999</td>\n",
       "      <td>0</td>\n",
       "      <td>nonexistent</td>\n",
       "      <td>1.1</td>\n",
       "      <td>93.994</td>\n",
       "      <td>-36.4</td>\n",
       "      <td>4.857</td>\n",
       "      <td>5191.0</td>\n",
       "      <td>no</td>\n",
       "    </tr>\n",
       "    <tr>\n",
       "      <th>3</th>\n",
       "      <td>40</td>\n",
       "      <td>admin.</td>\n",
       "      <td>married</td>\n",
       "      <td>basic.6y</td>\n",
       "      <td>no</td>\n",
       "      <td>no</td>\n",
       "      <td>no</td>\n",
       "      <td>telephone</td>\n",
       "      <td>may</td>\n",
       "      <td>mon</td>\n",
       "      <td>...</td>\n",
       "      <td>1</td>\n",
       "      <td>999</td>\n",
       "      <td>0</td>\n",
       "      <td>nonexistent</td>\n",
       "      <td>1.1</td>\n",
       "      <td>93.994</td>\n",
       "      <td>-36.4</td>\n",
       "      <td>4.857</td>\n",
       "      <td>5191.0</td>\n",
       "      <td>no</td>\n",
       "    </tr>\n",
       "    <tr>\n",
       "      <th>4</th>\n",
       "      <td>56</td>\n",
       "      <td>services</td>\n",
       "      <td>married</td>\n",
       "      <td>high.school</td>\n",
       "      <td>no</td>\n",
       "      <td>no</td>\n",
       "      <td>yes</td>\n",
       "      <td>telephone</td>\n",
       "      <td>may</td>\n",
       "      <td>mon</td>\n",
       "      <td>...</td>\n",
       "      <td>1</td>\n",
       "      <td>999</td>\n",
       "      <td>0</td>\n",
       "      <td>nonexistent</td>\n",
       "      <td>1.1</td>\n",
       "      <td>93.994</td>\n",
       "      <td>-36.4</td>\n",
       "      <td>4.857</td>\n",
       "      <td>5191.0</td>\n",
       "      <td>no</td>\n",
       "    </tr>\n",
       "  </tbody>\n",
       "</table>\n",
       "<p>5 rows × 21 columns</p>\n",
       "</div>"
      ],
      "text/plain": [
       "   age        job  marital    education  default housing loan    contact  \\\n",
       "0   56  housemaid  married     basic.4y       no      no   no  telephone   \n",
       "1   57   services  married  high.school  unknown      no   no  telephone   \n",
       "2   37   services  married  high.school       no     yes   no  telephone   \n",
       "3   40     admin.  married     basic.6y       no      no   no  telephone   \n",
       "4   56   services  married  high.school       no      no  yes  telephone   \n",
       "\n",
       "  month day_of_week  ...  campaign  pdays  previous     poutcome emp.var.rate  \\\n",
       "0   may         mon  ...         1    999         0  nonexistent          1.1   \n",
       "1   may         mon  ...         1    999         0  nonexistent          1.1   \n",
       "2   may         mon  ...         1    999         0  nonexistent          1.1   \n",
       "3   may         mon  ...         1    999         0  nonexistent          1.1   \n",
       "4   may         mon  ...         1    999         0  nonexistent          1.1   \n",
       "\n",
       "   cons.price.idx  cons.conf.idx  euribor3m  nr.employed  response  \n",
       "0          93.994          -36.4      4.857       5191.0        no  \n",
       "1          93.994          -36.4      4.857       5191.0        no  \n",
       "2          93.994          -36.4      4.857       5191.0        no  \n",
       "3          93.994          -36.4      4.857       5191.0        no  \n",
       "4          93.994          -36.4      4.857       5191.0        no  \n",
       "\n",
       "[5 rows x 21 columns]"
      ]
     },
     "execution_count": 6,
     "metadata": {},
     "output_type": "execute_result"
    }
   ],
   "source": [
    "marketing.head()"
   ]
  },
  {
   "cell_type": "code",
   "execution_count": 7,
   "metadata": {},
   "outputs": [
    {
     "data": {
      "text/plain": [
       "age               0\n",
       "job               0\n",
       "marital           0\n",
       "education         0\n",
       "default           0\n",
       "housing           0\n",
       "loan              0\n",
       "contact           0\n",
       "month             0\n",
       "day_of_week       0\n",
       "duration          0\n",
       "campaign          0\n",
       "pdays             0\n",
       "previous          0\n",
       "poutcome          0\n",
       "emp.var.rate      0\n",
       "cons.price.idx    0\n",
       "cons.conf.idx     0\n",
       "euribor3m         0\n",
       "nr.employed       0\n",
       "response          0\n",
       "dtype: int64"
      ]
     },
     "execution_count": 7,
     "metadata": {},
     "output_type": "execute_result"
    }
   ],
   "source": [
    "marketing.isnull().sum()"
   ]
  },
  {
   "cell_type": "code",
   "execution_count": 8,
   "metadata": {},
   "outputs": [
    {
     "data": {
      "text/plain": [
       "no     36548\n",
       "yes     4640\n",
       "Name: response, dtype: int64"
      ]
     },
     "execution_count": 8,
     "metadata": {},
     "output_type": "execute_result"
    }
   ],
   "source": [
    "marketing.response.value_counts()"
   ]
  },
  {
   "cell_type": "markdown",
   "metadata": {},
   "source": [
    "### map response yes,no to 0,1"
   ]
  },
  {
   "cell_type": "code",
   "execution_count": 9,
   "metadata": {},
   "outputs": [],
   "source": [
    "marketing.response = marketing.response.map({'yes':1,'no':0})"
   ]
  },
  {
   "cell_type": "code",
   "execution_count": 10,
   "metadata": {},
   "outputs": [
    {
     "name": "stdout",
     "output_type": "stream",
     "text": [
      "11.27\n"
     ]
    }
   ],
   "source": [
    "print(round(100*marketing.response.sum()/len(marketing),2))"
   ]
  },
  {
   "cell_type": "markdown",
   "metadata": {},
   "source": [
    "## Age"
   ]
  },
  {
   "cell_type": "code",
   "execution_count": 11,
   "metadata": {},
   "outputs": [
    {
     "data": {
      "image/png": "[encoded data removed]",
      "text/plain": [
       "<Figure size 432x288 with 1 Axes>"
      ]
     },
     "metadata": {},
     "output_type": "display_data"
    }
   ],
   "source": [
    "sns.boxplot(x='age',data = marketing)\n",
    "plt.show()"
   ]
  },
  {
   "cell_type": "code",
   "execution_count": 12,
   "metadata": {},
   "outputs": [
    {
     "data": {
      "text/plain": [
       "count    41188.00000\n",
       "mean        40.02406\n",
       "std         10.42125\n",
       "min         17.00000\n",
       "25%         32.00000\n",
       "50%         38.00000\n",
       "75%         47.00000\n",
       "90%         55.00000\n",
       "95%         58.00000\n",
       "99%         71.00000\n",
       "max         98.00000\n",
       "Name: age, dtype: float64"
      ]
     },
     "execution_count": 12,
     "metadata": {},
     "output_type": "execute_result"
    }
   ],
   "source": [
    "marketing.age.describe(percentiles=[0.25,0.5,0.75,0.9,0.95,0.99])"
   ]
  },
  {
   "cell_type": "markdown",
   "metadata": {},
   "source": [
    "we can see that there are outliers present from the boxplot, hence we are going to impute the data to remove outliers. we are going to set all the values that are greater than 99 percentile to 99 percentile value i.e 71"
   ]
  },
  {
   "cell_type": "code",
   "execution_count": 13,
   "metadata": {},
   "outputs": [],
   "source": [
    "marketing.loc[marketing.age>71,'age'] = 71"
   ]
  },
  {
   "cell_type": "code",
   "execution_count": 14,
   "metadata": {},
   "outputs": [
    {
     "data": {
      "image/png": "[encoded data removed]",
      "text/plain": [
       "<Figure size 432x288 with 1 Axes>"
      ]
     },
     "metadata": {},
     "output_type": "display_data"
    }
   ],
   "source": [
    "sns.boxplot(x='age',data=marketing)\n",
    "plt.show()"
   ]
  },
  {
   "cell_type": "code",
   "execution_count": 15,
   "metadata": {},
   "outputs": [
    {
     "data": {
      "text/html": [
       "<div>\n",
       "<style scoped>\n",
       "    .dataframe tbody tr th:only-of-type {\n",
       "        vertical-align: middle;\n",
       "    }\n",
       "\n",
       "    .dataframe tbody tr th {\n",
       "        vertical-align: top;\n",
       "    }\n",
       "\n",
       "    .dataframe thead th {\n",
       "        text-align: right;\n",
       "    }\n",
       "</style>\n",
       "<table border=\"1\" class=\"dataframe\">\n",
       "  <thead>\n",
       "    <tr style=\"text-align: right;\">\n",
       "      <th></th>\n",
       "      <th>age_bins</th>\n",
       "      <th>No.of_prospect</th>\n",
       "      <th>count_prospects</th>\n",
       "      <th>response_rate</th>\n",
       "    </tr>\n",
       "  </thead>\n",
       "  <tbody>\n",
       "    <tr>\n",
       "      <th>0</th>\n",
       "      <td>(9.999, 20.0]</td>\n",
       "      <td>140</td>\n",
       "      <td>57</td>\n",
       "      <td>40.7</td>\n",
       "    </tr>\n",
       "    <tr>\n",
       "      <th>1</th>\n",
       "      <td>(20.0, 30.0]</td>\n",
       "      <td>7243</td>\n",
       "      <td>1067</td>\n",
       "      <td>14.7</td>\n",
       "    </tr>\n",
       "    <tr>\n",
       "      <th>2</th>\n",
       "      <td>(30.0, 40.0]</td>\n",
       "      <td>16385</td>\n",
       "      <td>1597</td>\n",
       "      <td>9.7</td>\n",
       "    </tr>\n",
       "    <tr>\n",
       "      <th>3</th>\n",
       "      <td>(40.0, 50.0]</td>\n",
       "      <td>10240</td>\n",
       "      <td>837</td>\n",
       "      <td>8.2</td>\n",
       "    </tr>\n",
       "    <tr>\n",
       "      <th>4</th>\n",
       "      <td>(50.0, 60.0]</td>\n",
       "      <td>6270</td>\n",
       "      <td>668</td>\n",
       "      <td>10.7</td>\n",
       "    </tr>\n",
       "    <tr>\n",
       "      <th>5</th>\n",
       "      <td>(60.0, 70.0]</td>\n",
       "      <td>488</td>\n",
       "      <td>212</td>\n",
       "      <td>43.4</td>\n",
       "    </tr>\n",
       "    <tr>\n",
       "      <th>6</th>\n",
       "      <td>(70.0, 80.0]</td>\n",
       "      <td>422</td>\n",
       "      <td>202</td>\n",
       "      <td>47.9</td>\n",
       "    </tr>\n",
       "  </tbody>\n",
       "</table>\n",
       "</div>"
      ],
      "text/plain": [
       "        age_bins  No.of_prospect  count_prospects  response_rate\n",
       "0  (9.999, 20.0]             140               57           40.7\n",
       "1   (20.0, 30.0]            7243             1067           14.7\n",
       "2   (30.0, 40.0]           16385             1597            9.7\n",
       "3   (40.0, 50.0]           10240              837            8.2\n",
       "4   (50.0, 60.0]            6270              668           10.7\n",
       "5   (60.0, 70.0]             488              212           43.4\n",
       "6   (70.0, 80.0]             422              202           47.9"
      ]
     },
     "execution_count": 15,
     "metadata": {},
     "output_type": "execute_result"
    }
   ],
   "source": [
    "# To understand the behaviour of people with age, we are going to bucket the age groups into brackets of 10 and \n",
    "# study the response rates\n",
    "\n",
    "bins = np.arange(10,marketing['age'].max() + 10, 10)\n",
    "marketing['age_bins'] = pd.cut(marketing['age'], bins, include_lowest=True)\n",
    "No_of_prospect = marketing.groupby('age_bins')['response'].count().reset_index(name = 'No.of_prospect')\n",
    "count_prospects = marketing[marketing['response']==1].groupby('age_bins')['response'].count().reset_index(name = 'count_prospects')\n",
    "agg_age = No_of_prospect.merge(count_prospects, on='age_bins')\n",
    "agg_age['response_rate'] = 100*(agg_age['count_prospects']/agg_age['No.of_prospect']).round(3)\n",
    "agg_age"
   ]
  },
  {
   "cell_type": "code",
   "execution_count": 16,
   "metadata": {},
   "outputs": [
    {
     "data": {
      "image/png": "[encoded data removed]",
      "text/plain": [
       "<Figure size 432x288 with 1 Axes>"
      ]
     },
     "metadata": {},
     "output_type": "display_data"
    }
   ],
   "source": [
    "ax = sns.barplot(x='age_bins', y='response_rate', data=agg_age)\n",
    "ax.set_xticklabels(ax.get_xticklabels(),rotation=30)\n",
    "plt.show()"
   ]
  },
  {
   "cell_type": "markdown",
   "metadata": {},
   "source": [
    "The youngest and the older seem to be positively to the campaign than the other age groups"
   ]
  },
  {
   "cell_type": "markdown",
   "metadata": {},
   "source": [
    "## job"
   ]
  },
  {
   "cell_type": "code",
   "execution_count": 17,
   "metadata": {},
   "outputs": [
    {
     "name": "stdout",
     "output_type": "stream",
     "text": [
      "admin.           10422\n",
      "blue-collar       9254\n",
      "technician        6743\n",
      "services          3969\n",
      "management        2924\n",
      "retired           1720\n",
      "entrepreneur      1456\n",
      "self-employed     1421\n",
      "housemaid         1060\n",
      "unemployed        1014\n",
      "student            875\n",
      "unknown            330\n",
      "Name: job, dtype: int64\n",
      "****************************************\n",
      "admin.           25.30\n",
      "blue-collar      22.47\n",
      "technician       16.37\n",
      "services          9.64\n",
      "management        7.10\n",
      "retired           4.18\n",
      "entrepreneur      3.54\n",
      "self-employed     3.45\n",
      "housemaid         2.57\n",
      "unemployed        2.46\n",
      "student           2.12\n",
      "unknown           0.80\n",
      "Name: job, dtype: float64\n"
     ]
    }
   ],
   "source": [
    "print(marketing.job.value_counts())\n",
    "print('*'*40)\n",
    "print(round(100*marketing.job.value_counts()/len(marketing),2))"
   ]
  },
  {
   "cell_type": "code",
   "execution_count": 18,
   "metadata": {},
   "outputs": [
    {
     "data": {
      "text/html": [
       "<div>\n",
       "<style scoped>\n",
       "    .dataframe tbody tr th:only-of-type {\n",
       "        vertical-align: middle;\n",
       "    }\n",
       "\n",
       "    .dataframe tbody tr th {\n",
       "        vertical-align: top;\n",
       "    }\n",
       "\n",
       "    .dataframe thead th {\n",
       "        text-align: right;\n",
       "    }\n",
       "</style>\n",
       "<table border=\"1\" class=\"dataframe\">\n",
       "  <thead>\n",
       "    <tr style=\"text-align: right;\">\n",
       "      <th></th>\n",
       "      <th>job</th>\n",
       "      <th>count_prospects</th>\n",
       "      <th>No_of_prospects</th>\n",
       "      <th>response_rate</th>\n",
       "    </tr>\n",
       "  </thead>\n",
       "  <tbody>\n",
       "    <tr>\n",
       "      <th>0</th>\n",
       "      <td>admin.</td>\n",
       "      <td>1352</td>\n",
       "      <td>10422</td>\n",
       "      <td>12.97</td>\n",
       "    </tr>\n",
       "    <tr>\n",
       "      <th>1</th>\n",
       "      <td>blue-collar</td>\n",
       "      <td>638</td>\n",
       "      <td>9254</td>\n",
       "      <td>6.89</td>\n",
       "    </tr>\n",
       "    <tr>\n",
       "      <th>2</th>\n",
       "      <td>entrepreneur</td>\n",
       "      <td>124</td>\n",
       "      <td>1456</td>\n",
       "      <td>8.52</td>\n",
       "    </tr>\n",
       "    <tr>\n",
       "      <th>3</th>\n",
       "      <td>housemaid</td>\n",
       "      <td>106</td>\n",
       "      <td>1060</td>\n",
       "      <td>10.00</td>\n",
       "    </tr>\n",
       "    <tr>\n",
       "      <th>4</th>\n",
       "      <td>management</td>\n",
       "      <td>328</td>\n",
       "      <td>2924</td>\n",
       "      <td>11.22</td>\n",
       "    </tr>\n",
       "    <tr>\n",
       "      <th>5</th>\n",
       "      <td>retired</td>\n",
       "      <td>434</td>\n",
       "      <td>1720</td>\n",
       "      <td>25.23</td>\n",
       "    </tr>\n",
       "    <tr>\n",
       "      <th>6</th>\n",
       "      <td>self-employed</td>\n",
       "      <td>149</td>\n",
       "      <td>1421</td>\n",
       "      <td>10.49</td>\n",
       "    </tr>\n",
       "    <tr>\n",
       "      <th>7</th>\n",
       "      <td>services</td>\n",
       "      <td>323</td>\n",
       "      <td>3969</td>\n",
       "      <td>8.14</td>\n",
       "    </tr>\n",
       "    <tr>\n",
       "      <th>8</th>\n",
       "      <td>student</td>\n",
       "      <td>275</td>\n",
       "      <td>875</td>\n",
       "      <td>31.43</td>\n",
       "    </tr>\n",
       "    <tr>\n",
       "      <th>9</th>\n",
       "      <td>technician</td>\n",
       "      <td>730</td>\n",
       "      <td>6743</td>\n",
       "      <td>10.83</td>\n",
       "    </tr>\n",
       "    <tr>\n",
       "      <th>10</th>\n",
       "      <td>unemployed</td>\n",
       "      <td>144</td>\n",
       "      <td>1014</td>\n",
       "      <td>14.20</td>\n",
       "    </tr>\n",
       "    <tr>\n",
       "      <th>11</th>\n",
       "      <td>unknown</td>\n",
       "      <td>37</td>\n",
       "      <td>330</td>\n",
       "      <td>11.21</td>\n",
       "    </tr>\n",
       "  </tbody>\n",
       "</table>\n",
       "</div>"
      ],
      "text/plain": [
       "              job  count_prospects  No_of_prospects  response_rate\n",
       "0          admin.             1352            10422          12.97\n",
       "1     blue-collar              638             9254           6.89\n",
       "2    entrepreneur              124             1456           8.52\n",
       "3       housemaid              106             1060          10.00\n",
       "4      management              328             2924          11.22\n",
       "5         retired              434             1720          25.23\n",
       "6   self-employed              149             1421          10.49\n",
       "7        services              323             3969           8.14\n",
       "8         student              275              875          31.43\n",
       "9      technician              730             6743          10.83\n",
       "10     unemployed              144             1014          14.20\n",
       "11        unknown               37              330          11.21"
      ]
     },
     "execution_count": 18,
     "metadata": {},
     "output_type": "execute_result"
    }
   ],
   "source": [
    "count_prospects_job = marketing.groupby('job')['response'].sum().reset_index(name = 'count_prospects')\n",
    "No_of_prospect_job = marketing.groupby('job')['response'].count().reset_index(name = 'No_of_prospects')\n",
    "agg_job = count_prospects_job.merge(No_of_prospect_job, on = 'job')\n",
    "agg_job['response_rate'] = 100*(agg_job['count_prospects']/agg_job['No_of_prospects']).round(4)\n",
    "agg_job"
   ]
  },
  {
   "cell_type": "code",
   "execution_count": 19,
   "metadata": {},
   "outputs": [
    {
     "data": {
      "image/png": "[encoded data removed]",
      "text/plain": [
       "<Figure size 432x288 with 1 Axes>"
      ]
     },
     "metadata": {},
     "output_type": "display_data"
    }
   ],
   "source": [
    "ax = sns.barplot(x='job', y='response_rate', data=agg_job)\n",
    "ax.set_xticklabels(ax.get_xticklabels(),rotation=90)\n",
    "plt.show()"
   ]
  },
  {
   "cell_type": "markdown",
   "metadata": {},
   "source": [
    "we can see that retired and students have higher response rate than the other job types. This is similar to what we have observed in the age variable."
   ]
  },
  {
   "cell_type": "markdown",
   "metadata": {},
   "source": [
    "## Marital"
   ]
  },
  {
   "cell_type": "code",
   "execution_count": 20,
   "metadata": {},
   "outputs": [
    {
     "name": "stdout",
     "output_type": "stream",
     "text": [
      "married     24928\n",
      "single      11568\n",
      "divorced     4612\n",
      "unknown        80\n",
      "Name: marital, dtype: int64\n",
      "****************************************\n",
      "married     60.52\n",
      "single      28.09\n",
      "divorced    11.20\n",
      "unknown      0.19\n",
      "Name: marital, dtype: float64\n"
     ]
    }
   ],
   "source": [
    "print(marketing.marital.value_counts())\n",
    "print('*'*40)\n",
    "print(round(100*marketing.marital.value_counts()/len(marketing),2))"
   ]
  },
  {
   "cell_type": "markdown",
   "metadata": {},
   "source": [
    "Since there are 80 entries which list marital status as 'unknown', we will assign them to the biggest group, which is, 'married'."
   ]
  },
  {
   "cell_type": "code",
   "execution_count": 21,
   "metadata": {},
   "outputs": [
    {
     "data": {
      "text/html": [
       "<div>\n",
       "<style scoped>\n",
       "    .dataframe tbody tr th:only-of-type {\n",
       "        vertical-align: middle;\n",
       "    }\n",
       "\n",
       "    .dataframe tbody tr th {\n",
       "        vertical-align: top;\n",
       "    }\n",
       "\n",
       "    .dataframe thead th {\n",
       "        text-align: right;\n",
       "    }\n",
       "</style>\n",
       "<table border=\"1\" class=\"dataframe\">\n",
       "  <thead>\n",
       "    <tr style=\"text-align: right;\">\n",
       "      <th></th>\n",
       "      <th>marital</th>\n",
       "      <th>count_prospects</th>\n",
       "      <th>No_of_prospects</th>\n",
       "      <th>response_rate</th>\n",
       "    </tr>\n",
       "  </thead>\n",
       "  <tbody>\n",
       "    <tr>\n",
       "      <th>0</th>\n",
       "      <td>divorced</td>\n",
       "      <td>476</td>\n",
       "      <td>4612</td>\n",
       "      <td>10.32</td>\n",
       "    </tr>\n",
       "    <tr>\n",
       "      <th>1</th>\n",
       "      <td>married</td>\n",
       "      <td>2544</td>\n",
       "      <td>25008</td>\n",
       "      <td>10.17</td>\n",
       "    </tr>\n",
       "    <tr>\n",
       "      <th>2</th>\n",
       "      <td>single</td>\n",
       "      <td>1620</td>\n",
       "      <td>11568</td>\n",
       "      <td>14.00</td>\n",
       "    </tr>\n",
       "  </tbody>\n",
       "</table>\n",
       "</div>"
      ],
      "text/plain": [
       "    marital  count_prospects  No_of_prospects  response_rate\n",
       "0  divorced              476             4612          10.32\n",
       "1   married             2544            25008          10.17\n",
       "2    single             1620            11568          14.00"
      ]
     },
     "execution_count": 21,
     "metadata": {},
     "output_type": "execute_result"
    }
   ],
   "source": [
    "marketing.replace({'marital' : { 'unknown' : 'married'}}, inplace=True)\n",
    "\n",
    "count_prospects_marital = marketing.groupby('marital')['response'].sum().reset_index(name = 'count_prospects')\n",
    "No_of_prospect_job = marketing.groupby('marital')['response'].count().reset_index(name = 'No_of_prospects')\n",
    "agg_marital = count_prospects_marital.merge(No_of_prospect_job, on = 'marital')\n",
    "agg_marital['response_rate'] = 100*(agg_marital['count_prospects']/agg_marital['No_of_prospects']).round(4)\n",
    "agg_marital"
   ]
  },
  {
   "cell_type": "code",
   "execution_count": 22,
   "metadata": {},
   "outputs": [
    {
     "data": {
      "image/png": "[encoded data removed]",
      "text/plain": [
       "<Figure size 432x288 with 1 Axes>"
      ]
     },
     "metadata": {},
     "output_type": "display_data"
    }
   ],
   "source": [
    "ax = sns.barplot(x='marital', y='response_rate', data=agg_marital)\n",
    "ax.set_xticklabels(ax.get_xticklabels(),rotation=0)\n",
    "plt.show()"
   ]
  },
  {
   "cell_type": "markdown",
   "metadata": {},
   "source": [
    "You may note that there is a slight uptick in response rate for single customers, this can be attributed in part to the fact that people under the age of 20 have a very high response rate. "
   ]
  },
  {
   "cell_type": "markdown",
   "metadata": {},
   "source": [
    "## Education"
   ]
  },
  {
   "cell_type": "code",
   "execution_count": 23,
   "metadata": {},
   "outputs": [
    {
     "name": "stdout",
     "output_type": "stream",
     "text": [
      "university.degree      12168\n",
      "high.school             9515\n",
      "basic.9y                6045\n",
      "professional.course     5243\n",
      "basic.4y                4176\n",
      "basic.6y                2292\n",
      "unknown                 1731\n",
      "illiterate                18\n",
      "Name: education, dtype: int64\n",
      "****************************************\n",
      "university.degree      29.54\n",
      "high.school            23.10\n",
      "basic.9y               14.68\n",
      "professional.course    12.73\n",
      "basic.4y               10.14\n",
      "basic.6y                5.56\n",
      "unknown                 4.20\n",
      "illiterate              0.04\n",
      "Name: education, dtype: float64\n"
     ]
    }
   ],
   "source": [
    "print(marketing.education.value_counts())\n",
    "print('*'*40)\n",
    "print(round(100*marketing.education.value_counts()/len(marketing),2))"
   ]
  },
  {
   "cell_type": "code",
   "execution_count": 24,
   "metadata": {},
   "outputs": [],
   "source": [
    "# bucketing the education types in to smaller groups for easier analysis\n",
    "marketing.replace({'education' : { 'basic.9y' : 'Primary_Education', 'basic.4y' : 'Primary_Education','basic.6y' : 'Primary_Education','illiterate' : 'Primary_Education',\n",
    "                             'high.school' : 'Secondary_Education', 'university.degree' : 'Tertiary_Education' }}, inplace=True)"
   ]
  },
  {
   "cell_type": "code",
   "execution_count": 25,
   "metadata": {},
   "outputs": [
    {
     "name": "stdout",
     "output_type": "stream",
     "text": [
      "Primary_Education      12531\n",
      "Tertiary_Education     12168\n",
      "Secondary_Education     9515\n",
      "professional.course     5243\n",
      "unknown                 1731\n",
      "Name: education, dtype: int64\n",
      "****************************************\n",
      "Primary_Education      30.42\n",
      "Tertiary_Education     29.54\n",
      "Secondary_Education    23.10\n",
      "professional.course    12.73\n",
      "unknown                 4.20\n",
      "Name: education, dtype: float64\n"
     ]
    }
   ],
   "source": [
    "print(marketing.education.value_counts())\n",
    "print('*'*40)\n",
    "print(round(100*marketing.education.value_counts()/len(marketing),2))"
   ]
  },
  {
   "cell_type": "code",
   "execution_count": 26,
   "metadata": {},
   "outputs": [
    {
     "data": {
      "text/html": [
       "<div>\n",
       "<style scoped>\n",
       "    .dataframe tbody tr th:only-of-type {\n",
       "        vertical-align: middle;\n",
       "    }\n",
       "\n",
       "    .dataframe tbody tr th {\n",
       "        vertical-align: top;\n",
       "    }\n",
       "\n",
       "    .dataframe thead th {\n",
       "        text-align: right;\n",
       "    }\n",
       "</style>\n",
       "<table border=\"1\" class=\"dataframe\">\n",
       "  <thead>\n",
       "    <tr style=\"text-align: right;\">\n",
       "      <th></th>\n",
       "      <th>education</th>\n",
       "      <th>count_prospects</th>\n",
       "      <th>No_of_prospects</th>\n",
       "      <th>response_rate</th>\n",
       "    </tr>\n",
       "  </thead>\n",
       "  <tbody>\n",
       "    <tr>\n",
       "      <th>0</th>\n",
       "      <td>Primary_Education</td>\n",
       "      <td>1093</td>\n",
       "      <td>12531</td>\n",
       "      <td>8.72</td>\n",
       "    </tr>\n",
       "    <tr>\n",
       "      <th>1</th>\n",
       "      <td>Secondary_Education</td>\n",
       "      <td>1031</td>\n",
       "      <td>9515</td>\n",
       "      <td>10.84</td>\n",
       "    </tr>\n",
       "    <tr>\n",
       "      <th>2</th>\n",
       "      <td>Tertiary_Education</td>\n",
       "      <td>1670</td>\n",
       "      <td>12168</td>\n",
       "      <td>13.72</td>\n",
       "    </tr>\n",
       "    <tr>\n",
       "      <th>3</th>\n",
       "      <td>professional.course</td>\n",
       "      <td>595</td>\n",
       "      <td>5243</td>\n",
       "      <td>11.35</td>\n",
       "    </tr>\n",
       "    <tr>\n",
       "      <th>4</th>\n",
       "      <td>unknown</td>\n",
       "      <td>251</td>\n",
       "      <td>1731</td>\n",
       "      <td>14.50</td>\n",
       "    </tr>\n",
       "  </tbody>\n",
       "</table>\n",
       "</div>"
      ],
      "text/plain": [
       "             education  count_prospects  No_of_prospects  response_rate\n",
       "0    Primary_Education             1093            12531           8.72\n",
       "1  Secondary_Education             1031             9515          10.84\n",
       "2   Tertiary_Education             1670            12168          13.72\n",
       "3  professional.course              595             5243          11.35\n",
       "4              unknown              251             1731          14.50"
      ]
     },
     "execution_count": 26,
     "metadata": {},
     "output_type": "execute_result"
    }
   ],
   "source": [
    "count_prospects_education = marketing.groupby('education')['response'].sum().reset_index(name = 'count_prospects')\n",
    "No_of_prospect_education = marketing.groupby('education')['response'].count().reset_index(name = 'No_of_prospects')\n",
    "agg_education = count_prospects_education.merge(No_of_prospect_education, on = 'education')\n",
    "agg_education['response_rate'] = 100*(agg_education['count_prospects']/agg_education['No_of_prospects']).round(4)\n",
    "agg_education"
   ]
  },
  {
   "cell_type": "code",
   "execution_count": 27,
   "metadata": {},
   "outputs": [
    {
     "data": {
      "image/png": "[encoded data removed]",
      "text/plain": [
       "<Figure size 432x288 with 1 Axes>"
      ]
     },
     "metadata": {},
     "output_type": "display_data"
    }
   ],
   "source": [
    "ax = sns.barplot(x='education', y='response_rate', data=agg_education)\n",
    "ax.set_xticklabels(ax.get_xticklabels(),rotation=30)\n",
    "plt.show()"
   ]
  },
  {
   "cell_type": "markdown",
   "metadata": {},
   "source": [
    "we can notice that the response rate is lowest for people with highest education qualification as primary education, which may be attributed, in part, to lack of awareness and a lack of trust between the bank and the customer. It is the highest for people with tertiary education."
   ]
  },
  {
   "cell_type": "markdown",
   "metadata": {},
   "source": [
    "## Default"
   ]
  },
  {
   "cell_type": "code",
   "execution_count": 28,
   "metadata": {},
   "outputs": [
    {
     "name": "stdout",
     "output_type": "stream",
     "text": [
      "no         32588\n",
      "unknown     8597\n",
      "yes            3\n",
      "Name: default, dtype: int64\n",
      "****************************************\n",
      "no         79.12\n",
      "unknown    20.87\n",
      "yes         0.01\n",
      "Name: default, dtype: float64\n"
     ]
    }
   ],
   "source": [
    "print(marketing.default.value_counts())\n",
    "print('*'*40)\n",
    "print(round(100*marketing.default.value_counts()/len(marketing),2))"
   ]
  },
  {
   "cell_type": "code",
   "execution_count": 29,
   "metadata": {},
   "outputs": [
    {
     "data": {
      "text/html": [
       "<div>\n",
       "<style scoped>\n",
       "    .dataframe tbody tr th:only-of-type {\n",
       "        vertical-align: middle;\n",
       "    }\n",
       "\n",
       "    .dataframe tbody tr th {\n",
       "        vertical-align: top;\n",
       "    }\n",
       "\n",
       "    .dataframe thead th {\n",
       "        text-align: right;\n",
       "    }\n",
       "</style>\n",
       "<table border=\"1\" class=\"dataframe\">\n",
       "  <thead>\n",
       "    <tr style=\"text-align: right;\">\n",
       "      <th></th>\n",
       "      <th>default</th>\n",
       "      <th>count_prospects</th>\n",
       "      <th>No_of_prospects</th>\n",
       "      <th>response_rate</th>\n",
       "    </tr>\n",
       "  </thead>\n",
       "  <tbody>\n",
       "    <tr>\n",
       "      <th>0</th>\n",
       "      <td>no</td>\n",
       "      <td>4197</td>\n",
       "      <td>32588</td>\n",
       "      <td>12.88</td>\n",
       "    </tr>\n",
       "    <tr>\n",
       "      <th>1</th>\n",
       "      <td>unknown</td>\n",
       "      <td>443</td>\n",
       "      <td>8597</td>\n",
       "      <td>5.15</td>\n",
       "    </tr>\n",
       "    <tr>\n",
       "      <th>2</th>\n",
       "      <td>yes</td>\n",
       "      <td>0</td>\n",
       "      <td>3</td>\n",
       "      <td>0.00</td>\n",
       "    </tr>\n",
       "  </tbody>\n",
       "</table>\n",
       "</div>"
      ],
      "text/plain": [
       "   default  count_prospects  No_of_prospects  response_rate\n",
       "0       no             4197            32588          12.88\n",
       "1  unknown              443             8597           5.15\n",
       "2      yes                0                3           0.00"
      ]
     },
     "execution_count": 29,
     "metadata": {},
     "output_type": "execute_result"
    }
   ],
   "source": [
    "count_prospects_default = marketing.groupby('default')['response'].sum().reset_index(name = 'count_prospects')\n",
    "No_of_prospect_default = marketing.groupby('default')['response'].count().reset_index(name = 'No_of_prospects')\n",
    "agg_default = count_prospects_default.merge(No_of_prospect_default, on = 'default')\n",
    "agg_default['response_rate'] = 100*(agg_default['count_prospects']/agg_default['No_of_prospects']).round(4)\n",
    "agg_default"
   ]
  },
  {
   "cell_type": "code",
   "execution_count": 30,
   "metadata": {},
   "outputs": [
    {
     "data": {
      "image/png": "[encoded data removed]",
      "text/plain": [
       "<Figure size 432x288 with 1 Axes>"
      ]
     },
     "metadata": {},
     "output_type": "display_data"
    }
   ],
   "source": [
    "ax = sns.barplot(x='default', y='response_rate', data=agg_default)\n",
    "ax.set_xticklabels(ax.get_xticklabels(),rotation=0)\n",
    "plt.show()"
   ]
  },
  {
   "cell_type": "markdown",
   "metadata": {},
   "source": [
    "## housing"
   ]
  },
  {
   "cell_type": "code",
   "execution_count": 31,
   "metadata": {},
   "outputs": [
    {
     "name": "stdout",
     "output_type": "stream",
     "text": [
      "yes        21576\n",
      "no         18622\n",
      "unknown      990\n",
      "Name: housing, dtype: int64\n",
      "****************************************\n",
      "yes        52.38\n",
      "no         45.21\n",
      "unknown     2.40\n",
      "Name: housing, dtype: float64\n"
     ]
    }
   ],
   "source": [
    "print(marketing.housing.value_counts())\n",
    "print('*'*40)\n",
    "print(round(100*marketing.housing.value_counts()/len(marketing),2))"
   ]
  },
  {
   "cell_type": "code",
   "execution_count": 32,
   "metadata": {},
   "outputs": [
    {
     "data": {
      "text/html": [
       "<div>\n",
       "<style scoped>\n",
       "    .dataframe tbody tr th:only-of-type {\n",
       "        vertical-align: middle;\n",
       "    }\n",
       "\n",
       "    .dataframe tbody tr th {\n",
       "        vertical-align: top;\n",
       "    }\n",
       "\n",
       "    .dataframe thead th {\n",
       "        text-align: right;\n",
       "    }\n",
       "</style>\n",
       "<table border=\"1\" class=\"dataframe\">\n",
       "  <thead>\n",
       "    <tr style=\"text-align: right;\">\n",
       "      <th></th>\n",
       "      <th>housing</th>\n",
       "      <th>count_prospects</th>\n",
       "      <th>No_of_prospects</th>\n",
       "      <th>response_rate</th>\n",
       "    </tr>\n",
       "  </thead>\n",
       "  <tbody>\n",
       "    <tr>\n",
       "      <th>0</th>\n",
       "      <td>no</td>\n",
       "      <td>2026</td>\n",
       "      <td>18622</td>\n",
       "      <td>10.88</td>\n",
       "    </tr>\n",
       "    <tr>\n",
       "      <th>1</th>\n",
       "      <td>unknown</td>\n",
       "      <td>107</td>\n",
       "      <td>990</td>\n",
       "      <td>10.81</td>\n",
       "    </tr>\n",
       "    <tr>\n",
       "      <th>2</th>\n",
       "      <td>yes</td>\n",
       "      <td>2507</td>\n",
       "      <td>21576</td>\n",
       "      <td>11.62</td>\n",
       "    </tr>\n",
       "  </tbody>\n",
       "</table>\n",
       "</div>"
      ],
      "text/plain": [
       "   housing  count_prospects  No_of_prospects  response_rate\n",
       "0       no             2026            18622          10.88\n",
       "1  unknown              107              990          10.81\n",
       "2      yes             2507            21576          11.62"
      ]
     },
     "execution_count": 32,
     "metadata": {},
     "output_type": "execute_result"
    }
   ],
   "source": [
    "count_prospects_housing = marketing.groupby('housing')['response'].sum().reset_index(name = 'count_prospects')\n",
    "No_of_prospect_housing = marketing.groupby('housing')['response'].count().reset_index(name = 'No_of_prospects')\n",
    "agg_housing = count_prospects_housing.merge(No_of_prospect_housing, on = 'housing')\n",
    "agg_housing['response_rate'] = 100*(agg_housing['count_prospects']/agg_housing['No_of_prospects']).round(4)\n",
    "agg_housing"
   ]
  },
  {
   "cell_type": "code",
   "execution_count": 33,
   "metadata": {},
   "outputs": [
    {
     "data": {
      "image/png": "[encoded data removed]",
      "text/plain": [
       "<Figure size 432x288 with 1 Axes>"
      ]
     },
     "metadata": {},
     "output_type": "display_data"
    }
   ],
   "source": [
    "ax = sns.barplot(x='housing', y='response_rate', data=agg_housing)\n",
    "ax.set_xticklabels(ax.get_xticklabels(),rotation=0)\n",
    "plt.show()"
   ]
  },
  {
   "cell_type": "markdown",
   "metadata": {},
   "source": [
    "We can see that there is a slight uptick in the response rate for people with housing, though it is probably not very significant"
   ]
  },
  {
   "cell_type": "markdown",
   "metadata": {},
   "source": [
    "## Loan"
   ]
  },
  {
   "cell_type": "code",
   "execution_count": 34,
   "metadata": {},
   "outputs": [
    {
     "name": "stdout",
     "output_type": "stream",
     "text": [
      "no         33950\n",
      "yes         6248\n",
      "unknown      990\n",
      "Name: loan, dtype: int64\n",
      "****************************************\n",
      "no         82.43\n",
      "yes        15.17\n",
      "unknown     2.40\n",
      "Name: loan, dtype: float64\n"
     ]
    }
   ],
   "source": [
    "print(marketing.loan.value_counts())\n",
    "print('*'*40)\n",
    "print(round(100*marketing.loan.value_counts()/len(marketing),2))"
   ]
  },
  {
   "cell_type": "code",
   "execution_count": 35,
   "metadata": {},
   "outputs": [
    {
     "data": {
      "text/html": [
       "<div>\n",
       "<style scoped>\n",
       "    .dataframe tbody tr th:only-of-type {\n",
       "        vertical-align: middle;\n",
       "    }\n",
       "\n",
       "    .dataframe tbody tr th {\n",
       "        vertical-align: top;\n",
       "    }\n",
       "\n",
       "    .dataframe thead th {\n",
       "        text-align: right;\n",
       "    }\n",
       "</style>\n",
       "<table border=\"1\" class=\"dataframe\">\n",
       "  <thead>\n",
       "    <tr style=\"text-align: right;\">\n",
       "      <th></th>\n",
       "      <th>loan</th>\n",
       "      <th>count_prospects</th>\n",
       "      <th>No_of_prospects</th>\n",
       "      <th>response_rate</th>\n",
       "    </tr>\n",
       "  </thead>\n",
       "  <tbody>\n",
       "    <tr>\n",
       "      <th>0</th>\n",
       "      <td>no</td>\n",
       "      <td>3850</td>\n",
       "      <td>33950</td>\n",
       "      <td>11.34</td>\n",
       "    </tr>\n",
       "    <tr>\n",
       "      <th>1</th>\n",
       "      <td>unknown</td>\n",
       "      <td>107</td>\n",
       "      <td>990</td>\n",
       "      <td>10.81</td>\n",
       "    </tr>\n",
       "    <tr>\n",
       "      <th>2</th>\n",
       "      <td>yes</td>\n",
       "      <td>683</td>\n",
       "      <td>6248</td>\n",
       "      <td>10.93</td>\n",
       "    </tr>\n",
       "  </tbody>\n",
       "</table>\n",
       "</div>"
      ],
      "text/plain": [
       "      loan  count_prospects  No_of_prospects  response_rate\n",
       "0       no             3850            33950          11.34\n",
       "1  unknown              107              990          10.81\n",
       "2      yes              683             6248          10.93"
      ]
     },
     "execution_count": 35,
     "metadata": {},
     "output_type": "execute_result"
    }
   ],
   "source": [
    "count_prospects_loan = marketing.groupby('loan')['response'].sum().reset_index(name = 'count_prospects')\n",
    "No_of_prospect_loan = marketing.groupby('loan')['response'].count().reset_index(name = 'No_of_prospects')\n",
    "agg_loan = count_prospects_loan.merge(No_of_prospect_loan, on = 'loan')\n",
    "agg_loan['response_rate'] = 100*(agg_loan['count_prospects']/agg_loan['No_of_prospects']).round(4)\n",
    "agg_loan"
   ]
  },
  {
   "cell_type": "code",
   "execution_count": 36,
   "metadata": {},
   "outputs": [
    {
     "data": {
      "image/png": "[encoded data removed]",
      "text/plain": [
       "<Figure size 432x288 with 1 Axes>"
      ]
     },
     "metadata": {},
     "output_type": "display_data"
    }
   ],
   "source": [
    "ax = sns.barplot(x='loan', y='response_rate', data=agg_loan)\n",
    "ax.set_xticklabels(ax.get_xticklabels(),rotation=0)\n",
    "plt.show()"
   ]
  },
  {
   "cell_type": "markdown",
   "metadata": {},
   "source": [
    "As you can see there seems to be very little correlation between a prospect having a personal loan and the likelihood of him/her responding positively to the investment product"
   ]
  },
  {
   "cell_type": "markdown",
   "metadata": {},
   "source": [
    "## contact"
   ]
  },
  {
   "cell_type": "code",
   "execution_count": 37,
   "metadata": {},
   "outputs": [
    {
     "name": "stdout",
     "output_type": "stream",
     "text": [
      "cellular     26144\n",
      "telephone    15044\n",
      "Name: contact, dtype: int64\n",
      "****************************************\n",
      "cellular     63.47\n",
      "telephone    36.53\n",
      "Name: contact, dtype: float64\n"
     ]
    }
   ],
   "source": [
    "print(marketing.contact.value_counts())\n",
    "print('*'*40)\n",
    "print(round(100*marketing.contact.value_counts()/len(marketing),2))"
   ]
  },
  {
   "cell_type": "code",
   "execution_count": 38,
   "metadata": {},
   "outputs": [
    {
     "data": {
      "text/html": [
       "<div>\n",
       "<style scoped>\n",
       "    .dataframe tbody tr th:only-of-type {\n",
       "        vertical-align: middle;\n",
       "    }\n",
       "\n",
       "    .dataframe tbody tr th {\n",
       "        vertical-align: top;\n",
       "    }\n",
       "\n",
       "    .dataframe thead th {\n",
       "        text-align: right;\n",
       "    }\n",
       "</style>\n",
       "<table border=\"1\" class=\"dataframe\">\n",
       "  <thead>\n",
       "    <tr style=\"text-align: right;\">\n",
       "      <th></th>\n",
       "      <th>contact</th>\n",
       "      <th>count_prospects</th>\n",
       "      <th>No_of_prospects</th>\n",
       "      <th>response_rate</th>\n",
       "    </tr>\n",
       "  </thead>\n",
       "  <tbody>\n",
       "    <tr>\n",
       "      <th>0</th>\n",
       "      <td>cellular</td>\n",
       "      <td>3853</td>\n",
       "      <td>26144</td>\n",
       "      <td>14.74</td>\n",
       "    </tr>\n",
       "    <tr>\n",
       "      <th>1</th>\n",
       "      <td>telephone</td>\n",
       "      <td>787</td>\n",
       "      <td>15044</td>\n",
       "      <td>5.23</td>\n",
       "    </tr>\n",
       "  </tbody>\n",
       "</table>\n",
       "</div>"
      ],
      "text/plain": [
       "     contact  count_prospects  No_of_prospects  response_rate\n",
       "0   cellular             3853            26144          14.74\n",
       "1  telephone              787            15044           5.23"
      ]
     },
     "execution_count": 38,
     "metadata": {},
     "output_type": "execute_result"
    }
   ],
   "source": [
    "count_prospects_contact = marketing.groupby('contact')['response'].sum().reset_index(name = 'count_prospects')\n",
    "No_of_prospect_contact = marketing.groupby('contact')['response'].count().reset_index(name = 'No_of_prospects')\n",
    "agg_contact = count_prospects_contact.merge(No_of_prospect_contact, on = 'contact')\n",
    "agg_contact['response_rate'] = 100*(agg_contact['count_prospects']/agg_contact['No_of_prospects']).round(4)\n",
    "agg_contact"
   ]
  },
  {
   "cell_type": "code",
   "execution_count": 39,
   "metadata": {},
   "outputs": [
    {
     "data": {
      "image/png": "[encoded data removed]",
      "text/plain": [
       "<Figure size 432x288 with 1 Axes>"
      ]
     },
     "metadata": {},
     "output_type": "display_data"
    }
   ],
   "source": [
    "ax = sns.barplot(x='contact', y='response_rate', data=agg_contact)\n",
    "ax.set_xticklabels(ax.get_xticklabels(),rotation=0)\n",
    "plt.show()"
   ]
  },
  {
   "cell_type": "markdown",
   "metadata": {},
   "source": [
    "We can see that the prospective customers contacted through cellular medium are significantly ore likely to opt in to the investment scheme compared to customers contacted through telephonic medium."
   ]
  },
  {
   "cell_type": "markdown",
   "metadata": {},
   "source": [
    "## Month"
   ]
  },
  {
   "cell_type": "code",
   "execution_count": 40,
   "metadata": {},
   "outputs": [
    {
     "name": "stdout",
     "output_type": "stream",
     "text": [
      "may    13769\n",
      "jul     7174\n",
      "aug     6178\n",
      "jun     5318\n",
      "nov     4101\n",
      "apr     2632\n",
      "oct      718\n",
      "sep      570\n",
      "mar      546\n",
      "dec      182\n",
      "Name: month, dtype: int64\n",
      "****************************************\n",
      "may    33.43\n",
      "jul    17.42\n",
      "aug    15.00\n",
      "jun    12.91\n",
      "nov     9.96\n",
      "apr     6.39\n",
      "oct     1.74\n",
      "sep     1.38\n",
      "mar     1.33\n",
      "dec     0.44\n",
      "Name: month, dtype: float64\n"
     ]
    }
   ],
   "source": [
    "print(marketing.month.value_counts())\n",
    "print('*'*40)\n",
    "print(round(100*marketing.month.value_counts()/len(marketing),2))"
   ]
  },
  {
   "cell_type": "code",
   "execution_count": 41,
   "metadata": {},
   "outputs": [
    {
     "data": {
      "text/html": [
       "<div>\n",
       "<style scoped>\n",
       "    .dataframe tbody tr th:only-of-type {\n",
       "        vertical-align: middle;\n",
       "    }\n",
       "\n",
       "    .dataframe tbody tr th {\n",
       "        vertical-align: top;\n",
       "    }\n",
       "\n",
       "    .dataframe thead th {\n",
       "        text-align: right;\n",
       "    }\n",
       "</style>\n",
       "<table border=\"1\" class=\"dataframe\">\n",
       "  <thead>\n",
       "    <tr style=\"text-align: right;\">\n",
       "      <th></th>\n",
       "      <th>month</th>\n",
       "      <th>count_prospects</th>\n",
       "      <th>No_of_prospects</th>\n",
       "      <th>response_rate</th>\n",
       "    </tr>\n",
       "  </thead>\n",
       "  <tbody>\n",
       "    <tr>\n",
       "      <th>0</th>\n",
       "      <td>apr</td>\n",
       "      <td>539</td>\n",
       "      <td>2632</td>\n",
       "      <td>20.48</td>\n",
       "    </tr>\n",
       "    <tr>\n",
       "      <th>1</th>\n",
       "      <td>aug</td>\n",
       "      <td>655</td>\n",
       "      <td>6178</td>\n",
       "      <td>10.60</td>\n",
       "    </tr>\n",
       "    <tr>\n",
       "      <th>2</th>\n",
       "      <td>dec</td>\n",
       "      <td>89</td>\n",
       "      <td>182</td>\n",
       "      <td>48.90</td>\n",
       "    </tr>\n",
       "    <tr>\n",
       "      <th>3</th>\n",
       "      <td>jul</td>\n",
       "      <td>649</td>\n",
       "      <td>7174</td>\n",
       "      <td>9.05</td>\n",
       "    </tr>\n",
       "    <tr>\n",
       "      <th>4</th>\n",
       "      <td>jun</td>\n",
       "      <td>559</td>\n",
       "      <td>5318</td>\n",
       "      <td>10.51</td>\n",
       "    </tr>\n",
       "    <tr>\n",
       "      <th>5</th>\n",
       "      <td>mar</td>\n",
       "      <td>276</td>\n",
       "      <td>546</td>\n",
       "      <td>50.55</td>\n",
       "    </tr>\n",
       "    <tr>\n",
       "      <th>6</th>\n",
       "      <td>may</td>\n",
       "      <td>886</td>\n",
       "      <td>13769</td>\n",
       "      <td>6.43</td>\n",
       "    </tr>\n",
       "    <tr>\n",
       "      <th>7</th>\n",
       "      <td>nov</td>\n",
       "      <td>416</td>\n",
       "      <td>4101</td>\n",
       "      <td>10.14</td>\n",
       "    </tr>\n",
       "    <tr>\n",
       "      <th>8</th>\n",
       "      <td>oct</td>\n",
       "      <td>315</td>\n",
       "      <td>718</td>\n",
       "      <td>43.87</td>\n",
       "    </tr>\n",
       "    <tr>\n",
       "      <th>9</th>\n",
       "      <td>sep</td>\n",
       "      <td>256</td>\n",
       "      <td>570</td>\n",
       "      <td>44.91</td>\n",
       "    </tr>\n",
       "  </tbody>\n",
       "</table>\n",
       "</div>"
      ],
      "text/plain": [
       "  month  count_prospects  No_of_prospects  response_rate\n",
       "0   apr              539             2632          20.48\n",
       "1   aug              655             6178          10.60\n",
       "2   dec               89              182          48.90\n",
       "3   jul              649             7174           9.05\n",
       "4   jun              559             5318          10.51\n",
       "5   mar              276              546          50.55\n",
       "6   may              886            13769           6.43\n",
       "7   nov              416             4101          10.14\n",
       "8   oct              315              718          43.87\n",
       "9   sep              256              570          44.91"
      ]
     },
     "execution_count": 41,
     "metadata": {},
     "output_type": "execute_result"
    }
   ],
   "source": [
    "count_prospects_month = marketing.groupby('month')['response'].sum().reset_index(name = 'count_prospects')\n",
    "No_of_prospect_month = marketing.groupby('month')['response'].count().reset_index(name = 'No_of_prospects')\n",
    "agg_month = count_prospects_month.merge(No_of_prospect_month, on = 'month')\n",
    "agg_month['response_rate'] = 100*(agg_month['count_prospects']/agg_month['No_of_prospects']).round(4)\n",
    "agg_month"
   ]
  },
  {
   "cell_type": "code",
   "execution_count": 42,
   "metadata": {},
   "outputs": [
    {
     "data": {
      "image/png": "[encoded data removed]",
      "text/plain": [
       "<Figure size 432x288 with 1 Axes>"
      ]
     },
     "metadata": {},
     "output_type": "display_data"
    }
   ],
   "source": [
    "ax = sns.barplot(x='month', y='response_rate', data=agg_month)\n",
    "ax.set_xticklabels(ax.get_xticklabels(),rotation=0)\n",
    "plt.show()"
   ]
  },
  {
   "cell_type": "markdown",
   "metadata": {},
   "source": [
    "We can note that the four months of december, march, october and september appear to be the best to contact the potential customers. However, please note that these our months have the fewest data entries as well, so it is not certain, how well it would behave when calls are made at a high volume."
   ]
  },
  {
   "cell_type": "markdown",
   "metadata": {},
   "source": [
    "## Day of the week"
   ]
  },
  {
   "cell_type": "code",
   "execution_count": 43,
   "metadata": {},
   "outputs": [
    {
     "name": "stdout",
     "output_type": "stream",
     "text": [
      "thu    8623\n",
      "mon    8514\n",
      "wed    8134\n",
      "tue    8090\n",
      "fri    7827\n",
      "Name: day_of_week, dtype: int64\n",
      "****************************************\n",
      "thu    20.94\n",
      "mon    20.67\n",
      "wed    19.75\n",
      "tue    19.64\n",
      "fri    19.00\n",
      "Name: day_of_week, dtype: float64\n"
     ]
    }
   ],
   "source": [
    "print(marketing.day_of_week.value_counts())\n",
    "print('*'*40)\n",
    "print(round(100*marketing.day_of_week.value_counts()/len(marketing),2))"
   ]
  },
  {
   "cell_type": "code",
   "execution_count": 44,
   "metadata": {},
   "outputs": [
    {
     "data": {
      "text/html": [
       "<div>\n",
       "<style scoped>\n",
       "    .dataframe tbody tr th:only-of-type {\n",
       "        vertical-align: middle;\n",
       "    }\n",
       "\n",
       "    .dataframe tbody tr th {\n",
       "        vertical-align: top;\n",
       "    }\n",
       "\n",
       "    .dataframe thead th {\n",
       "        text-align: right;\n",
       "    }\n",
       "</style>\n",
       "<table border=\"1\" class=\"dataframe\">\n",
       "  <thead>\n",
       "    <tr style=\"text-align: right;\">\n",
       "      <th></th>\n",
       "      <th>day_of_week</th>\n",
       "      <th>count_prospects</th>\n",
       "      <th>No_of_prospects</th>\n",
       "      <th>response_rate</th>\n",
       "    </tr>\n",
       "  </thead>\n",
       "  <tbody>\n",
       "    <tr>\n",
       "      <th>0</th>\n",
       "      <td>fri</td>\n",
       "      <td>846</td>\n",
       "      <td>7827</td>\n",
       "      <td>10.81</td>\n",
       "    </tr>\n",
       "    <tr>\n",
       "      <th>1</th>\n",
       "      <td>mon</td>\n",
       "      <td>847</td>\n",
       "      <td>8514</td>\n",
       "      <td>9.95</td>\n",
       "    </tr>\n",
       "    <tr>\n",
       "      <th>2</th>\n",
       "      <td>thu</td>\n",
       "      <td>1045</td>\n",
       "      <td>8623</td>\n",
       "      <td>12.12</td>\n",
       "    </tr>\n",
       "    <tr>\n",
       "      <th>3</th>\n",
       "      <td>tue</td>\n",
       "      <td>953</td>\n",
       "      <td>8090</td>\n",
       "      <td>11.78</td>\n",
       "    </tr>\n",
       "    <tr>\n",
       "      <th>4</th>\n",
       "      <td>wed</td>\n",
       "      <td>949</td>\n",
       "      <td>8134</td>\n",
       "      <td>11.67</td>\n",
       "    </tr>\n",
       "  </tbody>\n",
       "</table>\n",
       "</div>"
      ],
      "text/plain": [
       "  day_of_week  count_prospects  No_of_prospects  response_rate\n",
       "0         fri              846             7827          10.81\n",
       "1         mon              847             8514           9.95\n",
       "2         thu             1045             8623          12.12\n",
       "3         tue              953             8090          11.78\n",
       "4         wed              949             8134          11.67"
      ]
     },
     "execution_count": 44,
     "metadata": {},
     "output_type": "execute_result"
    }
   ],
   "source": [
    "count_prospects_day = marketing.groupby('day_of_week')['response'].sum().reset_index(name = 'count_prospects')\n",
    "No_of_prospect_day = marketing.groupby('day_of_week')['response'].count().reset_index(name = 'No_of_prospects')\n",
    "agg_day = count_prospects_day.merge(No_of_prospect_day, on = 'day_of_week')\n",
    "agg_day['response_rate'] = 100*(agg_day['count_prospects']/agg_day['No_of_prospects']).round(4)\n",
    "agg_day"
   ]
  },
  {
   "cell_type": "code",
   "execution_count": 45,
   "metadata": {},
   "outputs": [
    {
     "data": {
      "image/png": "[encoded data removed]",
      "text/plain": [
       "<Figure size 432x288 with 1 Axes>"
      ]
     },
     "metadata": {},
     "output_type": "display_data"
    }
   ],
   "source": [
    "ax = sns.barplot(x='day_of_week', y='response_rate', data=agg_day)\n",
    "ax.set_xticklabels(ax.get_xticklabels(),rotation=0)\n",
    "plt.show()"
   ]
  },
  {
   "cell_type": "markdown",
   "metadata": {},
   "source": [
    "As you can note that response rate is lowest on monday, while being highest on thursday. However, the gap isn't very big."
   ]
  },
  {
   "cell_type": "markdown",
   "metadata": {},
   "source": [
    "## Duration of the call"
   ]
  },
  {
   "cell_type": "code",
   "execution_count": 46,
   "metadata": {},
   "outputs": [
    {
     "data": {
      "image/png": "[encoded data removed]",
      "text/plain": [
       "<Figure size 432x288 with 1 Axes>"
      ]
     },
     "metadata": {},
     "output_type": "display_data"
    }
   ],
   "source": [
    "sns.distplot(marketing.duration)\n",
    "plt.show()"
   ]
  },
  {
   "cell_type": "code",
   "execution_count": 47,
   "metadata": {},
   "outputs": [
    {
     "data": {
      "image/png": "[encoded data removed]",
      "text/plain": [
       "<Figure size 432x288 with 1 Axes>"
      ]
     },
     "metadata": {},
     "output_type": "display_data"
    }
   ],
   "source": [
    "sns.boxplot(x='duration',data = marketing)\n",
    "plt.show()"
   ]
  },
  {
   "cell_type": "code",
   "execution_count": 48,
   "metadata": {},
   "outputs": [
    {
     "data": {
      "text/plain": [
       "count    41188.000000\n",
       "mean       258.285010\n",
       "std        259.279249\n",
       "min          0.000000\n",
       "25%        102.000000\n",
       "50%        180.000000\n",
       "75%        319.000000\n",
       "max       4918.000000\n",
       "Name: duration, dtype: float64"
      ]
     },
     "execution_count": 48,
     "metadata": {},
     "output_type": "execute_result"
    }
   ],
   "source": [
    "marketing.duration.describe()"
   ]
  },
  {
   "cell_type": "code",
   "execution_count": 49,
   "metadata": {},
   "outputs": [],
   "source": [
    "marketing['duration'][marketing['duration']>1271] =1271"
   ]
  },
  {
   "cell_type": "code",
   "execution_count": 50,
   "metadata": {},
   "outputs": [
    {
     "data": {
      "image/png": "[encoded data removed]",
      "text/plain": [
       "<Figure size 432x288 with 1 Axes>"
      ]
     },
     "metadata": {},
     "output_type": "display_data"
    }
   ],
   "source": [
    "sns.boxplot(x='duration',data = marketing)\n",
    "plt.show()"
   ]
  },
  {
   "cell_type": "markdown",
   "metadata": {},
   "source": [
    "## campaign"
   ]
  },
  {
   "cell_type": "code",
   "execution_count": 51,
   "metadata": {},
   "outputs": [
    {
     "data": {
      "image/png": "[encoded data removed]",
      "text/plain": [
       "<Figure size 432x288 with 1 Axes>"
      ]
     },
     "metadata": {},
     "output_type": "display_data"
    }
   ],
   "source": [
    "sns.distplot(marketing.campaign)\n",
    "plt.show()"
   ]
  },
  {
   "cell_type": "code",
   "execution_count": 52,
   "metadata": {},
   "outputs": [
    {
     "data": {
      "image/png": "[encoded data removed]",
      "text/plain": [
       "<Figure size 432x288 with 1 Axes>"
      ]
     },
     "metadata": {},
     "output_type": "display_data"
    }
   ],
   "source": [
    "# We will create a box plot\n",
    "sns.boxplot(x='campaign', data=marketing)\n",
    "plt.show()"
   ]
  },
  {
   "cell_type": "code",
   "execution_count": 53,
   "metadata": {},
   "outputs": [
    {
     "data": {
      "text/plain": [
       "count    41188.000000\n",
       "mean         2.567593\n",
       "std          2.770014\n",
       "min          1.000000\n",
       "25%          1.000000\n",
       "50%          2.000000\n",
       "75%          3.000000\n",
       "95%          7.000000\n",
       "99%         14.000000\n",
       "max         56.000000\n",
       "Name: campaign, dtype: float64"
      ]
     },
     "execution_count": 53,
     "metadata": {},
     "output_type": "execute_result"
    }
   ],
   "source": [
    "marketing.campaign.describe(percentiles = [0.25,0.50,0.75,0.95,0.99])"
   ]
  },
  {
   "cell_type": "markdown",
   "metadata": {},
   "source": [
    "Once again, we can merga all data entries with contacts greater than 14 as having campaign contact as 14"
   ]
  },
  {
   "cell_type": "code",
   "execution_count": 54,
   "metadata": {},
   "outputs": [],
   "source": [
    "marketing.loc[marketing.campaign>14,'campaign'] = 14"
   ]
  },
  {
   "cell_type": "code",
   "execution_count": 55,
   "metadata": {},
   "outputs": [
    {
     "data": {
      "text/html": [
       "<div>\n",
       "<style scoped>\n",
       "    .dataframe tbody tr th:only-of-type {\n",
       "        vertical-align: middle;\n",
       "    }\n",
       "\n",
       "    .dataframe tbody tr th {\n",
       "        vertical-align: top;\n",
       "    }\n",
       "\n",
       "    .dataframe thead th {\n",
       "        text-align: right;\n",
       "    }\n",
       "</style>\n",
       "<table border=\"1\" class=\"dataframe\">\n",
       "  <thead>\n",
       "    <tr style=\"text-align: right;\">\n",
       "      <th></th>\n",
       "      <th>campaign</th>\n",
       "      <th>count_prospects</th>\n",
       "      <th>No_of_prospects</th>\n",
       "      <th>response_rate</th>\n",
       "    </tr>\n",
       "  </thead>\n",
       "  <tbody>\n",
       "    <tr>\n",
       "      <th>0</th>\n",
       "      <td>1</td>\n",
       "      <td>2300</td>\n",
       "      <td>17642</td>\n",
       "      <td>13.04</td>\n",
       "    </tr>\n",
       "    <tr>\n",
       "      <th>1</th>\n",
       "      <td>2</td>\n",
       "      <td>1211</td>\n",
       "      <td>10570</td>\n",
       "      <td>11.46</td>\n",
       "    </tr>\n",
       "    <tr>\n",
       "      <th>2</th>\n",
       "      <td>3</td>\n",
       "      <td>574</td>\n",
       "      <td>5341</td>\n",
       "      <td>10.75</td>\n",
       "    </tr>\n",
       "    <tr>\n",
       "      <th>3</th>\n",
       "      <td>4</td>\n",
       "      <td>249</td>\n",
       "      <td>2651</td>\n",
       "      <td>9.39</td>\n",
       "    </tr>\n",
       "    <tr>\n",
       "      <th>4</th>\n",
       "      <td>5</td>\n",
       "      <td>120</td>\n",
       "      <td>1599</td>\n",
       "      <td>7.50</td>\n",
       "    </tr>\n",
       "    <tr>\n",
       "      <th>5</th>\n",
       "      <td>6</td>\n",
       "      <td>75</td>\n",
       "      <td>979</td>\n",
       "      <td>7.66</td>\n",
       "    </tr>\n",
       "    <tr>\n",
       "      <th>6</th>\n",
       "      <td>7</td>\n",
       "      <td>38</td>\n",
       "      <td>629</td>\n",
       "      <td>6.04</td>\n",
       "    </tr>\n",
       "    <tr>\n",
       "      <th>7</th>\n",
       "      <td>8</td>\n",
       "      <td>17</td>\n",
       "      <td>400</td>\n",
       "      <td>4.25</td>\n",
       "    </tr>\n",
       "    <tr>\n",
       "      <th>8</th>\n",
       "      <td>9</td>\n",
       "      <td>17</td>\n",
       "      <td>283</td>\n",
       "      <td>6.01</td>\n",
       "    </tr>\n",
       "    <tr>\n",
       "      <th>9</th>\n",
       "      <td>10</td>\n",
       "      <td>12</td>\n",
       "      <td>225</td>\n",
       "      <td>5.33</td>\n",
       "    </tr>\n",
       "    <tr>\n",
       "      <th>10</th>\n",
       "      <td>11</td>\n",
       "      <td>12</td>\n",
       "      <td>177</td>\n",
       "      <td>6.78</td>\n",
       "    </tr>\n",
       "    <tr>\n",
       "      <th>11</th>\n",
       "      <td>12</td>\n",
       "      <td>3</td>\n",
       "      <td>125</td>\n",
       "      <td>2.40</td>\n",
       "    </tr>\n",
       "    <tr>\n",
       "      <th>12</th>\n",
       "      <td>13</td>\n",
       "      <td>4</td>\n",
       "      <td>92</td>\n",
       "      <td>4.35</td>\n",
       "    </tr>\n",
       "    <tr>\n",
       "      <th>13</th>\n",
       "      <td>14</td>\n",
       "      <td>8</td>\n",
       "      <td>475</td>\n",
       "      <td>1.68</td>\n",
       "    </tr>\n",
       "  </tbody>\n",
       "</table>\n",
       "</div>"
      ],
      "text/plain": [
       "    campaign  count_prospects  No_of_prospects  response_rate\n",
       "0          1             2300            17642          13.04\n",
       "1          2             1211            10570          11.46\n",
       "2          3              574             5341          10.75\n",
       "3          4              249             2651           9.39\n",
       "4          5              120             1599           7.50\n",
       "5          6               75              979           7.66\n",
       "6          7               38              629           6.04\n",
       "7          8               17              400           4.25\n",
       "8          9               17              283           6.01\n",
       "9         10               12              225           5.33\n",
       "10        11               12              177           6.78\n",
       "11        12                3              125           2.40\n",
       "12        13                4               92           4.35\n",
       "13        14                8              475           1.68"
      ]
     },
     "execution_count": 55,
     "metadata": {},
     "output_type": "execute_result"
    }
   ],
   "source": [
    "count_prospects_campaign = marketing.groupby('campaign')['response'].sum().reset_index(name = 'count_prospects')\n",
    "No_of_prospect_campaign = marketing.groupby('campaign')['response'].count().reset_index(name = 'No_of_prospects')\n",
    "agg_campaign = count_prospects_campaign.merge(No_of_prospect_campaign, on = 'campaign')\n",
    "agg_campaign['response_rate'] = 100*(agg_campaign['count_prospects']/agg_campaign['No_of_prospects']).round(4)\n",
    "agg_campaign"
   ]
  },
  {
   "cell_type": "code",
   "execution_count": 56,
   "metadata": {},
   "outputs": [
    {
     "data": {
      "image/png": "[encoded data removed]",
      "text/plain": [
       "<Figure size 432x288 with 1 Axes>"
      ]
     },
     "metadata": {},
     "output_type": "display_data"
    }
   ],
   "source": [
    "ax = sns.barplot(x='campaign', y='response_rate', data=agg_campaign)\n",
    "ax.set_xticklabels(ax.get_xticklabels(),rotation=0)\n",
    "plt.show()"
   ]
  },
  {
   "cell_type": "markdown",
   "metadata": {},
   "source": [
    "Interesting to note, that the response rate gradually decreases as the number of campaign contacts increases."
   ]
  },
  {
   "cell_type": "markdown",
   "metadata": {},
   "source": [
    "## Gap after the last contact"
   ]
  },
  {
   "cell_type": "code",
   "execution_count": 57,
   "metadata": {},
   "outputs": [
    {
     "data": {
      "text/plain": [
       "999    39673\n",
       "3        439\n",
       "6        412\n",
       "4        118\n",
       "9         64\n",
       "2         61\n",
       "7         60\n",
       "12        58\n",
       "10        52\n",
       "5         46\n",
       "13        36\n",
       "11        28\n",
       "1         26\n",
       "15        24\n",
       "14        20\n",
       "8         18\n",
       "0         15\n",
       "16        11\n",
       "17         8\n",
       "18         7\n",
       "19         3\n",
       "22         3\n",
       "21         2\n",
       "26         1\n",
       "20         1\n",
       "25         1\n",
       "27         1\n",
       "Name: pdays, dtype: int64"
      ]
     },
     "execution_count": 57,
     "metadata": {},
     "output_type": "execute_result"
    }
   ],
   "source": [
    "marketing.pdays.value_counts()"
   ]
  },
  {
   "cell_type": "markdown",
   "metadata": {},
   "source": [
    "We are going to divide the pdays into three buckets, that is contacted within the first ten days, contacted after first ten days and first time contacted. Note that the pdays value of 999 means client was bot previously contacted."
   ]
  },
  {
   "cell_type": "code",
   "execution_count": 58,
   "metadata": {},
   "outputs": [
    {
     "data": {
      "text/plain": [
       "First_time_contacted         39673\n",
       "Contacted_in_first_10days     1311\n",
       "Contacted_after_10days         204\n",
       "Name: pdays, dtype: int64"
      ]
     },
     "execution_count": 58,
     "metadata": {},
     "output_type": "execute_result"
    }
   ],
   "source": [
    "marketing['pdays'][marketing['pdays'].isin([0,1,2,3,4,5,6,7,8,9,10])]='Contacted_in_first_10days'\n",
    "marketing['pdays'][marketing['pdays'].isin([999])]='First_time_contacted'\n",
    "marketing['pdays'][~marketing['pdays'].isin(['Contacted_in_first_10days','First_time_contacted'])]='Contacted_after_10days'\n",
    "marketing['pdays'].value_counts()"
   ]
  },
  {
   "cell_type": "code",
   "execution_count": 59,
   "metadata": {},
   "outputs": [
    {
     "data": {
      "text/html": [
       "<div>\n",
       "<style scoped>\n",
       "    .dataframe tbody tr th:only-of-type {\n",
       "        vertical-align: middle;\n",
       "    }\n",
       "\n",
       "    .dataframe tbody tr th {\n",
       "        vertical-align: top;\n",
       "    }\n",
       "\n",
       "    .dataframe thead th {\n",
       "        text-align: right;\n",
       "    }\n",
       "</style>\n",
       "<table border=\"1\" class=\"dataframe\">\n",
       "  <thead>\n",
       "    <tr style=\"text-align: right;\">\n",
       "      <th></th>\n",
       "      <th>pdays</th>\n",
       "      <th>count_prospects</th>\n",
       "      <th>No_of_prospects</th>\n",
       "      <th>response_rate</th>\n",
       "    </tr>\n",
       "  </thead>\n",
       "  <tbody>\n",
       "    <tr>\n",
       "      <th>0</th>\n",
       "      <td>Contacted_after_10days</td>\n",
       "      <td>116</td>\n",
       "      <td>204</td>\n",
       "      <td>56.86</td>\n",
       "    </tr>\n",
       "    <tr>\n",
       "      <th>1</th>\n",
       "      <td>Contacted_in_first_10days</td>\n",
       "      <td>851</td>\n",
       "      <td>1311</td>\n",
       "      <td>64.91</td>\n",
       "    </tr>\n",
       "    <tr>\n",
       "      <th>2</th>\n",
       "      <td>First_time_contacted</td>\n",
       "      <td>3673</td>\n",
       "      <td>39673</td>\n",
       "      <td>9.26</td>\n",
       "    </tr>\n",
       "  </tbody>\n",
       "</table>\n",
       "</div>"
      ],
      "text/plain": [
       "                       pdays  count_prospects  No_of_prospects  response_rate\n",
       "0     Contacted_after_10days              116              204          56.86\n",
       "1  Contacted_in_first_10days              851             1311          64.91\n",
       "2       First_time_contacted             3673            39673           9.26"
      ]
     },
     "execution_count": 59,
     "metadata": {},
     "output_type": "execute_result"
    }
   ],
   "source": [
    "count_prospects_pdays = marketing.groupby('pdays')['response'].sum().reset_index(name = 'count_prospects')\n",
    "No_of_prospect_pdays = marketing.groupby('pdays')['response'].count().reset_index(name = 'No_of_prospects')\n",
    "agg_pdays = count_prospects_pdays.merge(No_of_prospect_pdays, on = 'pdays')\n",
    "agg_pdays['response_rate'] = 100*(agg_pdays['count_prospects']/agg_pdays['No_of_prospects']).round(4)\n",
    "agg_pdays"
   ]
  },
  {
   "cell_type": "code",
   "execution_count": 60,
   "metadata": {},
   "outputs": [
    {
     "data": {
      "image/png": "[encoded data removed]",
      "text/plain": [
       "<Figure size 432x288 with 1 Axes>"
      ]
     },
     "metadata": {},
     "output_type": "display_data"
    }
   ],
   "source": [
    "ax = sns.barplot(x='pdays', y='response_rate', data=agg_pdays)\n",
    "ax.set_xticklabels(ax.get_xticklabels(),rotation=10)\n",
    "plt.show()"
   ]
  },
  {
   "cell_type": "markdown",
   "metadata": {},
   "source": [
    "Though there is a huge difference in the response rates of the three categories, it is important to note that there is also a huge difference in the volume of data entries in these categories"
   ]
  },
  {
   "cell_type": "markdown",
   "metadata": {},
   "source": [
    "## Previous"
   ]
  },
  {
   "cell_type": "code",
   "execution_count": 61,
   "metadata": {},
   "outputs": [
    {
     "data": {
      "text/plain": [
       "0    35563\n",
       "1     4561\n",
       "2      754\n",
       "3      216\n",
       "4       70\n",
       "5       18\n",
       "6        5\n",
       "7        1\n",
       "Name: previous, dtype: int64"
      ]
     },
     "execution_count": 61,
     "metadata": {},
     "output_type": "execute_result"
    }
   ],
   "source": [
    "marketing.previous.value_counts()"
   ]
  },
  {
   "cell_type": "markdown",
   "metadata": {},
   "source": [
    "Since the data ranges from 0 to 7, we are going to break it into three categories, that is never contacted, contacted less than three times and contacted greater than three times"
   ]
  },
  {
   "cell_type": "code",
   "execution_count": 62,
   "metadata": {},
   "outputs": [],
   "source": [
    "marketing['previous'][marketing['previous'].isin([0])]='Never contacted'\n",
    "marketing['previous'][marketing['previous'].isin([1,2,3])]='Less_than_3_times'\n",
    "marketing['previous'][marketing['previous'].isin([4,5,6,7])]='More than_3_times'"
   ]
  },
  {
   "cell_type": "code",
   "execution_count": 63,
   "metadata": {},
   "outputs": [
    {
     "data": {
      "text/plain": [
       "Never contacted      35563\n",
       "Less_than_3_times     5531\n",
       "More than_3_times       94\n",
       "Name: previous, dtype: int64"
      ]
     },
     "execution_count": 63,
     "metadata": {},
     "output_type": "execute_result"
    }
   ],
   "source": [
    "marketing.previous.value_counts()"
   ]
  },
  {
   "cell_type": "code",
   "execution_count": 64,
   "metadata": {},
   "outputs": [
    {
     "data": {
      "text/html": [
       "<div>\n",
       "<style scoped>\n",
       "    .dataframe tbody tr th:only-of-type {\n",
       "        vertical-align: middle;\n",
       "    }\n",
       "\n",
       "    .dataframe tbody tr th {\n",
       "        vertical-align: top;\n",
       "    }\n",
       "\n",
       "    .dataframe thead th {\n",
       "        text-align: right;\n",
       "    }\n",
       "</style>\n",
       "<table border=\"1\" class=\"dataframe\">\n",
       "  <thead>\n",
       "    <tr style=\"text-align: right;\">\n",
       "      <th></th>\n",
       "      <th>previous</th>\n",
       "      <th>count_prospects</th>\n",
       "      <th>No_of_prospects</th>\n",
       "      <th>response_rate</th>\n",
       "    </tr>\n",
       "  </thead>\n",
       "  <tbody>\n",
       "    <tr>\n",
       "      <th>0</th>\n",
       "      <td>Less_than_3_times</td>\n",
       "      <td>1445</td>\n",
       "      <td>5531</td>\n",
       "      <td>26.13</td>\n",
       "    </tr>\n",
       "    <tr>\n",
       "      <th>1</th>\n",
       "      <td>More than_3_times</td>\n",
       "      <td>54</td>\n",
       "      <td>94</td>\n",
       "      <td>57.45</td>\n",
       "    </tr>\n",
       "    <tr>\n",
       "      <th>2</th>\n",
       "      <td>Never contacted</td>\n",
       "      <td>3141</td>\n",
       "      <td>35563</td>\n",
       "      <td>8.83</td>\n",
       "    </tr>\n",
       "  </tbody>\n",
       "</table>\n",
       "</div>"
      ],
      "text/plain": [
       "            previous  count_prospects  No_of_prospects  response_rate\n",
       "0  Less_than_3_times             1445             5531          26.13\n",
       "1  More than_3_times               54               94          57.45\n",
       "2    Never contacted             3141            35563           8.83"
      ]
     },
     "execution_count": 64,
     "metadata": {},
     "output_type": "execute_result"
    }
   ],
   "source": [
    "count_prospects_previous = marketing.groupby('previous')['response'].sum().reset_index(name = 'count_prospects')\n",
    "No_of_prospect_previous = marketing.groupby('previous')['response'].count().reset_index(name = 'No_of_prospects')\n",
    "agg_previous = count_prospects_previous.merge(No_of_prospect_previous, on = 'previous')\n",
    "agg_previous['response_rate'] = 100*(agg_previous['count_prospects']/agg_previous['No_of_prospects']).round(4)\n",
    "agg_previous"
   ]
  },
  {
   "cell_type": "code",
   "execution_count": 65,
   "metadata": {},
   "outputs": [
    {
     "data": {
      "image/png": "[encoded data removed]",
      "text/plain": [
       "<Figure size 432x288 with 1 Axes>"
      ]
     },
     "metadata": {},
     "output_type": "display_data"
    }
   ],
   "source": [
    "ax = sns.barplot(x='previous', y='response_rate', data=agg_previous)\n",
    "ax.set_xticklabels(ax.get_xticklabels(),rotation=0)\n",
    "plt.show()"
   ]
  },
  {
   "cell_type": "markdown",
   "metadata": {},
   "source": [
    "## Employment Variation rate"
   ]
  },
  {
   "cell_type": "code",
   "execution_count": 66,
   "metadata": {},
   "outputs": [
    {
     "data": {
      "image/png": "[encoded data removed]",
      "text/plain": [
       "<Figure size 432x288 with 1 Axes>"
      ]
     },
     "metadata": {},
     "output_type": "display_data"
    }
   ],
   "source": [
    "sns.distplot(marketing['emp.var.rate'])\n",
    "plt.show()"
   ]
  },
  {
   "cell_type": "code",
   "execution_count": 67,
   "metadata": {},
   "outputs": [
    {
     "data": {
      "text/plain": [
       "count    41188.000000\n",
       "mean         0.081886\n",
       "std          1.570960\n",
       "min         -3.400000\n",
       "25%         -1.800000\n",
       "50%          1.100000\n",
       "75%          1.400000\n",
       "95%          1.400000\n",
       "99%          1.400000\n",
       "max          1.400000\n",
       "Name: emp.var.rate, dtype: float64"
      ]
     },
     "execution_count": 67,
     "metadata": {},
     "output_type": "execute_result"
    }
   ],
   "source": [
    "marketing['emp.var.rate'].describe(percentiles = [0.25,0.50,0.75,0.95,0.99])"
   ]
  },
  {
   "cell_type": "code",
   "execution_count": 68,
   "metadata": {},
   "outputs": [
    {
     "data": {
      "text/plain": [
       " 1.4    16234\n",
       "-1.8     9184\n",
       " 1.1     7763\n",
       "-0.1     3683\n",
       "-2.9     1663\n",
       "-3.4     1071\n",
       "-1.7      773\n",
       "-1.1      635\n",
       "-3.0      172\n",
       "-0.2       10\n",
       "Name: emp.var.rate, dtype: int64"
      ]
     },
     "execution_count": 68,
     "metadata": {},
     "output_type": "execute_result"
    }
   ],
   "source": [
    "marketing['emp.var.rate'].value_counts()"
   ]
  },
  {
   "cell_type": "code",
   "execution_count": 69,
   "metadata": {},
   "outputs": [
    {
     "data": {
      "text/html": [
       "<div>\n",
       "<style scoped>\n",
       "    .dataframe tbody tr th:only-of-type {\n",
       "        vertical-align: middle;\n",
       "    }\n",
       "\n",
       "    .dataframe tbody tr th {\n",
       "        vertical-align: top;\n",
       "    }\n",
       "\n",
       "    .dataframe thead th {\n",
       "        text-align: right;\n",
       "    }\n",
       "</style>\n",
       "<table border=\"1\" class=\"dataframe\">\n",
       "  <thead>\n",
       "    <tr style=\"text-align: right;\">\n",
       "      <th></th>\n",
       "      <th>emp.var.rate</th>\n",
       "      <th>count_prospects</th>\n",
       "      <th>No_of_prospects</th>\n",
       "      <th>response_rate</th>\n",
       "    </tr>\n",
       "  </thead>\n",
       "  <tbody>\n",
       "    <tr>\n",
       "      <th>0</th>\n",
       "      <td>-3.4</td>\n",
       "      <td>454</td>\n",
       "      <td>1071</td>\n",
       "      <td>42.39</td>\n",
       "    </tr>\n",
       "    <tr>\n",
       "      <th>1</th>\n",
       "      <td>-3.0</td>\n",
       "      <td>88</td>\n",
       "      <td>172</td>\n",
       "      <td>51.16</td>\n",
       "    </tr>\n",
       "    <tr>\n",
       "      <th>2</th>\n",
       "      <td>-2.9</td>\n",
       "      <td>594</td>\n",
       "      <td>1663</td>\n",
       "      <td>35.72</td>\n",
       "    </tr>\n",
       "    <tr>\n",
       "      <th>3</th>\n",
       "      <td>-1.8</td>\n",
       "      <td>1461</td>\n",
       "      <td>9184</td>\n",
       "      <td>15.91</td>\n",
       "    </tr>\n",
       "    <tr>\n",
       "      <th>4</th>\n",
       "      <td>-1.7</td>\n",
       "      <td>403</td>\n",
       "      <td>773</td>\n",
       "      <td>52.13</td>\n",
       "    </tr>\n",
       "    <tr>\n",
       "      <th>5</th>\n",
       "      <td>-1.1</td>\n",
       "      <td>301</td>\n",
       "      <td>635</td>\n",
       "      <td>47.40</td>\n",
       "    </tr>\n",
       "    <tr>\n",
       "      <th>6</th>\n",
       "      <td>-0.2</td>\n",
       "      <td>1</td>\n",
       "      <td>10</td>\n",
       "      <td>10.00</td>\n",
       "    </tr>\n",
       "    <tr>\n",
       "      <th>7</th>\n",
       "      <td>-0.1</td>\n",
       "      <td>232</td>\n",
       "      <td>3683</td>\n",
       "      <td>6.30</td>\n",
       "    </tr>\n",
       "    <tr>\n",
       "      <th>8</th>\n",
       "      <td>1.1</td>\n",
       "      <td>240</td>\n",
       "      <td>7763</td>\n",
       "      <td>3.09</td>\n",
       "    </tr>\n",
       "    <tr>\n",
       "      <th>9</th>\n",
       "      <td>1.4</td>\n",
       "      <td>866</td>\n",
       "      <td>16234</td>\n",
       "      <td>5.33</td>\n",
       "    </tr>\n",
       "  </tbody>\n",
       "</table>\n",
       "</div>"
      ],
      "text/plain": [
       "   emp.var.rate  count_prospects  No_of_prospects  response_rate\n",
       "0          -3.4              454             1071          42.39\n",
       "1          -3.0               88              172          51.16\n",
       "2          -2.9              594             1663          35.72\n",
       "3          -1.8             1461             9184          15.91\n",
       "4          -1.7              403              773          52.13\n",
       "5          -1.1              301              635          47.40\n",
       "6          -0.2                1               10          10.00\n",
       "7          -0.1              232             3683           6.30\n",
       "8           1.1              240             7763           3.09\n",
       "9           1.4              866            16234           5.33"
      ]
     },
     "execution_count": 69,
     "metadata": {},
     "output_type": "execute_result"
    }
   ],
   "source": [
    "count_prospects_emp_var_rate = marketing.groupby('emp.var.rate')['response'].sum().reset_index(name = 'count_prospects')\n",
    "No_of_prospect_emp_var_rate = marketing.groupby('emp.var.rate')['response'].count().reset_index(name = 'No_of_prospects')\n",
    "agg_emp_var_rate = count_prospects_emp_var_rate.merge(No_of_prospect_emp_var_rate, on = 'emp.var.rate')\n",
    "agg_emp_var_rate['response_rate'] = 100*(agg_emp_var_rate['count_prospects']/agg_emp_var_rate['No_of_prospects']).round(4)\n",
    "agg_emp_var_rate"
   ]
  },
  {
   "cell_type": "code",
   "execution_count": 70,
   "metadata": {},
   "outputs": [
    {
     "data": {
      "image/png": "[encoded data removed]",
      "text/plain": [
       "<Figure size 432x288 with 1 Axes>"
      ]
     },
     "metadata": {},
     "output_type": "display_data"
    }
   ],
   "source": [
    "ax = sns.barplot(x='emp.var.rate', y='response_rate', data=agg_emp_var_rate)\n",
    "ax.set_xticklabels(ax.get_xticklabels(),rotation=0)\n",
    "plt.show()"
   ]
  },
  {
   "cell_type": "markdown",
   "metadata": {},
   "source": [
    "We can note that a negative employment variation rate seems to be related to higher response rates."
   ]
  },
  {
   "cell_type": "markdown",
   "metadata": {},
   "source": [
    "## Consumer Price Index"
   ]
  },
  {
   "cell_type": "code",
   "execution_count": 71,
   "metadata": {},
   "outputs": [
    {
     "data": {
      "image/png": "[encoded data removed]",
      "text/plain": [
       "<Figure size 432x288 with 1 Axes>"
      ]
     },
     "metadata": {},
     "output_type": "display_data"
    }
   ],
   "source": [
    "sns.distplot(marketing['cons.price.idx'])\n",
    "plt.show()"
   ]
  },
  {
   "cell_type": "code",
   "execution_count": 72,
   "metadata": {},
   "outputs": [
    {
     "name": "stdout",
     "output_type": "stream",
     "text": [
      "count    41188.000000\n",
      "mean        93.575664\n",
      "std          0.578840\n",
      "min         92.201000\n",
      "25%         93.075000\n",
      "50%         93.749000\n",
      "75%         93.994000\n",
      "95%         94.465000\n",
      "99%         94.465000\n",
      "max         94.767000\n",
      "Name: cons.price.idx, dtype: float64\n",
      "****************************************\n",
      "-36.4    7763\n",
      "-42.7    6685\n",
      "-46.2    5794\n",
      "-36.1    5175\n",
      "-41.8    4374\n",
      "-42.0    3616\n",
      "-47.1    2458\n",
      "-31.4     770\n",
      "-40.8     715\n",
      "-26.9     447\n",
      "-30.1     357\n",
      "-40.3     311\n",
      "-37.5     303\n",
      "-50.0     282\n",
      "-29.8     267\n",
      "-34.8     264\n",
      "-38.3     233\n",
      "-39.8     229\n",
      "-40.0     212\n",
      "-49.5     204\n",
      "-33.6     178\n",
      "-34.6     174\n",
      "-33.0     172\n",
      "-50.8     128\n",
      "-40.4      67\n",
      "-45.9      10\n",
      "Name: cons.conf.idx, dtype: int64\n"
     ]
    }
   ],
   "source": [
    "print(marketing['cons.price.idx'].describe(percentiles = [0.25,0.50,0.75,0.95,0.99]))\n",
    "print('*'*40)\n",
    "print(marketing['cons.conf.idx'].value_counts())"
   ]
  },
  {
   "cell_type": "markdown",
   "metadata": {},
   "source": [
    "## Euribor three month rate"
   ]
  },
  {
   "cell_type": "code",
   "execution_count": 73,
   "metadata": {},
   "outputs": [
    {
     "data": {
      "image/png": "[encoded data removed]",
      "text/plain": [
       "<Figure size 432x288 with 1 Axes>"
      ]
     },
     "metadata": {},
     "output_type": "display_data"
    }
   ],
   "source": [
    "sns.distplot(marketing['euribor3m'])\n",
    "plt.show()"
   ]
  },
  {
   "cell_type": "code",
   "execution_count": 74,
   "metadata": {},
   "outputs": [
    {
     "data": {
      "text/plain": [
       "count    41188.000000\n",
       "mean         3.621291\n",
       "std          1.734447\n",
       "min          0.634000\n",
       "25%          1.344000\n",
       "50%          4.857000\n",
       "75%          4.961000\n",
       "95%          4.966000\n",
       "99%          4.968000\n",
       "max          5.045000\n",
       "Name: euribor3m, dtype: float64"
      ]
     },
     "execution_count": 74,
     "metadata": {},
     "output_type": "execute_result"
    }
   ],
   "source": [
    "marketing['euribor3m'].describe(percentiles = [0.25,0.50,0.75,0.95,0.99])"
   ]
  },
  {
   "cell_type": "markdown",
   "metadata": {},
   "source": [
    "## Number of Employees"
   ]
  },
  {
   "cell_type": "code",
   "execution_count": 75,
   "metadata": {},
   "outputs": [
    {
     "data": {
      "image/png": "[encoded data removed]",
      "text/plain": [
       "<Figure size 432x288 with 1 Axes>"
      ]
     },
     "metadata": {},
     "output_type": "display_data"
    }
   ],
   "source": [
    "sns.distplot(marketing['nr.employed'])\n",
    "plt.show()"
   ]
  },
  {
   "cell_type": "code",
   "execution_count": 76,
   "metadata": {},
   "outputs": [
    {
     "name": "stdout",
     "output_type": "stream",
     "text": [
      "5228.1    16234\n",
      "5099.1     8534\n",
      "5191.0     7763\n",
      "5195.8     3683\n",
      "5076.2     1663\n",
      "5017.5     1071\n",
      "4991.6      773\n",
      "5008.7      650\n",
      "4963.6      635\n",
      "5023.5      172\n",
      "5176.3       10\n",
      "Name: nr.employed, dtype: int64\n",
      "****************************************\n"
     ]
    },
    {
     "data": {
      "text/plain": [
       "count    41188.000000\n",
       "mean      5167.035911\n",
       "std         72.251528\n",
       "min       4963.600000\n",
       "25%       5099.100000\n",
       "50%       5191.000000\n",
       "75%       5228.100000\n",
       "95%       5228.100000\n",
       "99%       5228.100000\n",
       "max       5228.100000\n",
       "Name: nr.employed, dtype: float64"
      ]
     },
     "execution_count": 76,
     "metadata": {},
     "output_type": "execute_result"
    }
   ],
   "source": [
    "print(marketing['nr.employed'].value_counts())\n",
    "print('*'*40)\n",
    "marketing['nr.employed'].describe(percentiles = [0.25,0.50,0.75,0.95,0.99])"
   ]
  },
  {
   "cell_type": "markdown",
   "metadata": {},
   "source": [
    "Now that we have completed basic exploratory analysis, we can move to the next stage, that is data cleaning and data preparation"
   ]
  },
  {
   "cell_type": "markdown",
   "metadata": {},
   "source": [
    "## Checpoint 1 : Data preparation"
   ]
  },
  {
   "cell_type": "code",
   "execution_count": 77,
   "metadata": {},
   "outputs": [],
   "source": [
    "marketing.drop('age_bins',axis = 1,inplace = True)"
   ]
  },
  {
   "cell_type": "code",
   "execution_count": 78,
   "metadata": {},
   "outputs": [
    {
     "data": {
      "text/html": [
       "<div>\n",
       "<style scoped>\n",
       "    .dataframe tbody tr th:only-of-type {\n",
       "        vertical-align: middle;\n",
       "    }\n",
       "\n",
       "    .dataframe tbody tr th {\n",
       "        vertical-align: top;\n",
       "    }\n",
       "\n",
       "    .dataframe thead th {\n",
       "        text-align: right;\n",
       "    }\n",
       "</style>\n",
       "<table border=\"1\" class=\"dataframe\">\n",
       "  <thead>\n",
       "    <tr style=\"text-align: right;\">\n",
       "      <th></th>\n",
       "      <th>age</th>\n",
       "      <th>duration</th>\n",
       "      <th>campaign</th>\n",
       "      <th>emp.var.rate</th>\n",
       "      <th>cons.price.idx</th>\n",
       "      <th>cons.conf.idx</th>\n",
       "      <th>euribor3m</th>\n",
       "      <th>nr.employed</th>\n",
       "      <th>response</th>\n",
       "      <th>job_blue-collar</th>\n",
       "      <th>...</th>\n",
       "      <th>day_of_week_mon</th>\n",
       "      <th>day_of_week_thu</th>\n",
       "      <th>day_of_week_tue</th>\n",
       "      <th>day_of_week_wed</th>\n",
       "      <th>pdays_Contacted_in_first_10days</th>\n",
       "      <th>pdays_First_time_contacted</th>\n",
       "      <th>previous_More than_3_times</th>\n",
       "      <th>previous_Never contacted</th>\n",
       "      <th>poutcome_nonexistent</th>\n",
       "      <th>poutcome_success</th>\n",
       "    </tr>\n",
       "  </thead>\n",
       "  <tbody>\n",
       "    <tr>\n",
       "      <th>0</th>\n",
       "      <td>56</td>\n",
       "      <td>261</td>\n",
       "      <td>1</td>\n",
       "      <td>1.1</td>\n",
       "      <td>93.994</td>\n",
       "      <td>-36.4</td>\n",
       "      <td>4.857</td>\n",
       "      <td>5191.0</td>\n",
       "      <td>0</td>\n",
       "      <td>0</td>\n",
       "      <td>...</td>\n",
       "      <td>1</td>\n",
       "      <td>0</td>\n",
       "      <td>0</td>\n",
       "      <td>0</td>\n",
       "      <td>0</td>\n",
       "      <td>1</td>\n",
       "      <td>0</td>\n",
       "      <td>1</td>\n",
       "      <td>1</td>\n",
       "      <td>0</td>\n",
       "    </tr>\n",
       "    <tr>\n",
       "      <th>1</th>\n",
       "      <td>57</td>\n",
       "      <td>149</td>\n",
       "      <td>1</td>\n",
       "      <td>1.1</td>\n",
       "      <td>93.994</td>\n",
       "      <td>-36.4</td>\n",
       "      <td>4.857</td>\n",
       "      <td>5191.0</td>\n",
       "      <td>0</td>\n",
       "      <td>0</td>\n",
       "      <td>...</td>\n",
       "      <td>1</td>\n",
       "      <td>0</td>\n",
       "      <td>0</td>\n",
       "      <td>0</td>\n",
       "      <td>0</td>\n",
       "      <td>1</td>\n",
       "      <td>0</td>\n",
       "      <td>1</td>\n",
       "      <td>1</td>\n",
       "      <td>0</td>\n",
       "    </tr>\n",
       "    <tr>\n",
       "      <th>2</th>\n",
       "      <td>37</td>\n",
       "      <td>226</td>\n",
       "      <td>1</td>\n",
       "      <td>1.1</td>\n",
       "      <td>93.994</td>\n",
       "      <td>-36.4</td>\n",
       "      <td>4.857</td>\n",
       "      <td>5191.0</td>\n",
       "      <td>0</td>\n",
       "      <td>0</td>\n",
       "      <td>...</td>\n",
       "      <td>1</td>\n",
       "      <td>0</td>\n",
       "      <td>0</td>\n",
       "      <td>0</td>\n",
       "      <td>0</td>\n",
       "      <td>1</td>\n",
       "      <td>0</td>\n",
       "      <td>1</td>\n",
       "      <td>1</td>\n",
       "      <td>0</td>\n",
       "    </tr>\n",
       "    <tr>\n",
       "      <th>3</th>\n",
       "      <td>40</td>\n",
       "      <td>151</td>\n",
       "      <td>1</td>\n",
       "      <td>1.1</td>\n",
       "      <td>93.994</td>\n",
       "      <td>-36.4</td>\n",
       "      <td>4.857</td>\n",
       "      <td>5191.0</td>\n",
       "      <td>0</td>\n",
       "      <td>0</td>\n",
       "      <td>...</td>\n",
       "      <td>1</td>\n",
       "      <td>0</td>\n",
       "      <td>0</td>\n",
       "      <td>0</td>\n",
       "      <td>0</td>\n",
       "      <td>1</td>\n",
       "      <td>0</td>\n",
       "      <td>1</td>\n",
       "      <td>1</td>\n",
       "      <td>0</td>\n",
       "    </tr>\n",
       "    <tr>\n",
       "      <th>4</th>\n",
       "      <td>56</td>\n",
       "      <td>307</td>\n",
       "      <td>1</td>\n",
       "      <td>1.1</td>\n",
       "      <td>93.994</td>\n",
       "      <td>-36.4</td>\n",
       "      <td>4.857</td>\n",
       "      <td>5191.0</td>\n",
       "      <td>0</td>\n",
       "      <td>0</td>\n",
       "      <td>...</td>\n",
       "      <td>1</td>\n",
       "      <td>0</td>\n",
       "      <td>0</td>\n",
       "      <td>0</td>\n",
       "      <td>0</td>\n",
       "      <td>1</td>\n",
       "      <td>0</td>\n",
       "      <td>1</td>\n",
       "      <td>1</td>\n",
       "      <td>0</td>\n",
       "    </tr>\n",
       "  </tbody>\n",
       "</table>\n",
       "<p>5 rows × 52 columns</p>\n",
       "</div>"
      ],
      "text/plain": [
       "   age  duration  campaign  emp.var.rate  cons.price.idx  cons.conf.idx  \\\n",
       "0   56       261         1           1.1          93.994          -36.4   \n",
       "1   57       149         1           1.1          93.994          -36.4   \n",
       "2   37       226         1           1.1          93.994          -36.4   \n",
       "3   40       151         1           1.1          93.994          -36.4   \n",
       "4   56       307         1           1.1          93.994          -36.4   \n",
       "\n",
       "   euribor3m  nr.employed  response  job_blue-collar  ...  day_of_week_mon  \\\n",
       "0      4.857       5191.0         0                0  ...                1   \n",
       "1      4.857       5191.0         0                0  ...                1   \n",
       "2      4.857       5191.0         0                0  ...                1   \n",
       "3      4.857       5191.0         0                0  ...                1   \n",
       "4      4.857       5191.0         0                0  ...                1   \n",
       "\n",
       "   day_of_week_thu  day_of_week_tue  day_of_week_wed  \\\n",
       "0                0                0                0   \n",
       "1                0                0                0   \n",
       "2                0                0                0   \n",
       "3                0                0                0   \n",
       "4                0                0                0   \n",
       "\n",
       "   pdays_Contacted_in_first_10days  pdays_First_time_contacted  \\\n",
       "0                                0                           1   \n",
       "1                                0                           1   \n",
       "2                                0                           1   \n",
       "3                                0                           1   \n",
       "4                                0                           1   \n",
       "\n",
       "   previous_More than_3_times  previous_Never contacted  poutcome_nonexistent  \\\n",
       "0                           0                         1                     1   \n",
       "1                           0                         1                     1   \n",
       "2                           0                         1                     1   \n",
       "3                           0                         1                     1   \n",
       "4                           0                         1                     1   \n",
       "\n",
       "   poutcome_success  \n",
       "0                 0  \n",
       "1                 0  \n",
       "2                 0  \n",
       "3                 0  \n",
       "4                 0  \n",
       "\n",
       "[5 rows x 52 columns]"
      ]
     },
     "execution_count": 78,
     "metadata": {},
     "output_type": "execute_result"
    }
   ],
   "source": [
    "# Creating a dummy variable for the variable 'job' and dropping the first one.\n",
    "job = pd.get_dummies(marketing['job'],prefix='job',drop_first=True)\n",
    "marketing = pd.concat([marketing,job],axis=1)\n",
    "\n",
    "# Creating dummy variable for marital column\n",
    "marital = pd.get_dummies(marketing['marital'],prefix='marital',drop_first=True)\n",
    "marketing = pd.concat([marketing,marital],axis=1)\n",
    "\n",
    "# Creating dummy variable for education column\n",
    "education = pd.get_dummies(marketing['education'],prefix='education',drop_first=True)\n",
    "marketing = pd.concat([marketing,education],axis=1)\n",
    "\n",
    "# Creating dummy variable for default column\n",
    "default = pd.get_dummies(marketing['default'],prefix='default',drop_first=True)\n",
    "marketing = pd.concat([marketing,default],axis=1)\n",
    "\n",
    "# Creating dummy variable for housing column\n",
    "housing = pd.get_dummies(marketing['housing'],prefix='housing',drop_first=True)\n",
    "marketing = pd.concat([marketing,housing],axis=1)\n",
    "\n",
    "# Creating dummy variable for loan column\n",
    "loan_v= pd.get_dummies(marketing['loan'],prefix='loan',drop_first=True)\n",
    "marketing = pd.concat([marketing,loan_v],axis=1)\n",
    "\n",
    "# Creating dummy variable for contact column\n",
    "contact = pd.get_dummies(marketing['contact'],prefix='contact',drop_first=True)\n",
    "marketing = pd.concat([marketing,contact],axis=1)\n",
    "\n",
    "# Creating dummy variable for month column\n",
    "month = pd.get_dummies(marketing['month'],prefix='month',drop_first=True)\n",
    "marketing = pd.concat([marketing,month],axis=1)\n",
    "\n",
    "# Creating dummy variable for day_of_week column\n",
    "day_of_week = pd.get_dummies(marketing['day_of_week'],prefix='day_of_week',drop_first=True)\n",
    "marketing = pd.concat([marketing,day_of_week],axis=1)\n",
    "\n",
    "# Creating dummy variable for pdays column\n",
    "pdays = pd.get_dummies(marketing['pdays'],prefix='pdays',drop_first=True)\n",
    "marketing = pd.concat([marketing,pdays],axis=1)\n",
    "\n",
    "# Creating dummy variable for previous column\n",
    "previous = pd.get_dummies(marketing['previous'],prefix='previous',drop_first=True)\n",
    "marketing = pd.concat([marketing,previous],axis=1)\n",
    "\n",
    "# Creating dummy variable for poutcome column\n",
    "poutcome = pd.get_dummies(marketing['poutcome'],prefix='poutcome',drop_first=True)\n",
    "marketing = pd.concat([marketing,poutcome],axis=1)\n",
    "\n",
    "marketing.drop(columns = ['job','marital','education','default','housing','loan','contact','month','day_of_week','pdays','previous','poutcome'], inplace=True)\n",
    "\n",
    "marketing.head()"
   ]
  },
  {
   "cell_type": "markdown",
   "metadata": {},
   "source": [
    "### creating prospect id"
   ]
  },
  {
   "cell_type": "code",
   "execution_count": 79,
   "metadata": {},
   "outputs": [],
   "source": [
    "marketing['prospect_id'] = range(1,len(marketing)+1)\n",
    "## setting prospect id as index\n",
    "marketing.set_index('prospect_id',inplace = True)"
   ]
  },
  {
   "cell_type": "markdown",
   "metadata": {},
   "source": [
    "### creating dataframe with duration and prospect_id"
   ]
  },
  {
   "cell_type": "code",
   "execution_count": 80,
   "metadata": {},
   "outputs": [
    {
     "data": {
      "text/html": [
       "<div>\n",
       "<style scoped>\n",
       "    .dataframe tbody tr th:only-of-type {\n",
       "        vertical-align: middle;\n",
       "    }\n",
       "\n",
       "    .dataframe tbody tr th {\n",
       "        vertical-align: top;\n",
       "    }\n",
       "\n",
       "    .dataframe thead th {\n",
       "        text-align: right;\n",
       "    }\n",
       "</style>\n",
       "<table border=\"1\" class=\"dataframe\">\n",
       "  <thead>\n",
       "    <tr style=\"text-align: right;\">\n",
       "      <th></th>\n",
       "      <th>prospect_id</th>\n",
       "      <th>duration</th>\n",
       "    </tr>\n",
       "  </thead>\n",
       "  <tbody>\n",
       "    <tr>\n",
       "      <th>0</th>\n",
       "      <td>1</td>\n",
       "      <td>261</td>\n",
       "    </tr>\n",
       "    <tr>\n",
       "      <th>1</th>\n",
       "      <td>2</td>\n",
       "      <td>149</td>\n",
       "    </tr>\n",
       "    <tr>\n",
       "      <th>2</th>\n",
       "      <td>3</td>\n",
       "      <td>226</td>\n",
       "    </tr>\n",
       "    <tr>\n",
       "      <th>3</th>\n",
       "      <td>4</td>\n",
       "      <td>151</td>\n",
       "    </tr>\n",
       "    <tr>\n",
       "      <th>4</th>\n",
       "      <td>5</td>\n",
       "      <td>307</td>\n",
       "    </tr>\n",
       "  </tbody>\n",
       "</table>\n",
       "</div>"
      ],
      "text/plain": [
       "   prospect_id  duration\n",
       "0            1       261\n",
       "1            2       149\n",
       "2            3       226\n",
       "3            4       151\n",
       "4            5       307"
      ]
     },
     "execution_count": 80,
     "metadata": {},
     "output_type": "execute_result"
    }
   ],
   "source": [
    "duration = marketing.duration.reset_index()\n",
    "duration.head()"
   ]
  },
  {
   "cell_type": "markdown",
   "metadata": {},
   "source": [
    "### Dropping duration column"
   ]
  },
  {
   "cell_type": "code",
   "execution_count": 81,
   "metadata": {},
   "outputs": [],
   "source": [
    "marketing.drop('duration',axis =1,inplace = True)"
   ]
  },
  {
   "cell_type": "markdown",
   "metadata": {},
   "source": [
    "### Spiliting into train test data"
   ]
  },
  {
   "cell_type": "code",
   "execution_count": 82,
   "metadata": {},
   "outputs": [],
   "source": [
    "X = marketing.drop('response',axis = 1)\n",
    "y = marketing.response"
   ]
  },
  {
   "cell_type": "code",
   "execution_count": 83,
   "metadata": {},
   "outputs": [],
   "source": [
    "X_train,X_test,y_train,y_test = train_test_split(X,y,test_size = 0.3,random_state = 42)"
   ]
  },
  {
   "cell_type": "markdown",
   "metadata": {},
   "source": [
    "### Standardizing train and test data"
   ]
  },
  {
   "cell_type": "markdown",
   "metadata": {},
   "source": [
    "#### train data"
   ]
  },
  {
   "cell_type": "code",
   "execution_count": 84,
   "metadata": {},
   "outputs": [],
   "source": [
    "X_train_df = X_train[['age','campaign','emp.var.rate','cons.price.idx','cons.conf.idx','euribor3m','nr.employed']]\n",
    "norm_mean = X_train_df.mean()\n",
    "norm_std = X_train_df.std()"
   ]
  },
  {
   "cell_type": "code",
   "execution_count": 85,
   "metadata": {},
   "outputs": [
    {
     "data": {
      "text/html": [
       "<div>\n",
       "<style scoped>\n",
       "    .dataframe tbody tr th:only-of-type {\n",
       "        vertical-align: middle;\n",
       "    }\n",
       "\n",
       "    .dataframe tbody tr th {\n",
       "        vertical-align: top;\n",
       "    }\n",
       "\n",
       "    .dataframe thead th {\n",
       "        text-align: right;\n",
       "    }\n",
       "</style>\n",
       "<table border=\"1\" class=\"dataframe\">\n",
       "  <thead>\n",
       "    <tr style=\"text-align: right;\">\n",
       "      <th></th>\n",
       "      <th>job_blue-collar</th>\n",
       "      <th>job_entrepreneur</th>\n",
       "      <th>job_housemaid</th>\n",
       "      <th>job_management</th>\n",
       "      <th>job_retired</th>\n",
       "      <th>job_self-employed</th>\n",
       "      <th>job_services</th>\n",
       "      <th>job_student</th>\n",
       "      <th>job_technician</th>\n",
       "      <th>job_unemployed</th>\n",
       "      <th>...</th>\n",
       "      <th>previous_Never contacted</th>\n",
       "      <th>poutcome_nonexistent</th>\n",
       "      <th>poutcome_success</th>\n",
       "      <th>age</th>\n",
       "      <th>campaign</th>\n",
       "      <th>emp.var.rate</th>\n",
       "      <th>cons.price.idx</th>\n",
       "      <th>cons.conf.idx</th>\n",
       "      <th>euribor3m</th>\n",
       "      <th>nr.employed</th>\n",
       "    </tr>\n",
       "    <tr>\n",
       "      <th>prospect_id</th>\n",
       "      <th></th>\n",
       "      <th></th>\n",
       "      <th></th>\n",
       "      <th></th>\n",
       "      <th></th>\n",
       "      <th></th>\n",
       "      <th></th>\n",
       "      <th></th>\n",
       "      <th></th>\n",
       "      <th></th>\n",
       "      <th></th>\n",
       "      <th></th>\n",
       "      <th></th>\n",
       "      <th></th>\n",
       "      <th></th>\n",
       "      <th></th>\n",
       "      <th></th>\n",
       "      <th></th>\n",
       "      <th></th>\n",
       "      <th></th>\n",
       "      <th></th>\n",
       "    </tr>\n",
       "  </thead>\n",
       "  <tbody>\n",
       "    <tr>\n",
       "      <th>39076</th>\n",
       "      <td>0</td>\n",
       "      <td>0</td>\n",
       "      <td>0</td>\n",
       "      <td>0</td>\n",
       "      <td>0</td>\n",
       "      <td>0</td>\n",
       "      <td>0</td>\n",
       "      <td>0</td>\n",
       "      <td>0</td>\n",
       "      <td>0</td>\n",
       "      <td>...</td>\n",
       "      <td>0</td>\n",
       "      <td>0</td>\n",
       "      <td>0</td>\n",
       "      <td>-1.072922</td>\n",
       "      <td>0.211959</td>\n",
       "      <td>-1.962600</td>\n",
       "      <td>-1.490897</td>\n",
       "      <td>1.621426</td>\n",
       "      <td>-1.678536</td>\n",
       "      <td>-1.978312</td>\n",
       "    </tr>\n",
       "    <tr>\n",
       "      <th>34856</th>\n",
       "      <td>0</td>\n",
       "      <td>0</td>\n",
       "      <td>0</td>\n",
       "      <td>0</td>\n",
       "      <td>0</td>\n",
       "      <td>0</td>\n",
       "      <td>0</td>\n",
       "      <td>0</td>\n",
       "      <td>1</td>\n",
       "      <td>0</td>\n",
       "      <td>...</td>\n",
       "      <td>1</td>\n",
       "      <td>1</td>\n",
       "      <td>0</td>\n",
       "      <td>-1.072922</td>\n",
       "      <td>0.645301</td>\n",
       "      <td>-1.198745</td>\n",
       "      <td>-1.180389</td>\n",
       "      <td>-1.226553</td>\n",
       "      <td>-1.366757</td>\n",
       "      <td>-0.936166</td>\n",
       "    </tr>\n",
       "    <tr>\n",
       "      <th>7108</th>\n",
       "      <td>1</td>\n",
       "      <td>0</td>\n",
       "      <td>0</td>\n",
       "      <td>0</td>\n",
       "      <td>0</td>\n",
       "      <td>0</td>\n",
       "      <td>0</td>\n",
       "      <td>0</td>\n",
       "      <td>0</td>\n",
       "      <td>0</td>\n",
       "      <td>...</td>\n",
       "      <td>1</td>\n",
       "      <td>1</td>\n",
       "      <td>0</td>\n",
       "      <td>0.496306</td>\n",
       "      <td>-0.221383</td>\n",
       "      <td>0.647239</td>\n",
       "      <td>0.718889</td>\n",
       "      <td>0.887856</td>\n",
       "      <td>0.713692</td>\n",
       "      <td>0.330676</td>\n",
       "    </tr>\n",
       "    <tr>\n",
       "      <th>31615</th>\n",
       "      <td>0</td>\n",
       "      <td>0</td>\n",
       "      <td>0</td>\n",
       "      <td>0</td>\n",
       "      <td>0</td>\n",
       "      <td>0</td>\n",
       "      <td>1</td>\n",
       "      <td>0</td>\n",
       "      <td>0</td>\n",
       "      <td>0</td>\n",
       "      <td>...</td>\n",
       "      <td>0</td>\n",
       "      <td>0</td>\n",
       "      <td>0</td>\n",
       "      <td>-0.582538</td>\n",
       "      <td>-0.654725</td>\n",
       "      <td>-1.198745</td>\n",
       "      <td>-1.180389</td>\n",
       "      <td>-1.226553</td>\n",
       "      <td>-1.322381</td>\n",
       "      <td>-0.936166</td>\n",
       "    </tr>\n",
       "    <tr>\n",
       "      <th>34879</th>\n",
       "      <td>0</td>\n",
       "      <td>0</td>\n",
       "      <td>0</td>\n",
       "      <td>0</td>\n",
       "      <td>0</td>\n",
       "      <td>0</td>\n",
       "      <td>0</td>\n",
       "      <td>0</td>\n",
       "      <td>0</td>\n",
       "      <td>0</td>\n",
       "      <td>...</td>\n",
       "      <td>1</td>\n",
       "      <td>1</td>\n",
       "      <td>0</td>\n",
       "      <td>-0.778691</td>\n",
       "      <td>2.812012</td>\n",
       "      <td>-1.198745</td>\n",
       "      <td>-1.180389</td>\n",
       "      <td>-1.226553</td>\n",
       "      <td>-1.366757</td>\n",
       "      <td>-0.936166</td>\n",
       "    </tr>\n",
       "  </tbody>\n",
       "</table>\n",
       "<p>5 rows × 50 columns</p>\n",
       "</div>"
      ],
      "text/plain": [
       "             job_blue-collar  job_entrepreneur  job_housemaid  job_management  \\\n",
       "prospect_id                                                                     \n",
       "39076                      0                 0              0               0   \n",
       "34856                      0                 0              0               0   \n",
       "7108                       1                 0              0               0   \n",
       "31615                      0                 0              0               0   \n",
       "34879                      0                 0              0               0   \n",
       "\n",
       "             job_retired  job_self-employed  job_services  job_student  \\\n",
       "prospect_id                                                              \n",
       "39076                  0                  0             0            0   \n",
       "34856                  0                  0             0            0   \n",
       "7108                   0                  0             0            0   \n",
       "31615                  0                  0             1            0   \n",
       "34879                  0                  0             0            0   \n",
       "\n",
       "             job_technician  job_unemployed  ...  previous_Never contacted  \\\n",
       "prospect_id                                  ...                             \n",
       "39076                     0               0  ...                         0   \n",
       "34856                     1               0  ...                         1   \n",
       "7108                      0               0  ...                         1   \n",
       "31615                     0               0  ...                         0   \n",
       "34879                     0               0  ...                         1   \n",
       "\n",
       "             poutcome_nonexistent  poutcome_success       age  campaign  \\\n",
       "prospect_id                                                               \n",
       "39076                           0                 0 -1.072922  0.211959   \n",
       "34856                           1                 0 -1.072922  0.645301   \n",
       "7108                            1                 0  0.496306 -0.221383   \n",
       "31615                           0                 0 -0.582538 -0.654725   \n",
       "34879                           1                 0 -0.778691  2.812012   \n",
       "\n",
       "             emp.var.rate  cons.price.idx  cons.conf.idx  euribor3m  \\\n",
       "prospect_id                                                           \n",
       "39076           -1.962600       -1.490897       1.621426  -1.678536   \n",
       "34856           -1.198745       -1.180389      -1.226553  -1.366757   \n",
       "7108             0.647239        0.718889       0.887856   0.713692   \n",
       "31615           -1.198745       -1.180389      -1.226553  -1.322381   \n",
       "34879           -1.198745       -1.180389      -1.226553  -1.366757   \n",
       "\n",
       "             nr.employed  \n",
       "prospect_id               \n",
       "39076          -1.978312  \n",
       "34856          -0.936166  \n",
       "7108            0.330676  \n",
       "31615          -0.936166  \n",
       "34879          -0.936166  \n",
       "\n",
       "[5 rows x 50 columns]"
      ]
     },
     "execution_count": 85,
     "metadata": {},
     "output_type": "execute_result"
    }
   ],
   "source": [
    "std_X_train_df=(X_train_df-norm_mean)/norm_std\n",
    "X_train = X_train.drop(['age','campaign','emp.var.rate','cons.price.idx','cons.conf.idx','euribor3m','nr.employed'], 1)\n",
    "X_train = pd.concat([X_train,std_X_train_df],axis=1)\n",
    "X_train.head()"
   ]
  },
  {
   "cell_type": "markdown",
   "metadata": {},
   "source": [
    "#### test data"
   ]
  },
  {
   "cell_type": "code",
   "execution_count": 86,
   "metadata": {
    "scrolled": true
   },
   "outputs": [
    {
     "data": {
      "text/html": [
       "<div>\n",
       "<style scoped>\n",
       "    .dataframe tbody tr th:only-of-type {\n",
       "        vertical-align: middle;\n",
       "    }\n",
       "\n",
       "    .dataframe tbody tr th {\n",
       "        vertical-align: top;\n",
       "    }\n",
       "\n",
       "    .dataframe thead th {\n",
       "        text-align: right;\n",
       "    }\n",
       "</style>\n",
       "<table border=\"1\" class=\"dataframe\">\n",
       "  <thead>\n",
       "    <tr style=\"text-align: right;\">\n",
       "      <th></th>\n",
       "      <th>job_blue-collar</th>\n",
       "      <th>job_entrepreneur</th>\n",
       "      <th>job_housemaid</th>\n",
       "      <th>job_management</th>\n",
       "      <th>job_retired</th>\n",
       "      <th>job_self-employed</th>\n",
       "      <th>job_services</th>\n",
       "      <th>job_student</th>\n",
       "      <th>job_technician</th>\n",
       "      <th>job_unemployed</th>\n",
       "      <th>...</th>\n",
       "      <th>previous_Never contacted</th>\n",
       "      <th>poutcome_nonexistent</th>\n",
       "      <th>poutcome_success</th>\n",
       "      <th>age</th>\n",
       "      <th>campaign</th>\n",
       "      <th>emp.var.rate</th>\n",
       "      <th>cons.price.idx</th>\n",
       "      <th>cons.conf.idx</th>\n",
       "      <th>euribor3m</th>\n",
       "      <th>nr.employed</th>\n",
       "    </tr>\n",
       "    <tr>\n",
       "      <th>prospect_id</th>\n",
       "      <th></th>\n",
       "      <th></th>\n",
       "      <th></th>\n",
       "      <th></th>\n",
       "      <th></th>\n",
       "      <th></th>\n",
       "      <th></th>\n",
       "      <th></th>\n",
       "      <th></th>\n",
       "      <th></th>\n",
       "      <th></th>\n",
       "      <th></th>\n",
       "      <th></th>\n",
       "      <th></th>\n",
       "      <th></th>\n",
       "      <th></th>\n",
       "      <th></th>\n",
       "      <th></th>\n",
       "      <th></th>\n",
       "      <th></th>\n",
       "      <th></th>\n",
       "    </tr>\n",
       "  </thead>\n",
       "  <tbody>\n",
       "    <tr>\n",
       "      <th>32885</th>\n",
       "      <td>0</td>\n",
       "      <td>0</td>\n",
       "      <td>0</td>\n",
       "      <td>0</td>\n",
       "      <td>0</td>\n",
       "      <td>0</td>\n",
       "      <td>0</td>\n",
       "      <td>0</td>\n",
       "      <td>1</td>\n",
       "      <td>0</td>\n",
       "      <td>...</td>\n",
       "      <td>0</td>\n",
       "      <td>0</td>\n",
       "      <td>0</td>\n",
       "      <td>1.673227</td>\n",
       "      <td>-0.654725</td>\n",
       "      <td>-1.198745</td>\n",
       "      <td>-1.180389</td>\n",
       "      <td>-1.226553</td>\n",
       "      <td>-1.338518</td>\n",
       "      <td>-0.936166</td>\n",
       "    </tr>\n",
       "    <tr>\n",
       "      <th>3170</th>\n",
       "      <td>0</td>\n",
       "      <td>0</td>\n",
       "      <td>0</td>\n",
       "      <td>0</td>\n",
       "      <td>0</td>\n",
       "      <td>0</td>\n",
       "      <td>0</td>\n",
       "      <td>0</td>\n",
       "      <td>0</td>\n",
       "      <td>0</td>\n",
       "      <td>...</td>\n",
       "      <td>1</td>\n",
       "      <td>1</td>\n",
       "      <td>0</td>\n",
       "      <td>1.477074</td>\n",
       "      <td>-0.221383</td>\n",
       "      <td>0.647239</td>\n",
       "      <td>0.718889</td>\n",
       "      <td>0.887856</td>\n",
       "      <td>0.713692</td>\n",
       "      <td>0.330676</td>\n",
       "    </tr>\n",
       "    <tr>\n",
       "      <th>32207</th>\n",
       "      <td>1</td>\n",
       "      <td>0</td>\n",
       "      <td>0</td>\n",
       "      <td>0</td>\n",
       "      <td>0</td>\n",
       "      <td>0</td>\n",
       "      <td>0</td>\n",
       "      <td>0</td>\n",
       "      <td>0</td>\n",
       "      <td>0</td>\n",
       "      <td>...</td>\n",
       "      <td>0</td>\n",
       "      <td>0</td>\n",
       "      <td>0</td>\n",
       "      <td>-0.680615</td>\n",
       "      <td>-0.654725</td>\n",
       "      <td>-1.198745</td>\n",
       "      <td>-1.180389</td>\n",
       "      <td>-1.226553</td>\n",
       "      <td>-1.330450</td>\n",
       "      <td>-0.936166</td>\n",
       "    </tr>\n",
       "    <tr>\n",
       "      <th>9404</th>\n",
       "      <td>0</td>\n",
       "      <td>0</td>\n",
       "      <td>0</td>\n",
       "      <td>0</td>\n",
       "      <td>0</td>\n",
       "      <td>0</td>\n",
       "      <td>0</td>\n",
       "      <td>0</td>\n",
       "      <td>0</td>\n",
       "      <td>0</td>\n",
       "      <td>...</td>\n",
       "      <td>1</td>\n",
       "      <td>1</td>\n",
       "      <td>0</td>\n",
       "      <td>-0.386384</td>\n",
       "      <td>0.645301</td>\n",
       "      <td>0.838203</td>\n",
       "      <td>1.531387</td>\n",
       "      <td>-0.277227</td>\n",
       "      <td>0.775357</td>\n",
       "      <td>0.842100</td>\n",
       "    </tr>\n",
       "    <tr>\n",
       "      <th>14021</th>\n",
       "      <td>0</td>\n",
       "      <td>0</td>\n",
       "      <td>1</td>\n",
       "      <td>0</td>\n",
       "      <td>0</td>\n",
       "      <td>0</td>\n",
       "      <td>0</td>\n",
       "      <td>0</td>\n",
       "      <td>0</td>\n",
       "      <td>0</td>\n",
       "      <td>...</td>\n",
       "      <td>1</td>\n",
       "      <td>1</td>\n",
       "      <td>0</td>\n",
       "      <td>-1.269075</td>\n",
       "      <td>-0.221383</td>\n",
       "      <td>0.838203</td>\n",
       "      <td>0.587785</td>\n",
       "      <td>-0.471407</td>\n",
       "      <td>0.773052</td>\n",
       "      <td>0.842100</td>\n",
       "    </tr>\n",
       "  </tbody>\n",
       "</table>\n",
       "<p>5 rows × 50 columns</p>\n",
       "</div>"
      ],
      "text/plain": [
       "             job_blue-collar  job_entrepreneur  job_housemaid  job_management  \\\n",
       "prospect_id                                                                     \n",
       "32885                      0                 0              0               0   \n",
       "3170                       0                 0              0               0   \n",
       "32207                      1                 0              0               0   \n",
       "9404                       0                 0              0               0   \n",
       "14021                      0                 0              1               0   \n",
       "\n",
       "             job_retired  job_self-employed  job_services  job_student  \\\n",
       "prospect_id                                                              \n",
       "32885                  0                  0             0            0   \n",
       "3170                   0                  0             0            0   \n",
       "32207                  0                  0             0            0   \n",
       "9404                   0                  0             0            0   \n",
       "14021                  0                  0             0            0   \n",
       "\n",
       "             job_technician  job_unemployed  ...  previous_Never contacted  \\\n",
       "prospect_id                                  ...                             \n",
       "32885                     1               0  ...                         0   \n",
       "3170                      0               0  ...                         1   \n",
       "32207                     0               0  ...                         0   \n",
       "9404                      0               0  ...                         1   \n",
       "14021                     0               0  ...                         1   \n",
       "\n",
       "             poutcome_nonexistent  poutcome_success       age  campaign  \\\n",
       "prospect_id                                                               \n",
       "32885                           0                 0  1.673227 -0.654725   \n",
       "3170                            1                 0  1.477074 -0.221383   \n",
       "32207                           0                 0 -0.680615 -0.654725   \n",
       "9404                            1                 0 -0.386384  0.645301   \n",
       "14021                           1                 0 -1.269075 -0.221383   \n",
       "\n",
       "             emp.var.rate  cons.price.idx  cons.conf.idx  euribor3m  \\\n",
       "prospect_id                                                           \n",
       "32885           -1.198745       -1.180389      -1.226553  -1.338518   \n",
       "3170             0.647239        0.718889       0.887856   0.713692   \n",
       "32207           -1.198745       -1.180389      -1.226553  -1.330450   \n",
       "9404             0.838203        1.531387      -0.277227   0.775357   \n",
       "14021            0.838203        0.587785      -0.471407   0.773052   \n",
       "\n",
       "             nr.employed  \n",
       "prospect_id               \n",
       "32885          -0.936166  \n",
       "3170            0.330676  \n",
       "32207          -0.936166  \n",
       "9404            0.842100  \n",
       "14021           0.842100  \n",
       "\n",
       "[5 rows x 50 columns]"
      ]
     },
     "execution_count": 86,
     "metadata": {},
     "output_type": "execute_result"
    }
   ],
   "source": [
    "# Standardisation with train_set mean and std\n",
    "X_test_df = X_test[['age','campaign','emp.var.rate','cons.price.idx','cons.conf.idx','euribor3m','nr.employed']]\n",
    "std_X_test_df= (X_test_df-norm_mean)/norm_std\n",
    "X_test = X_test.drop(['age','campaign','emp.var.rate','cons.price.idx','cons.conf.idx','euribor3m','nr.employed'], 1)\n",
    "X_test = pd.concat([X_test,std_X_test_df],axis=1)\n",
    "X_test.head()"
   ]
  },
  {
   "cell_type": "markdown",
   "metadata": {},
   "source": [
    "## Checkpoint 2: Logistic regression"
   ]
  },
  {
   "cell_type": "markdown",
   "metadata": {},
   "source": [
    "#### model1: model with all features"
   ]
  },
  {
   "cell_type": "code",
   "execution_count": 87,
   "metadata": {},
   "outputs": [
    {
     "data": {
      "text/html": [
       "<table class=\"simpletable\">\n",
       "<caption>Generalized Linear Model Regression Results</caption>\n",
       "<tr>\n",
       "  <th>Dep. Variable:</th>      <td>response</td>     <th>  No. Observations:  </th>  <td> 28831</td>  \n",
       "</tr>\n",
       "<tr>\n",
       "  <th>Model:</th>                 <td>GLM</td>       <th>  Df Residuals:      </th>  <td> 28782</td>  \n",
       "</tr>\n",
       "<tr>\n",
       "  <th>Model Family:</th>       <td>Binomial</td>     <th>  Df Model:          </th>  <td>    48</td>  \n",
       "</tr>\n",
       "<tr>\n",
       "  <th>Link Function:</th>        <td>logit</td>      <th>  Scale:             </th> <td>  1.0000</td> \n",
       "</tr>\n",
       "<tr>\n",
       "  <th>Method:</th>               <td>IRLS</td>       <th>  Log-Likelihood:    </th> <td> -7919.9</td> \n",
       "</tr>\n",
       "<tr>\n",
       "  <th>Date:</th>           <td>Tue, 05 Nov 2019</td> <th>  Deviance:          </th> <td>  15840.</td> \n",
       "</tr>\n",
       "<tr>\n",
       "  <th>Time:</th>               <td>20:42:44</td>     <th>  Pearson chi2:      </th> <td>2.93e+04</td> \n",
       "</tr>\n",
       "<tr>\n",
       "  <th>No. Iterations:</th>        <td>19</td>        <th>  Covariance Type:   </th> <td>nonrobust</td>\n",
       "</tr>\n",
       "</table>\n",
       "<table class=\"simpletable\">\n",
       "<tr>\n",
       "                 <td></td>                    <th>coef</th>     <th>std err</th>      <th>z</th>      <th>P>|z|</th>  <th>[0.025</th>    <th>0.975]</th>  \n",
       "</tr>\n",
       "<tr>\n",
       "  <th>const</th>                           <td>   -1.4678</td> <td>    0.284</td> <td>   -5.172</td> <td> 0.000</td> <td>   -2.024</td> <td>   -0.912</td>\n",
       "</tr>\n",
       "<tr>\n",
       "  <th>job_blue-collar</th>                 <td>   -0.1152</td> <td>    0.082</td> <td>   -1.397</td> <td> 0.162</td> <td>   -0.277</td> <td>    0.046</td>\n",
       "</tr>\n",
       "<tr>\n",
       "  <th>job_entrepreneur</th>                <td>   -0.0790</td> <td>    0.129</td> <td>   -0.610</td> <td> 0.542</td> <td>   -0.333</td> <td>    0.175</td>\n",
       "</tr>\n",
       "<tr>\n",
       "  <th>job_housemaid</th>                   <td>   -0.2128</td> <td>    0.157</td> <td>   -1.353</td> <td> 0.176</td> <td>   -0.521</td> <td>    0.095</td>\n",
       "</tr>\n",
       "<tr>\n",
       "  <th>job_management</th>                  <td>   -0.0843</td> <td>    0.091</td> <td>   -0.930</td> <td> 0.352</td> <td>   -0.262</td> <td>    0.093</td>\n",
       "</tr>\n",
       "<tr>\n",
       "  <th>job_retired</th>                     <td>    0.1870</td> <td>    0.112</td> <td>    1.666</td> <td> 0.096</td> <td>   -0.033</td> <td>    0.407</td>\n",
       "</tr>\n",
       "<tr>\n",
       "  <th>job_self-employed</th>               <td>   -0.1670</td> <td>    0.124</td> <td>   -1.352</td> <td> 0.176</td> <td>   -0.409</td> <td>    0.075</td>\n",
       "</tr>\n",
       "<tr>\n",
       "  <th>job_services</th>                    <td>   -0.1080</td> <td>    0.089</td> <td>   -1.209</td> <td> 0.227</td> <td>   -0.283</td> <td>    0.067</td>\n",
       "</tr>\n",
       "<tr>\n",
       "  <th>job_student</th>                     <td>    0.1421</td> <td>    0.119</td> <td>    1.196</td> <td> 0.232</td> <td>   -0.091</td> <td>    0.375</td>\n",
       "</tr>\n",
       "<tr>\n",
       "  <th>job_technician</th>                  <td>    0.0144</td> <td>    0.074</td> <td>    0.194</td> <td> 0.846</td> <td>   -0.131</td> <td>    0.159</td>\n",
       "</tr>\n",
       "<tr>\n",
       "  <th>job_unemployed</th>                  <td>    0.0086</td> <td>    0.133</td> <td>    0.065</td> <td> 0.948</td> <td>   -0.253</td> <td>    0.270</td>\n",
       "</tr>\n",
       "<tr>\n",
       "  <th>job_unknown</th>                     <td>   -0.4337</td> <td>    0.268</td> <td>   -1.621</td> <td> 0.105</td> <td>   -0.958</td> <td>    0.091</td>\n",
       "</tr>\n",
       "<tr>\n",
       "  <th>marital_married</th>                 <td>    0.0385</td> <td>    0.072</td> <td>    0.538</td> <td> 0.591</td> <td>   -0.102</td> <td>    0.179</td>\n",
       "</tr>\n",
       "<tr>\n",
       "  <th>marital_single</th>                  <td>    0.0331</td> <td>    0.082</td> <td>    0.405</td> <td> 0.686</td> <td>   -0.127</td> <td>    0.193</td>\n",
       "</tr>\n",
       "<tr>\n",
       "  <th>education_Secondary_Education</th>   <td>    0.0146</td> <td>    0.073</td> <td>    0.201</td> <td> 0.841</td> <td>   -0.128</td> <td>    0.157</td>\n",
       "</tr>\n",
       "<tr>\n",
       "  <th>education_Tertiary_Education</th>    <td>    0.1450</td> <td>    0.074</td> <td>    1.968</td> <td> 0.049</td> <td>    0.001</td> <td>    0.289</td>\n",
       "</tr>\n",
       "<tr>\n",
       "  <th>education_professional.course</th>   <td>    0.0187</td> <td>    0.087</td> <td>    0.215</td> <td> 0.830</td> <td>   -0.151</td> <td>    0.189</td>\n",
       "</tr>\n",
       "<tr>\n",
       "  <th>education_unknown</th>               <td>    0.0060</td> <td>    0.113</td> <td>    0.053</td> <td> 0.958</td> <td>   -0.215</td> <td>    0.227</td>\n",
       "</tr>\n",
       "<tr>\n",
       "  <th>default_unknown</th>                 <td>   -0.2115</td> <td>    0.069</td> <td>   -3.069</td> <td> 0.002</td> <td>   -0.347</td> <td>   -0.076</td>\n",
       "</tr>\n",
       "<tr>\n",
       "  <th>default_yes</th>                     <td>  -17.5858</td> <td> 1.25e+04</td> <td>   -0.001</td> <td> 0.999</td> <td>-2.45e+04</td> <td> 2.45e+04</td>\n",
       "</tr>\n",
       "<tr>\n",
       "  <th>housing_unknown</th>                 <td>   -0.0277</td> <td>    0.070</td> <td>   -0.397</td> <td> 0.691</td> <td>   -0.164</td> <td>    0.109</td>\n",
       "</tr>\n",
       "<tr>\n",
       "  <th>housing_yes</th>                     <td>   -0.0578</td> <td>    0.043</td> <td>   -1.337</td> <td> 0.181</td> <td>   -0.142</td> <td>    0.027</td>\n",
       "</tr>\n",
       "<tr>\n",
       "  <th>loan_unknown</th>                    <td>   -0.0277</td> <td>    0.070</td> <td>   -0.397</td> <td> 0.691</td> <td>   -0.164</td> <td>    0.109</td>\n",
       "</tr>\n",
       "<tr>\n",
       "  <th>loan_yes</th>                        <td>    0.0460</td> <td>    0.059</td> <td>    0.778</td> <td> 0.437</td> <td>   -0.070</td> <td>    0.162</td>\n",
       "</tr>\n",
       "<tr>\n",
       "  <th>contact_telephone</th>               <td>   -0.8124</td> <td>    0.081</td> <td>   -9.970</td> <td> 0.000</td> <td>   -0.972</td> <td>   -0.653</td>\n",
       "</tr>\n",
       "<tr>\n",
       "  <th>month_aug</th>                       <td>    0.4373</td> <td>    0.129</td> <td>    3.399</td> <td> 0.001</td> <td>    0.185</td> <td>    0.690</td>\n",
       "</tr>\n",
       "<tr>\n",
       "  <th>month_dec</th>                       <td>    0.3491</td> <td>    0.224</td> <td>    1.562</td> <td> 0.118</td> <td>   -0.089</td> <td>    0.787</td>\n",
       "</tr>\n",
       "<tr>\n",
       "  <th>month_jul</th>                       <td>    0.0330</td> <td>    0.100</td> <td>    0.329</td> <td> 0.742</td> <td>   -0.163</td> <td>    0.229</td>\n",
       "</tr>\n",
       "<tr>\n",
       "  <th>month_jun</th>                       <td>   -0.6521</td> <td>    0.133</td> <td>   -4.919</td> <td> 0.000</td> <td>   -0.912</td> <td>   -0.392</td>\n",
       "</tr>\n",
       "<tr>\n",
       "  <th>month_mar</th>                       <td>    1.4523</td> <td>    0.154</td> <td>    9.456</td> <td> 0.000</td> <td>    1.151</td> <td>    1.753</td>\n",
       "</tr>\n",
       "<tr>\n",
       "  <th>month_may</th>                       <td>   -0.4336</td> <td>    0.087</td> <td>   -5.003</td> <td> 0.000</td> <td>   -0.603</td> <td>   -0.264</td>\n",
       "</tr>\n",
       "<tr>\n",
       "  <th>month_nov</th>                       <td>   -0.4953</td> <td>    0.126</td> <td>   -3.921</td> <td> 0.000</td> <td>   -0.743</td> <td>   -0.248</td>\n",
       "</tr>\n",
       "<tr>\n",
       "  <th>month_oct</th>                       <td>    0.0755</td> <td>    0.161</td> <td>    0.469</td> <td> 0.639</td> <td>   -0.240</td> <td>    0.391</td>\n",
       "</tr>\n",
       "<tr>\n",
       "  <th>month_sep</th>                       <td>    0.2789</td> <td>    0.190</td> <td>    1.468</td> <td> 0.142</td> <td>   -0.094</td> <td>    0.651</td>\n",
       "</tr>\n",
       "<tr>\n",
       "  <th>day_of_week_mon</th>                 <td>   -0.1858</td> <td>    0.070</td> <td>   -2.670</td> <td> 0.008</td> <td>   -0.322</td> <td>   -0.049</td>\n",
       "</tr>\n",
       "<tr>\n",
       "  <th>day_of_week_thu</th>                 <td>    0.1444</td> <td>    0.067</td> <td>    2.168</td> <td> 0.030</td> <td>    0.014</td> <td>    0.275</td>\n",
       "</tr>\n",
       "<tr>\n",
       "  <th>day_of_week_tue</th>                 <td>    0.0843</td> <td>    0.069</td> <td>    1.220</td> <td> 0.223</td> <td>   -0.051</td> <td>    0.220</td>\n",
       "</tr>\n",
       "<tr>\n",
       "  <th>day_of_week_wed</th>                 <td>    0.1738</td> <td>    0.069</td> <td>    2.537</td> <td> 0.011</td> <td>    0.040</td> <td>    0.308</td>\n",
       "</tr>\n",
       "<tr>\n",
       "  <th>pdays_Contacted_in_first_10days</th> <td>    0.1854</td> <td>    0.211</td> <td>    0.876</td> <td> 0.381</td> <td>   -0.229</td> <td>    0.600</td>\n",
       "</tr>\n",
       "<tr>\n",
       "  <th>pdays_First_time_contacted</th>      <td>   -1.1269</td> <td>    0.253</td> <td>   -4.453</td> <td> 0.000</td> <td>   -1.623</td> <td>   -0.631</td>\n",
       "</tr>\n",
       "<tr>\n",
       "  <th>previous_More than_3_times</th>      <td>   -0.2036</td> <td>    0.290</td> <td>   -0.703</td> <td> 0.482</td> <td>   -0.771</td> <td>    0.364</td>\n",
       "</tr>\n",
       "<tr>\n",
       "  <th>previous_Never contacted</th>        <td>    0.2765</td> <td>    0.034</td> <td>    8.070</td> <td> 0.000</td> <td>    0.209</td> <td>    0.344</td>\n",
       "</tr>\n",
       "<tr>\n",
       "  <th>poutcome_nonexistent</th>            <td>    0.2765</td> <td>    0.034</td> <td>    8.070</td> <td> 0.000</td> <td>    0.209</td> <td>    0.344</td>\n",
       "</tr>\n",
       "<tr>\n",
       "  <th>poutcome_success</th>                <td>    0.5906</td> <td>    0.241</td> <td>    2.454</td> <td> 0.014</td> <td>    0.119</td> <td>    1.062</td>\n",
       "</tr>\n",
       "<tr>\n",
       "  <th>age</th>                             <td>   -0.0196</td> <td>    0.027</td> <td>   -0.733</td> <td> 0.464</td> <td>   -0.072</td> <td>    0.033</td>\n",
       "</tr>\n",
       "<tr>\n",
       "  <th>campaign</th>                        <td>   -0.1262</td> <td>    0.028</td> <td>   -4.508</td> <td> 0.000</td> <td>   -0.181</td> <td>   -0.071</td>\n",
       "</tr>\n",
       "<tr>\n",
       "  <th>emp.var.rate</th>                    <td>   -2.4518</td> <td>    0.230</td> <td>  -10.654</td> <td> 0.000</td> <td>   -2.903</td> <td>   -2.001</td>\n",
       "</tr>\n",
       "<tr>\n",
       "  <th>cons.price.idx</th>                  <td>    1.2526</td> <td>    0.151</td> <td>    8.278</td> <td> 0.000</td> <td>    0.956</td> <td>    1.549</td>\n",
       "</tr>\n",
       "<tr>\n",
       "  <th>cons.conf.idx</th>                   <td>    0.1343</td> <td>    0.039</td> <td>    3.468</td> <td> 0.001</td> <td>    0.058</td> <td>    0.210</td>\n",
       "</tr>\n",
       "<tr>\n",
       "  <th>euribor3m</th>                       <td>    0.3949</td> <td>    0.239</td> <td>    1.653</td> <td> 0.098</td> <td>   -0.073</td> <td>    0.863</td>\n",
       "</tr>\n",
       "<tr>\n",
       "  <th>nr.employed</th>                     <td>    0.5387</td> <td>    0.235</td> <td>    2.296</td> <td> 0.022</td> <td>    0.079</td> <td>    0.999</td>\n",
       "</tr>\n",
       "</table>"
      ],
      "text/plain": [
       "<class 'statsmodels.iolib.summary.Summary'>\n",
       "\"\"\"\n",
       "                 Generalized Linear Model Regression Results                  \n",
       "==============================================================================\n",
       "Dep. Variable:               response   No. Observations:                28831\n",
       "Model:                            GLM   Df Residuals:                    28782\n",
       "Model Family:                Binomial   Df Model:                           48\n",
       "Link Function:                  logit   Scale:                          1.0000\n",
       "Method:                          IRLS   Log-Likelihood:                -7919.9\n",
       "Date:                Tue, 05 Nov 2019   Deviance:                       15840.\n",
       "Time:                        20:42:44   Pearson chi2:                 2.93e+04\n",
       "No. Iterations:                    19   Covariance Type:             nonrobust\n",
       "===================================================================================================\n",
       "                                      coef    std err          z      P>|z|      [0.025      0.975]\n",
       "---------------------------------------------------------------------------------------------------\n",
       "const                              -1.4678      0.284     -5.172      0.000      -2.024      -0.912\n",
       "job_blue-collar                    -0.1152      0.082     -1.397      0.162      -0.277       0.046\n",
       "job_entrepreneur                   -0.0790      0.129     -0.610      0.542      -0.333       0.175\n",
       "job_housemaid                      -0.2128      0.157     -1.353      0.176      -0.521       0.095\n",
       "job_management                     -0.0843      0.091     -0.930      0.352      -0.262       0.093\n",
       "job_retired                         0.1870      0.112      1.666      0.096      -0.033       0.407\n",
       "job_self-employed                  -0.1670      0.124     -1.352      0.176      -0.409       0.075\n",
       "job_services                       -0.1080      0.089     -1.209      0.227      -0.283       0.067\n",
       "job_student                         0.1421      0.119      1.196      0.232      -0.091       0.375\n",
       "job_technician                      0.0144      0.074      0.194      0.846      -0.131       0.159\n",
       "job_unemployed                      0.0086      0.133      0.065      0.948      -0.253       0.270\n",
       "job_unknown                        -0.4337      0.268     -1.621      0.105      -0.958       0.091\n",
       "marital_married                     0.0385      0.072      0.538      0.591      -0.102       0.179\n",
       "marital_single                      0.0331      0.082      0.405      0.686      -0.127       0.193\n",
       "education_Secondary_Education       0.0146      0.073      0.201      0.841      -0.128       0.157\n",
       "education_Tertiary_Education        0.1450      0.074      1.968      0.049       0.001       0.289\n",
       "education_professional.course       0.0187      0.087      0.215      0.830      -0.151       0.189\n",
       "education_unknown                   0.0060      0.113      0.053      0.958      -0.215       0.227\n",
       "default_unknown                    -0.2115      0.069     -3.069      0.002      -0.347      -0.076\n",
       "default_yes                       -17.5858   1.25e+04     -0.001      0.999   -2.45e+04    2.45e+04\n",
       "housing_unknown                    -0.0277      0.070     -0.397      0.691      -0.164       0.109\n",
       "housing_yes                        -0.0578      0.043     -1.337      0.181      -0.142       0.027\n",
       "loan_unknown                       -0.0277      0.070     -0.397      0.691      -0.164       0.109\n",
       "loan_yes                            0.0460      0.059      0.778      0.437      -0.070       0.162\n",
       "contact_telephone                  -0.8124      0.081     -9.970      0.000      -0.972      -0.653\n",
       "month_aug                           0.4373      0.129      3.399      0.001       0.185       0.690\n",
       "month_dec                           0.3491      0.224      1.562      0.118      -0.089       0.787\n",
       "month_jul                           0.0330      0.100      0.329      0.742      -0.163       0.229\n",
       "month_jun                          -0.6521      0.133     -4.919      0.000      -0.912      -0.392\n",
       "month_mar                           1.4523      0.154      9.456      0.000       1.151       1.753\n",
       "month_may                          -0.4336      0.087     -5.003      0.000      -0.603      -0.264\n",
       "month_nov                          -0.4953      0.126     -3.921      0.000      -0.743      -0.248\n",
       "month_oct                           0.0755      0.161      0.469      0.639      -0.240       0.391\n",
       "month_sep                           0.2789      0.190      1.468      0.142      -0.094       0.651\n",
       "day_of_week_mon                    -0.1858      0.070     -2.670      0.008      -0.322      -0.049\n",
       "day_of_week_thu                     0.1444      0.067      2.168      0.030       0.014       0.275\n",
       "day_of_week_tue                     0.0843      0.069      1.220      0.223      -0.051       0.220\n",
       "day_of_week_wed                     0.1738      0.069      2.537      0.011       0.040       0.308\n",
       "pdays_Contacted_in_first_10days     0.1854      0.211      0.876      0.381      -0.229       0.600\n",
       "pdays_First_time_contacted         -1.1269      0.253     -4.453      0.000      -1.623      -0.631\n",
       "previous_More than_3_times         -0.2036      0.290     -0.703      0.482      -0.771       0.364\n",
       "previous_Never contacted            0.2765      0.034      8.070      0.000       0.209       0.344\n",
       "poutcome_nonexistent                0.2765      0.034      8.070      0.000       0.209       0.344\n",
       "poutcome_success                    0.5906      0.241      2.454      0.014       0.119       1.062\n",
       "age                                -0.0196      0.027     -0.733      0.464      -0.072       0.033\n",
       "campaign                           -0.1262      0.028     -4.508      0.000      -0.181      -0.071\n",
       "emp.var.rate                       -2.4518      0.230    -10.654      0.000      -2.903      -2.001\n",
       "cons.price.idx                      1.2526      0.151      8.278      0.000       0.956       1.549\n",
       "cons.conf.idx                       0.1343      0.039      3.468      0.001       0.058       0.210\n",
       "euribor3m                           0.3949      0.239      1.653      0.098      -0.073       0.863\n",
       "nr.employed                         0.5387      0.235      2.296      0.022       0.079       0.999\n",
       "===================================================================================================\n",
       "\"\"\""
      ]
     },
     "execution_count": 87,
     "metadata": {},
     "output_type": "execute_result"
    }
   ],
   "source": [
    "lr1 = sm.GLM(y_train,sm.add_constant(X_train),family = sm.families.Binomial())\n",
    "lr1.fit().summary()"
   ]
  },
  {
   "cell_type": "markdown",
   "metadata": {},
   "source": [
    "There are multiple features whose p values is > 0.05. Therefore we can drop such columns. We are going to use RFE to select features."
   ]
  },
  {
   "cell_type": "markdown",
   "metadata": {},
   "source": [
    "#### selection top 20 features"
   ]
  },
  {
   "cell_type": "code",
   "execution_count": 88,
   "metadata": {},
   "outputs": [
    {
     "data": {
      "text/plain": [
       "RFE(estimator=LogisticRegression(C=1.0, class_weight='balanced', dual=False,\n",
       "          fit_intercept=True, intercept_scaling=1, max_iter=100,\n",
       "          multi_class='warn', n_jobs=None, penalty='l2', random_state=42,\n",
       "          solver='warn', tol=0.0001, verbose=0, warm_start=False),\n",
       "  n_features_to_select=20, step=1, verbose=0)"
      ]
     },
     "execution_count": 88,
     "metadata": {},
     "output_type": "execute_result"
    }
   ],
   "source": [
    "lr_20 = LogisticRegression(class_weight='balanced',random_state = 42)\n",
    "rfe_20 = RFE(lr_20,20)\n",
    "rfe_20.fit(X_train,y_train)\n"
   ]
  },
  {
   "cell_type": "code",
   "execution_count": 89,
   "metadata": {
    "scrolled": true
   },
   "outputs": [
    {
     "name": "stdout",
     "output_type": "stream",
     "text": [
      "selected columns:\n",
      "\n",
      "['job_housemaid', 'job_student', 'job_unknown', 'default_yes', 'contact_telephone', 'month_aug', 'month_dec', 'month_jun', 'month_mar', 'month_may', 'month_nov', 'day_of_week_mon', 'pdays_First_time_contacted', 'previous_More than_3_times', 'previous_Never contacted', 'poutcome_nonexistent', 'poutcome_success', 'emp.var.rate', 'cons.price.idx', 'euribor3m']\n"
     ]
    }
   ],
   "source": [
    "cols20 = X_train.columns[rfe_20.support_].tolist() \n",
    "print('selected columns:\\n')\n",
    "print(cols20)"
   ]
  },
  {
   "cell_type": "code",
   "execution_count": 90,
   "metadata": {},
   "outputs": [
    {
     "data": {
      "text/html": [
       "<table class=\"simpletable\">\n",
       "<caption>Generalized Linear Model Regression Results</caption>\n",
       "<tr>\n",
       "  <th>Dep. Variable:</th>      <td>response</td>     <th>  No. Observations:  </th>  <td> 28831</td>  \n",
       "</tr>\n",
       "<tr>\n",
       "  <th>Model:</th>                 <td>GLM</td>       <th>  Df Residuals:      </th>  <td> 28811</td>  \n",
       "</tr>\n",
       "<tr>\n",
       "  <th>Model Family:</th>       <td>Binomial</td>     <th>  Df Model:          </th>  <td>    19</td>  \n",
       "</tr>\n",
       "<tr>\n",
       "  <th>Link Function:</th>        <td>logit</td>      <th>  Scale:             </th> <td>  1.0000</td> \n",
       "</tr>\n",
       "<tr>\n",
       "  <th>Method:</th>               <td>IRLS</td>       <th>  Log-Likelihood:    </th> <td>     nan</td> \n",
       "</tr>\n",
       "<tr>\n",
       "  <th>Date:</th>           <td>Tue, 05 Nov 2019</td> <th>  Deviance:          </th> <td>     nan</td> \n",
       "</tr>\n",
       "<tr>\n",
       "  <th>Time:</th>               <td>20:42:56</td>     <th>  Pearson chi2:      </th> <td>2.88e+04</td> \n",
       "</tr>\n",
       "<tr>\n",
       "  <th>No. Iterations:</th>        <td>100</td>       <th>  Covariance Type:   </th> <td>nonrobust</td>\n",
       "</tr>\n",
       "</table>\n",
       "<table class=\"simpletable\">\n",
       "<tr>\n",
       "               <td></td>                 <th>coef</th>     <th>std err</th>      <th>z</th>      <th>P>|z|</th>  <th>[0.025</th>    <th>0.975]</th>  \n",
       "</tr>\n",
       "<tr>\n",
       "  <th>const</th>                      <td>   -1.2531</td> <td>    0.225</td> <td>   -5.569</td> <td> 0.000</td> <td>   -1.694</td> <td>   -0.812</td>\n",
       "</tr>\n",
       "<tr>\n",
       "  <th>job_housemaid</th>              <td>   -0.2406</td> <td>    0.149</td> <td>   -1.618</td> <td> 0.106</td> <td>   -0.532</td> <td>    0.051</td>\n",
       "</tr>\n",
       "<tr>\n",
       "  <th>job_student</th>                <td>    0.1579</td> <td>    0.104</td> <td>    1.521</td> <td> 0.128</td> <td>   -0.046</td> <td>    0.361</td>\n",
       "</tr>\n",
       "<tr>\n",
       "  <th>job_unknown</th>                <td>   -0.4537</td> <td>    0.262</td> <td>   -1.734</td> <td> 0.083</td> <td>   -0.967</td> <td>    0.059</td>\n",
       "</tr>\n",
       "<tr>\n",
       "  <th>default_yes</th>                <td>-8.685e+06</td> <td> 4.75e+07</td> <td>   -0.183</td> <td> 0.855</td> <td>-1.02e+08</td> <td> 8.43e+07</td>\n",
       "</tr>\n",
       "<tr>\n",
       "  <th>contact_telephone</th>          <td>   -0.7503</td> <td>    0.071</td> <td>  -10.549</td> <td> 0.000</td> <td>   -0.890</td> <td>   -0.611</td>\n",
       "</tr>\n",
       "<tr>\n",
       "  <th>month_aug</th>                  <td>    0.5180</td> <td>    0.078</td> <td>    6.642</td> <td> 0.000</td> <td>    0.365</td> <td>    0.671</td>\n",
       "</tr>\n",
       "<tr>\n",
       "  <th>month_dec</th>                  <td>    0.2650</td> <td>    0.196</td> <td>    1.350</td> <td> 0.177</td> <td>   -0.120</td> <td>    0.650</td>\n",
       "</tr>\n",
       "<tr>\n",
       "  <th>month_jun</th>                  <td>   -0.5804</td> <td>    0.083</td> <td>   -7.012</td> <td> 0.000</td> <td>   -0.743</td> <td>   -0.418</td>\n",
       "</tr>\n",
       "<tr>\n",
       "  <th>month_mar</th>                  <td>    1.3093</td> <td>    0.117</td> <td>   11.187</td> <td> 0.000</td> <td>    1.080</td> <td>    1.539</td>\n",
       "</tr>\n",
       "<tr>\n",
       "  <th>month_may</th>                  <td>   -0.5426</td> <td>    0.064</td> <td>   -8.415</td> <td> 0.000</td> <td>   -0.669</td> <td>   -0.416</td>\n",
       "</tr>\n",
       "<tr>\n",
       "  <th>month_nov</th>                  <td>   -0.6298</td> <td>    0.085</td> <td>   -7.403</td> <td> 0.000</td> <td>   -0.796</td> <td>   -0.463</td>\n",
       "</tr>\n",
       "<tr>\n",
       "  <th>day_of_week_mon</th>            <td>   -0.3120</td> <td>    0.054</td> <td>   -5.765</td> <td> 0.000</td> <td>   -0.418</td> <td>   -0.206</td>\n",
       "</tr>\n",
       "<tr>\n",
       "  <th>pdays_First_time_contacted</th> <td>   -1.2197</td> <td>    0.226</td> <td>   -5.387</td> <td> 0.000</td> <td>   -1.663</td> <td>   -0.776</td>\n",
       "</tr>\n",
       "<tr>\n",
       "  <th>previous_More than_3_times</th> <td>   -0.2027</td> <td>    0.289</td> <td>   -0.702</td> <td> 0.482</td> <td>   -0.768</td> <td>    0.363</td>\n",
       "</tr>\n",
       "<tr>\n",
       "  <th>previous_Never contacted</th>   <td>    0.3361</td> <td>    0.352</td> <td>    0.954</td> <td> 0.340</td> <td>   -0.355</td> <td>    1.027</td>\n",
       "</tr>\n",
       "<tr>\n",
       "  <th>poutcome_nonexistent</th>       <td>    0.2077</td> <td>    0.352</td> <td>    0.589</td> <td> 0.556</td> <td>   -0.483</td> <td>    0.898</td>\n",
       "</tr>\n",
       "<tr>\n",
       "  <th>poutcome_success</th>           <td>    0.7090</td> <td>    0.228</td> <td>    3.105</td> <td> 0.002</td> <td>    0.261</td> <td>    1.157</td>\n",
       "</tr>\n",
       "<tr>\n",
       "  <th>emp.var.rate</th>               <td>   -2.4827</td> <td>    0.151</td> <td>  -16.392</td> <td> 0.000</td> <td>   -2.780</td> <td>   -2.186</td>\n",
       "</tr>\n",
       "<tr>\n",
       "  <th>cons.price.idx</th>             <td>    1.0290</td> <td>    0.058</td> <td>   17.783</td> <td> 0.000</td> <td>    0.916</td> <td>    1.142</td>\n",
       "</tr>\n",
       "<tr>\n",
       "  <th>euribor3m</th>                  <td>    1.0514</td> <td>    0.126</td> <td>    8.318</td> <td> 0.000</td> <td>    0.804</td> <td>    1.299</td>\n",
       "</tr>\n",
       "</table>"
      ],
      "text/plain": [
       "<class 'statsmodels.iolib.summary.Summary'>\n",
       "\"\"\"\n",
       "                 Generalized Linear Model Regression Results                  \n",
       "==============================================================================\n",
       "Dep. Variable:               response   No. Observations:                28831\n",
       "Model:                            GLM   Df Residuals:                    28811\n",
       "Model Family:                Binomial   Df Model:                           19\n",
       "Link Function:                  logit   Scale:                          1.0000\n",
       "Method:                          IRLS   Log-Likelihood:                    nan\n",
       "Date:                Tue, 05 Nov 2019   Deviance:                          nan\n",
       "Time:                        20:42:56   Pearson chi2:                 2.88e+04\n",
       "No. Iterations:                   100   Covariance Type:             nonrobust\n",
       "==============================================================================================\n",
       "                                 coef    std err          z      P>|z|      [0.025      0.975]\n",
       "----------------------------------------------------------------------------------------------\n",
       "const                         -1.2531      0.225     -5.569      0.000      -1.694      -0.812\n",
       "job_housemaid                 -0.2406      0.149     -1.618      0.106      -0.532       0.051\n",
       "job_student                    0.1579      0.104      1.521      0.128      -0.046       0.361\n",
       "job_unknown                   -0.4537      0.262     -1.734      0.083      -0.967       0.059\n",
       "default_yes                -8.685e+06   4.75e+07     -0.183      0.855   -1.02e+08    8.43e+07\n",
       "contact_telephone             -0.7503      0.071    -10.549      0.000      -0.890      -0.611\n",
       "month_aug                      0.5180      0.078      6.642      0.000       0.365       0.671\n",
       "month_dec                      0.2650      0.196      1.350      0.177      -0.120       0.650\n",
       "month_jun                     -0.5804      0.083     -7.012      0.000      -0.743      -0.418\n",
       "month_mar                      1.3093      0.117     11.187      0.000       1.080       1.539\n",
       "month_may                     -0.5426      0.064     -8.415      0.000      -0.669      -0.416\n",
       "month_nov                     -0.6298      0.085     -7.403      0.000      -0.796      -0.463\n",
       "day_of_week_mon               -0.3120      0.054     -5.765      0.000      -0.418      -0.206\n",
       "pdays_First_time_contacted    -1.2197      0.226     -5.387      0.000      -1.663      -0.776\n",
       "previous_More than_3_times    -0.2027      0.289     -0.702      0.482      -0.768       0.363\n",
       "previous_Never contacted       0.3361      0.352      0.954      0.340      -0.355       1.027\n",
       "poutcome_nonexistent           0.2077      0.352      0.589      0.556      -0.483       0.898\n",
       "poutcome_success               0.7090      0.228      3.105      0.002       0.261       1.157\n",
       "emp.var.rate                  -2.4827      0.151    -16.392      0.000      -2.780      -2.186\n",
       "cons.price.idx                 1.0290      0.058     17.783      0.000       0.916       1.142\n",
       "euribor3m                      1.0514      0.126      8.318      0.000       0.804       1.299\n",
       "==============================================================================================\n",
       "\"\"\""
      ]
     },
     "execution_count": 90,
     "metadata": {},
     "output_type": "execute_result"
    }
   ],
   "source": [
    "lr_20 = sm.GLM(y_train,sm.add_constant(X_train[cols20]),family = sm.families.Binomial())\n",
    "lr_20.fit().summary()"
   ]
  },
  {
   "cell_type": "markdown",
   "metadata": {},
   "source": [
    "### VIF"
   ]
  },
  {
   "cell_type": "code",
   "execution_count": 91,
   "metadata": {},
   "outputs": [
    {
     "data": {
      "text/html": [
       "<div>\n",
       "<style scoped>\n",
       "    .dataframe tbody tr th:only-of-type {\n",
       "        vertical-align: middle;\n",
       "    }\n",
       "\n",
       "    .dataframe tbody tr th {\n",
       "        vertical-align: top;\n",
       "    }\n",
       "\n",
       "    .dataframe thead th {\n",
       "        text-align: right;\n",
       "    }\n",
       "</style>\n",
       "<table border=\"1\" class=\"dataframe\">\n",
       "  <thead>\n",
       "    <tr style=\"text-align: right;\">\n",
       "      <th></th>\n",
       "      <th>0</th>\n",
       "    </tr>\n",
       "  </thead>\n",
       "  <tbody>\n",
       "    <tr>\n",
       "      <th>poutcome_nonexistent</th>\n",
       "      <td>inf</td>\n",
       "    </tr>\n",
       "    <tr>\n",
       "      <th>previous_Never contacted</th>\n",
       "      <td>inf</td>\n",
       "    </tr>\n",
       "    <tr>\n",
       "      <th>emp.var.rate</th>\n",
       "      <td>75.353580</td>\n",
       "    </tr>\n",
       "    <tr>\n",
       "      <th>euribor3m</th>\n",
       "      <td>51.001421</td>\n",
       "    </tr>\n",
       "    <tr>\n",
       "      <th>pdays_First_time_contacted</th>\n",
       "      <td>14.988601</td>\n",
       "    </tr>\n",
       "    <tr>\n",
       "      <th>cons.price.idx</th>\n",
       "      <td>11.375404</td>\n",
       "    </tr>\n",
       "    <tr>\n",
       "      <th>contact_telephone</th>\n",
       "      <td>4.746972</td>\n",
       "    </tr>\n",
       "    <tr>\n",
       "      <th>month_may</th>\n",
       "      <td>3.320484</td>\n",
       "    </tr>\n",
       "    <tr>\n",
       "      <th>month_aug</th>\n",
       "      <td>2.583025</td>\n",
       "    </tr>\n",
       "    <tr>\n",
       "      <th>month_jun</th>\n",
       "      <td>2.319354</td>\n",
       "    </tr>\n",
       "    <tr>\n",
       "      <th>month_nov</th>\n",
       "      <td>1.921395</td>\n",
       "    </tr>\n",
       "    <tr>\n",
       "      <th>poutcome_success</th>\n",
       "      <td>1.320550</td>\n",
       "    </tr>\n",
       "    <tr>\n",
       "      <th>day_of_week_mon</th>\n",
       "      <td>1.261471</td>\n",
       "    </tr>\n",
       "    <tr>\n",
       "      <th>month_mar</th>\n",
       "      <td>1.120068</td>\n",
       "    </tr>\n",
       "    <tr>\n",
       "      <th>job_student</th>\n",
       "      <td>1.061114</td>\n",
       "    </tr>\n",
       "    <tr>\n",
       "      <th>previous_More than_3_times</th>\n",
       "      <td>1.056323</td>\n",
       "    </tr>\n",
       "    <tr>\n",
       "      <th>month_dec</th>\n",
       "      <td>1.055601</td>\n",
       "    </tr>\n",
       "    <tr>\n",
       "      <th>job_housemaid</th>\n",
       "      <td>1.030814</td>\n",
       "    </tr>\n",
       "    <tr>\n",
       "      <th>job_unknown</th>\n",
       "      <td>1.011518</td>\n",
       "    </tr>\n",
       "    <tr>\n",
       "      <th>default_yes</th>\n",
       "      <td>1.000483</td>\n",
       "    </tr>\n",
       "  </tbody>\n",
       "</table>\n",
       "</div>"
      ],
      "text/plain": [
       "                                    0\n",
       "poutcome_nonexistent              inf\n",
       "previous_Never contacted          inf\n",
       "emp.var.rate                75.353580\n",
       "euribor3m                   51.001421\n",
       "pdays_First_time_contacted  14.988601\n",
       "cons.price.idx              11.375404\n",
       "contact_telephone            4.746972\n",
       "month_may                    3.320484\n",
       "month_aug                    2.583025\n",
       "month_jun                    2.319354\n",
       "month_nov                    1.921395\n",
       "poutcome_success             1.320550\n",
       "day_of_week_mon              1.261471\n",
       "month_mar                    1.120068\n",
       "job_student                  1.061114\n",
       "previous_More than_3_times   1.056323\n",
       "month_dec                    1.055601\n",
       "job_housemaid                1.030814\n",
       "job_unknown                  1.011518\n",
       "default_yes                  1.000483"
      ]
     },
     "execution_count": 91,
     "metadata": {},
     "output_type": "execute_result"
    }
   ],
   "source": [
    "X = X_train[cols20]\n",
    "pd.DataFrame([variance_inflation_factor(X.values, i) \n",
    "               for i in range(X.shape[1])], \n",
    "              index=X.columns).sort_values(by =0,ascending = False)"
   ]
  },
  {
   "cell_type": "markdown",
   "metadata": {},
   "source": [
    "dropping `poutcome_nonexistent` because it has large VIF and large pvalue"
   ]
  },
  {
   "cell_type": "markdown",
   "metadata": {},
   "source": [
    "## Dropping poutcome_nonexistent "
   ]
  },
  {
   "cell_type": "code",
   "execution_count": 92,
   "metadata": {},
   "outputs": [],
   "source": [
    "cols20.remove('poutcome_nonexistent')"
   ]
  },
  {
   "cell_type": "code",
   "execution_count": 93,
   "metadata": {},
   "outputs": [
    {
     "data": {
      "text/html": [
       "<table class=\"simpletable\">\n",
       "<caption>Generalized Linear Model Regression Results</caption>\n",
       "<tr>\n",
       "  <th>Dep. Variable:</th>      <td>response</td>     <th>  No. Observations:  </th>  <td> 28831</td>  \n",
       "</tr>\n",
       "<tr>\n",
       "  <th>Model:</th>                 <td>GLM</td>       <th>  Df Residuals:      </th>  <td> 28811</td>  \n",
       "</tr>\n",
       "<tr>\n",
       "  <th>Model Family:</th>       <td>Binomial</td>     <th>  Df Model:          </th>  <td>    19</td>  \n",
       "</tr>\n",
       "<tr>\n",
       "  <th>Link Function:</th>        <td>logit</td>      <th>  Scale:             </th> <td>  1.0000</td> \n",
       "</tr>\n",
       "<tr>\n",
       "  <th>Method:</th>               <td>IRLS</td>       <th>  Log-Likelihood:    </th> <td> -7963.0</td> \n",
       "</tr>\n",
       "<tr>\n",
       "  <th>Date:</th>           <td>Tue, 05 Nov 2019</td> <th>  Deviance:          </th> <td>  15926.</td> \n",
       "</tr>\n",
       "<tr>\n",
       "  <th>Time:</th>               <td>20:42:57</td>     <th>  Pearson chi2:      </th> <td>2.88e+04</td> \n",
       "</tr>\n",
       "<tr>\n",
       "  <th>No. Iterations:</th>        <td>19</td>        <th>  Covariance Type:   </th> <td>nonrobust</td>\n",
       "</tr>\n",
       "</table>\n",
       "<table class=\"simpletable\">\n",
       "<tr>\n",
       "               <td></td>                 <th>coef</th>     <th>std err</th>      <th>z</th>      <th>P>|z|</th>  <th>[0.025</th>    <th>0.975]</th>  \n",
       "</tr>\n",
       "<tr>\n",
       "  <th>const</th>                      <td>   -1.2531</td> <td>    0.225</td> <td>   -5.569</td> <td> 0.000</td> <td>   -1.694</td> <td>   -0.812</td>\n",
       "</tr>\n",
       "<tr>\n",
       "  <th>job_housemaid</th>              <td>   -0.2406</td> <td>    0.149</td> <td>   -1.616</td> <td> 0.106</td> <td>   -0.532</td> <td>    0.051</td>\n",
       "</tr>\n",
       "<tr>\n",
       "  <th>job_student</th>                <td>    0.1579</td> <td>    0.104</td> <td>    1.521</td> <td> 0.128</td> <td>   -0.046</td> <td>    0.361</td>\n",
       "</tr>\n",
       "<tr>\n",
       "  <th>job_unknown</th>                <td>   -0.4537</td> <td>    0.262</td> <td>   -1.732</td> <td> 0.083</td> <td>   -0.967</td> <td>    0.060</td>\n",
       "</tr>\n",
       "<tr>\n",
       "  <th>default_yes</th>                <td>  -17.5321</td> <td> 1.25e+04</td> <td>   -0.001</td> <td> 0.999</td> <td>-2.46e+04</td> <td> 2.45e+04</td>\n",
       "</tr>\n",
       "<tr>\n",
       "  <th>contact_telephone</th>          <td>   -0.7503</td> <td>    0.071</td> <td>  -10.537</td> <td> 0.000</td> <td>   -0.890</td> <td>   -0.611</td>\n",
       "</tr>\n",
       "<tr>\n",
       "  <th>month_aug</th>                  <td>    0.5180</td> <td>    0.078</td> <td>    6.636</td> <td> 0.000</td> <td>    0.365</td> <td>    0.671</td>\n",
       "</tr>\n",
       "<tr>\n",
       "  <th>month_dec</th>                  <td>    0.2650</td> <td>    0.196</td> <td>    1.349</td> <td> 0.177</td> <td>   -0.120</td> <td>    0.650</td>\n",
       "</tr>\n",
       "<tr>\n",
       "  <th>month_jun</th>                  <td>   -0.5805</td> <td>    0.083</td> <td>   -7.004</td> <td> 0.000</td> <td>   -0.743</td> <td>   -0.418</td>\n",
       "</tr>\n",
       "<tr>\n",
       "  <th>month_mar</th>                  <td>    1.3093</td> <td>    0.117</td> <td>   11.184</td> <td> 0.000</td> <td>    1.080</td> <td>    1.539</td>\n",
       "</tr>\n",
       "<tr>\n",
       "  <th>month_may</th>                  <td>   -0.5426</td> <td>    0.065</td> <td>   -8.405</td> <td> 0.000</td> <td>   -0.669</td> <td>   -0.416</td>\n",
       "</tr>\n",
       "<tr>\n",
       "  <th>month_nov</th>                  <td>   -0.6298</td> <td>    0.085</td> <td>   -7.396</td> <td> 0.000</td> <td>   -0.797</td> <td>   -0.463</td>\n",
       "</tr>\n",
       "<tr>\n",
       "  <th>day_of_week_mon</th>            <td>   -0.3120</td> <td>    0.054</td> <td>   -5.759</td> <td> 0.000</td> <td>   -0.418</td> <td>   -0.206</td>\n",
       "</tr>\n",
       "<tr>\n",
       "  <th>pdays_First_time_contacted</th> <td>   -1.2197</td> <td>    0.226</td> <td>   -5.388</td> <td> 0.000</td> <td>   -1.663</td> <td>   -0.776</td>\n",
       "</tr>\n",
       "<tr>\n",
       "  <th>previous_More than_3_times</th> <td>   -0.2027</td> <td>    0.288</td> <td>   -0.702</td> <td> 0.482</td> <td>   -0.768</td> <td>    0.363</td>\n",
       "</tr>\n",
       "<tr>\n",
       "  <th>previous_Never contacted</th>   <td>    0.5438</td> <td>    0.068</td> <td>    8.016</td> <td> 0.000</td> <td>    0.411</td> <td>    0.677</td>\n",
       "</tr>\n",
       "<tr>\n",
       "  <th>poutcome_success</th>           <td>    0.7090</td> <td>    0.228</td> <td>    3.105</td> <td> 0.002</td> <td>    0.261</td> <td>    1.156</td>\n",
       "</tr>\n",
       "<tr>\n",
       "  <th>emp.var.rate</th>               <td>   -2.4827</td> <td>    0.152</td> <td>  -16.377</td> <td> 0.000</td> <td>   -2.780</td> <td>   -2.186</td>\n",
       "</tr>\n",
       "<tr>\n",
       "  <th>cons.price.idx</th>             <td>    1.0291</td> <td>    0.058</td> <td>   17.770</td> <td> 0.000</td> <td>    0.916</td> <td>    1.143</td>\n",
       "</tr>\n",
       "<tr>\n",
       "  <th>euribor3m</th>                  <td>    1.0514</td> <td>    0.127</td> <td>    8.310</td> <td> 0.000</td> <td>    0.803</td> <td>    1.299</td>\n",
       "</tr>\n",
       "</table>"
      ],
      "text/plain": [
       "<class 'statsmodels.iolib.summary.Summary'>\n",
       "\"\"\"\n",
       "                 Generalized Linear Model Regression Results                  \n",
       "==============================================================================\n",
       "Dep. Variable:               response   No. Observations:                28831\n",
       "Model:                            GLM   Df Residuals:                    28811\n",
       "Model Family:                Binomial   Df Model:                           19\n",
       "Link Function:                  logit   Scale:                          1.0000\n",
       "Method:                          IRLS   Log-Likelihood:                -7963.0\n",
       "Date:                Tue, 05 Nov 2019   Deviance:                       15926.\n",
       "Time:                        20:42:57   Pearson chi2:                 2.88e+04\n",
       "No. Iterations:                    19   Covariance Type:             nonrobust\n",
       "==============================================================================================\n",
       "                                 coef    std err          z      P>|z|      [0.025      0.975]\n",
       "----------------------------------------------------------------------------------------------\n",
       "const                         -1.2531      0.225     -5.569      0.000      -1.694      -0.812\n",
       "job_housemaid                 -0.2406      0.149     -1.616      0.106      -0.532       0.051\n",
       "job_student                    0.1579      0.104      1.521      0.128      -0.046       0.361\n",
       "job_unknown                   -0.4537      0.262     -1.732      0.083      -0.967       0.060\n",
       "default_yes                  -17.5321   1.25e+04     -0.001      0.999   -2.46e+04    2.45e+04\n",
       "contact_telephone             -0.7503      0.071    -10.537      0.000      -0.890      -0.611\n",
       "month_aug                      0.5180      0.078      6.636      0.000       0.365       0.671\n",
       "month_dec                      0.2650      0.196      1.349      0.177      -0.120       0.650\n",
       "month_jun                     -0.5805      0.083     -7.004      0.000      -0.743      -0.418\n",
       "month_mar                      1.3093      0.117     11.184      0.000       1.080       1.539\n",
       "month_may                     -0.5426      0.065     -8.405      0.000      -0.669      -0.416\n",
       "month_nov                     -0.6298      0.085     -7.396      0.000      -0.797      -0.463\n",
       "day_of_week_mon               -0.3120      0.054     -5.759      0.000      -0.418      -0.206\n",
       "pdays_First_time_contacted    -1.2197      0.226     -5.388      0.000      -1.663      -0.776\n",
       "previous_More than_3_times    -0.2027      0.288     -0.702      0.482      -0.768       0.363\n",
       "previous_Never contacted       0.5438      0.068      8.016      0.000       0.411       0.677\n",
       "poutcome_success               0.7090      0.228      3.105      0.002       0.261       1.156\n",
       "emp.var.rate                  -2.4827      0.152    -16.377      0.000      -2.780      -2.186\n",
       "cons.price.idx                 1.0291      0.058     17.770      0.000       0.916       1.143\n",
       "euribor3m                      1.0514      0.127      8.310      0.000       0.803       1.299\n",
       "==============================================================================================\n",
       "\"\"\""
      ]
     },
     "execution_count": 93,
     "metadata": {},
     "output_type": "execute_result"
    }
   ],
   "source": [
    "lr_19 = sm.GLM(y_train,sm.add_constant(X_train[cols20]),family = sm.families.Binomial())\n",
    "lr_19.fit().summary()"
   ]
  },
  {
   "cell_type": "markdown",
   "metadata": {},
   "source": [
    "### VIF"
   ]
  },
  {
   "cell_type": "code",
   "execution_count": 94,
   "metadata": {},
   "outputs": [
    {
     "data": {
      "text/html": [
       "<div>\n",
       "<style scoped>\n",
       "    .dataframe tbody tr th:only-of-type {\n",
       "        vertical-align: middle;\n",
       "    }\n",
       "\n",
       "    .dataframe tbody tr th {\n",
       "        vertical-align: top;\n",
       "    }\n",
       "\n",
       "    .dataframe thead th {\n",
       "        text-align: right;\n",
       "    }\n",
       "</style>\n",
       "<table border=\"1\" class=\"dataframe\">\n",
       "  <thead>\n",
       "    <tr style=\"text-align: right;\">\n",
       "      <th></th>\n",
       "      <th>0</th>\n",
       "    </tr>\n",
       "  </thead>\n",
       "  <tbody>\n",
       "    <tr>\n",
       "      <th>emp.var.rate</th>\n",
       "      <td>75.353580</td>\n",
       "    </tr>\n",
       "    <tr>\n",
       "      <th>euribor3m</th>\n",
       "      <td>51.001421</td>\n",
       "    </tr>\n",
       "    <tr>\n",
       "      <th>pdays_First_time_contacted</th>\n",
       "      <td>14.988601</td>\n",
       "    </tr>\n",
       "    <tr>\n",
       "      <th>previous_Never contacted</th>\n",
       "      <td>11.874114</td>\n",
       "    </tr>\n",
       "    <tr>\n",
       "      <th>cons.price.idx</th>\n",
       "      <td>11.375404</td>\n",
       "    </tr>\n",
       "    <tr>\n",
       "      <th>contact_telephone</th>\n",
       "      <td>4.746972</td>\n",
       "    </tr>\n",
       "    <tr>\n",
       "      <th>month_may</th>\n",
       "      <td>3.320484</td>\n",
       "    </tr>\n",
       "    <tr>\n",
       "      <th>month_aug</th>\n",
       "      <td>2.583025</td>\n",
       "    </tr>\n",
       "    <tr>\n",
       "      <th>month_jun</th>\n",
       "      <td>2.319354</td>\n",
       "    </tr>\n",
       "    <tr>\n",
       "      <th>month_nov</th>\n",
       "      <td>1.921395</td>\n",
       "    </tr>\n",
       "    <tr>\n",
       "      <th>poutcome_success</th>\n",
       "      <td>1.320550</td>\n",
       "    </tr>\n",
       "    <tr>\n",
       "      <th>day_of_week_mon</th>\n",
       "      <td>1.261471</td>\n",
       "    </tr>\n",
       "    <tr>\n",
       "      <th>month_mar</th>\n",
       "      <td>1.120068</td>\n",
       "    </tr>\n",
       "    <tr>\n",
       "      <th>job_student</th>\n",
       "      <td>1.061114</td>\n",
       "    </tr>\n",
       "    <tr>\n",
       "      <th>previous_More than_3_times</th>\n",
       "      <td>1.056323</td>\n",
       "    </tr>\n",
       "    <tr>\n",
       "      <th>month_dec</th>\n",
       "      <td>1.055601</td>\n",
       "    </tr>\n",
       "    <tr>\n",
       "      <th>job_housemaid</th>\n",
       "      <td>1.030814</td>\n",
       "    </tr>\n",
       "    <tr>\n",
       "      <th>job_unknown</th>\n",
       "      <td>1.011518</td>\n",
       "    </tr>\n",
       "    <tr>\n",
       "      <th>default_yes</th>\n",
       "      <td>1.000483</td>\n",
       "    </tr>\n",
       "  </tbody>\n",
       "</table>\n",
       "</div>"
      ],
      "text/plain": [
       "                                    0\n",
       "emp.var.rate                75.353580\n",
       "euribor3m                   51.001421\n",
       "pdays_First_time_contacted  14.988601\n",
       "previous_Never contacted    11.874114\n",
       "cons.price.idx              11.375404\n",
       "contact_telephone            4.746972\n",
       "month_may                    3.320484\n",
       "month_aug                    2.583025\n",
       "month_jun                    2.319354\n",
       "month_nov                    1.921395\n",
       "poutcome_success             1.320550\n",
       "day_of_week_mon              1.261471\n",
       "month_mar                    1.120068\n",
       "job_student                  1.061114\n",
       "previous_More than_3_times   1.056323\n",
       "month_dec                    1.055601\n",
       "job_housemaid                1.030814\n",
       "job_unknown                  1.011518\n",
       "default_yes                  1.000483"
      ]
     },
     "execution_count": 94,
     "metadata": {},
     "output_type": "execute_result"
    }
   ],
   "source": [
    "X = X_train[cols20]\n",
    "pd.DataFrame([variance_inflation_factor(X.values, i) \n",
    "               for i in range(X.shape[1])], \n",
    "              index=X.columns).sort_values(by =0,ascending = False)"
   ]
  },
  {
   "cell_type": "markdown",
   "metadata": {},
   "source": [
    "## Dropping default_yes"
   ]
  },
  {
   "cell_type": "code",
   "execution_count": 95,
   "metadata": {},
   "outputs": [],
   "source": [
    "cols20.remove('default_yes')"
   ]
  },
  {
   "cell_type": "code",
   "execution_count": 96,
   "metadata": {},
   "outputs": [
    {
     "data": {
      "text/html": [
       "<table class=\"simpletable\">\n",
       "<caption>Generalized Linear Model Regression Results</caption>\n",
       "<tr>\n",
       "  <th>Dep. Variable:</th>      <td>response</td>     <th>  No. Observations:  </th>  <td> 28831</td>  \n",
       "</tr>\n",
       "<tr>\n",
       "  <th>Model:</th>                 <td>GLM</td>       <th>  Df Residuals:      </th>  <td> 28812</td>  \n",
       "</tr>\n",
       "<tr>\n",
       "  <th>Model Family:</th>       <td>Binomial</td>     <th>  Df Model:          </th>  <td>    18</td>  \n",
       "</tr>\n",
       "<tr>\n",
       "  <th>Link Function:</th>        <td>logit</td>      <th>  Scale:             </th> <td>  1.0000</td> \n",
       "</tr>\n",
       "<tr>\n",
       "  <th>Method:</th>               <td>IRLS</td>       <th>  Log-Likelihood:    </th> <td> -7963.1</td> \n",
       "</tr>\n",
       "<tr>\n",
       "  <th>Date:</th>           <td>Tue, 05 Nov 2019</td> <th>  Deviance:          </th> <td>  15926.</td> \n",
       "</tr>\n",
       "<tr>\n",
       "  <th>Time:</th>               <td>20:42:58</td>     <th>  Pearson chi2:      </th> <td>2.88e+04</td> \n",
       "</tr>\n",
       "<tr>\n",
       "  <th>No. Iterations:</th>         <td>6</td>        <th>  Covariance Type:   </th> <td>nonrobust</td>\n",
       "</tr>\n",
       "</table>\n",
       "<table class=\"simpletable\">\n",
       "<tr>\n",
       "               <td></td>                 <th>coef</th>     <th>std err</th>      <th>z</th>      <th>P>|z|</th>  <th>[0.025</th>    <th>0.975]</th>  \n",
       "</tr>\n",
       "<tr>\n",
       "  <th>const</th>                      <td>   -1.2532</td> <td>    0.225</td> <td>   -5.569</td> <td> 0.000</td> <td>   -1.694</td> <td>   -0.812</td>\n",
       "</tr>\n",
       "<tr>\n",
       "  <th>job_housemaid</th>              <td>   -0.2405</td> <td>    0.149</td> <td>   -1.616</td> <td> 0.106</td> <td>   -0.532</td> <td>    0.051</td>\n",
       "</tr>\n",
       "<tr>\n",
       "  <th>job_student</th>                <td>    0.1579</td> <td>    0.104</td> <td>    1.521</td> <td> 0.128</td> <td>   -0.046</td> <td>    0.361</td>\n",
       "</tr>\n",
       "<tr>\n",
       "  <th>job_unknown</th>                <td>   -0.4536</td> <td>    0.262</td> <td>   -1.732</td> <td> 0.083</td> <td>   -0.967</td> <td>    0.060</td>\n",
       "</tr>\n",
       "<tr>\n",
       "  <th>contact_telephone</th>          <td>   -0.7502</td> <td>    0.071</td> <td>  -10.536</td> <td> 0.000</td> <td>   -0.890</td> <td>   -0.611</td>\n",
       "</tr>\n",
       "<tr>\n",
       "  <th>month_aug</th>                  <td>    0.5179</td> <td>    0.078</td> <td>    6.635</td> <td> 0.000</td> <td>    0.365</td> <td>    0.671</td>\n",
       "</tr>\n",
       "<tr>\n",
       "  <th>month_dec</th>                  <td>    0.2650</td> <td>    0.196</td> <td>    1.349</td> <td> 0.177</td> <td>   -0.120</td> <td>    0.650</td>\n",
       "</tr>\n",
       "<tr>\n",
       "  <th>month_jun</th>                  <td>   -0.5805</td> <td>    0.083</td> <td>   -7.004</td> <td> 0.000</td> <td>   -0.743</td> <td>   -0.418</td>\n",
       "</tr>\n",
       "<tr>\n",
       "  <th>month_mar</th>                  <td>    1.3093</td> <td>    0.117</td> <td>   11.183</td> <td> 0.000</td> <td>    1.080</td> <td>    1.539</td>\n",
       "</tr>\n",
       "<tr>\n",
       "  <th>month_may</th>                  <td>   -0.5426</td> <td>    0.065</td> <td>   -8.405</td> <td> 0.000</td> <td>   -0.669</td> <td>   -0.416</td>\n",
       "</tr>\n",
       "<tr>\n",
       "  <th>month_nov</th>                  <td>   -0.6299</td> <td>    0.085</td> <td>   -7.398</td> <td> 0.000</td> <td>   -0.797</td> <td>   -0.463</td>\n",
       "</tr>\n",
       "<tr>\n",
       "  <th>day_of_week_mon</th>            <td>   -0.3120</td> <td>    0.054</td> <td>   -5.758</td> <td> 0.000</td> <td>   -0.418</td> <td>   -0.206</td>\n",
       "</tr>\n",
       "<tr>\n",
       "  <th>pdays_First_time_contacted</th> <td>   -1.2199</td> <td>    0.226</td> <td>   -5.388</td> <td> 0.000</td> <td>   -1.664</td> <td>   -0.776</td>\n",
       "</tr>\n",
       "<tr>\n",
       "  <th>previous_More than_3_times</th> <td>   -0.2026</td> <td>    0.288</td> <td>   -0.702</td> <td> 0.482</td> <td>   -0.768</td> <td>    0.363</td>\n",
       "</tr>\n",
       "<tr>\n",
       "  <th>previous_Never contacted</th>   <td>    0.5439</td> <td>    0.068</td> <td>    8.018</td> <td> 0.000</td> <td>    0.411</td> <td>    0.677</td>\n",
       "</tr>\n",
       "<tr>\n",
       "  <th>poutcome_success</th>           <td>    0.7090</td> <td>    0.228</td> <td>    3.105</td> <td> 0.002</td> <td>    0.261</td> <td>    1.156</td>\n",
       "</tr>\n",
       "<tr>\n",
       "  <th>emp.var.rate</th>               <td>   -2.4828</td> <td>    0.152</td> <td>  -16.378</td> <td> 0.000</td> <td>   -2.780</td> <td>   -2.186</td>\n",
       "</tr>\n",
       "<tr>\n",
       "  <th>cons.price.idx</th>             <td>    1.0291</td> <td>    0.058</td> <td>   17.771</td> <td> 0.000</td> <td>    0.916</td> <td>    1.143</td>\n",
       "</tr>\n",
       "<tr>\n",
       "  <th>euribor3m</th>                  <td>    1.0514</td> <td>    0.127</td> <td>    8.310</td> <td> 0.000</td> <td>    0.803</td> <td>    1.299</td>\n",
       "</tr>\n",
       "</table>"
      ],
      "text/plain": [
       "<class 'statsmodels.iolib.summary.Summary'>\n",
       "\"\"\"\n",
       "                 Generalized Linear Model Regression Results                  \n",
       "==============================================================================\n",
       "Dep. Variable:               response   No. Observations:                28831\n",
       "Model:                            GLM   Df Residuals:                    28812\n",
       "Model Family:                Binomial   Df Model:                           18\n",
       "Link Function:                  logit   Scale:                          1.0000\n",
       "Method:                          IRLS   Log-Likelihood:                -7963.1\n",
       "Date:                Tue, 05 Nov 2019   Deviance:                       15926.\n",
       "Time:                        20:42:58   Pearson chi2:                 2.88e+04\n",
       "No. Iterations:                     6   Covariance Type:             nonrobust\n",
       "==============================================================================================\n",
       "                                 coef    std err          z      P>|z|      [0.025      0.975]\n",
       "----------------------------------------------------------------------------------------------\n",
       "const                         -1.2532      0.225     -5.569      0.000      -1.694      -0.812\n",
       "job_housemaid                 -0.2405      0.149     -1.616      0.106      -0.532       0.051\n",
       "job_student                    0.1579      0.104      1.521      0.128      -0.046       0.361\n",
       "job_unknown                   -0.4536      0.262     -1.732      0.083      -0.967       0.060\n",
       "contact_telephone             -0.7502      0.071    -10.536      0.000      -0.890      -0.611\n",
       "month_aug                      0.5179      0.078      6.635      0.000       0.365       0.671\n",
       "month_dec                      0.2650      0.196      1.349      0.177      -0.120       0.650\n",
       "month_jun                     -0.5805      0.083     -7.004      0.000      -0.743      -0.418\n",
       "month_mar                      1.3093      0.117     11.183      0.000       1.080       1.539\n",
       "month_may                     -0.5426      0.065     -8.405      0.000      -0.669      -0.416\n",
       "month_nov                     -0.6299      0.085     -7.398      0.000      -0.797      -0.463\n",
       "day_of_week_mon               -0.3120      0.054     -5.758      0.000      -0.418      -0.206\n",
       "pdays_First_time_contacted    -1.2199      0.226     -5.388      0.000      -1.664      -0.776\n",
       "previous_More than_3_times    -0.2026      0.288     -0.702      0.482      -0.768       0.363\n",
       "previous_Never contacted       0.5439      0.068      8.018      0.000       0.411       0.677\n",
       "poutcome_success               0.7090      0.228      3.105      0.002       0.261       1.156\n",
       "emp.var.rate                  -2.4828      0.152    -16.378      0.000      -2.780      -2.186\n",
       "cons.price.idx                 1.0291      0.058     17.771      0.000       0.916       1.143\n",
       "euribor3m                      1.0514      0.127      8.310      0.000       0.803       1.299\n",
       "==============================================================================================\n",
       "\"\"\""
      ]
     },
     "execution_count": 96,
     "metadata": {},
     "output_type": "execute_result"
    }
   ],
   "source": [
    "lr_18 = sm.GLM(y_train,sm.add_constant(X_train[cols20]),family = sm.families.Binomial())\n",
    "lr_18.fit().summary()"
   ]
  },
  {
   "cell_type": "markdown",
   "metadata": {},
   "source": [
    "### VIF"
   ]
  },
  {
   "cell_type": "code",
   "execution_count": 97,
   "metadata": {},
   "outputs": [
    {
     "data": {
      "text/html": [
       "<div>\n",
       "<style scoped>\n",
       "    .dataframe tbody tr th:only-of-type {\n",
       "        vertical-align: middle;\n",
       "    }\n",
       "\n",
       "    .dataframe tbody tr th {\n",
       "        vertical-align: top;\n",
       "    }\n",
       "\n",
       "    .dataframe thead th {\n",
       "        text-align: right;\n",
       "    }\n",
       "</style>\n",
       "<table border=\"1\" class=\"dataframe\">\n",
       "  <thead>\n",
       "    <tr style=\"text-align: right;\">\n",
       "      <th></th>\n",
       "      <th>0</th>\n",
       "    </tr>\n",
       "  </thead>\n",
       "  <tbody>\n",
       "    <tr>\n",
       "      <th>emp.var.rate</th>\n",
       "      <td>75.353579</td>\n",
       "    </tr>\n",
       "    <tr>\n",
       "      <th>euribor3m</th>\n",
       "      <td>51.001285</td>\n",
       "    </tr>\n",
       "    <tr>\n",
       "      <th>pdays_First_time_contacted</th>\n",
       "      <td>14.986580</td>\n",
       "    </tr>\n",
       "    <tr>\n",
       "      <th>previous_Never contacted</th>\n",
       "      <td>11.872292</td>\n",
       "    </tr>\n",
       "    <tr>\n",
       "      <th>cons.price.idx</th>\n",
       "      <td>11.375401</td>\n",
       "    </tr>\n",
       "    <tr>\n",
       "      <th>contact_telephone</th>\n",
       "      <td>4.746949</td>\n",
       "    </tr>\n",
       "    <tr>\n",
       "      <th>month_may</th>\n",
       "      <td>3.320481</td>\n",
       "    </tr>\n",
       "    <tr>\n",
       "      <th>month_aug</th>\n",
       "      <td>2.582943</td>\n",
       "    </tr>\n",
       "    <tr>\n",
       "      <th>month_jun</th>\n",
       "      <td>2.319350</td>\n",
       "    </tr>\n",
       "    <tr>\n",
       "      <th>month_nov</th>\n",
       "      <td>1.921286</td>\n",
       "    </tr>\n",
       "    <tr>\n",
       "      <th>poutcome_success</th>\n",
       "      <td>1.320547</td>\n",
       "    </tr>\n",
       "    <tr>\n",
       "      <th>day_of_week_mon</th>\n",
       "      <td>1.261454</td>\n",
       "    </tr>\n",
       "    <tr>\n",
       "      <th>month_mar</th>\n",
       "      <td>1.120067</td>\n",
       "    </tr>\n",
       "    <tr>\n",
       "      <th>job_student</th>\n",
       "      <td>1.061114</td>\n",
       "    </tr>\n",
       "    <tr>\n",
       "      <th>previous_More than_3_times</th>\n",
       "      <td>1.056323</td>\n",
       "    </tr>\n",
       "    <tr>\n",
       "      <th>month_dec</th>\n",
       "      <td>1.055601</td>\n",
       "    </tr>\n",
       "    <tr>\n",
       "      <th>job_housemaid</th>\n",
       "      <td>1.030812</td>\n",
       "    </tr>\n",
       "    <tr>\n",
       "      <th>job_unknown</th>\n",
       "      <td>1.011518</td>\n",
       "    </tr>\n",
       "  </tbody>\n",
       "</table>\n",
       "</div>"
      ],
      "text/plain": [
       "                                    0\n",
       "emp.var.rate                75.353579\n",
       "euribor3m                   51.001285\n",
       "pdays_First_time_contacted  14.986580\n",
       "previous_Never contacted    11.872292\n",
       "cons.price.idx              11.375401\n",
       "contact_telephone            4.746949\n",
       "month_may                    3.320481\n",
       "month_aug                    2.582943\n",
       "month_jun                    2.319350\n",
       "month_nov                    1.921286\n",
       "poutcome_success             1.320547\n",
       "day_of_week_mon              1.261454\n",
       "month_mar                    1.120067\n",
       "job_student                  1.061114\n",
       "previous_More than_3_times   1.056323\n",
       "month_dec                    1.055601\n",
       "job_housemaid                1.030812\n",
       "job_unknown                  1.011518"
      ]
     },
     "execution_count": 97,
     "metadata": {},
     "output_type": "execute_result"
    }
   ],
   "source": [
    "X = X_train[cols20]\n",
    "pd.DataFrame([variance_inflation_factor(X.values, i) \n",
    "               for i in range(X.shape[1])], \n",
    "              index=X.columns).sort_values(by =0,ascending = False)"
   ]
  },
  {
   "cell_type": "markdown",
   "metadata": {},
   "source": [
    "## Dropping emp.var.rate"
   ]
  },
  {
   "cell_type": "code",
   "execution_count": 98,
   "metadata": {},
   "outputs": [],
   "source": [
    "cols20.remove('emp.var.rate')"
   ]
  },
  {
   "cell_type": "code",
   "execution_count": 99,
   "metadata": {},
   "outputs": [
    {
     "data": {
      "text/html": [
       "<table class=\"simpletable\">\n",
       "<caption>Generalized Linear Model Regression Results</caption>\n",
       "<tr>\n",
       "  <th>Dep. Variable:</th>      <td>response</td>     <th>  No. Observations:  </th>  <td> 28831</td>  \n",
       "</tr>\n",
       "<tr>\n",
       "  <th>Model:</th>                 <td>GLM</td>       <th>  Df Residuals:      </th>  <td> 28813</td>  \n",
       "</tr>\n",
       "<tr>\n",
       "  <th>Model Family:</th>       <td>Binomial</td>     <th>  Df Model:          </th>  <td>    17</td>  \n",
       "</tr>\n",
       "<tr>\n",
       "  <th>Link Function:</th>        <td>logit</td>      <th>  Scale:             </th> <td>  1.0000</td> \n",
       "</tr>\n",
       "<tr>\n",
       "  <th>Method:</th>               <td>IRLS</td>       <th>  Log-Likelihood:    </th> <td> -8092.9</td> \n",
       "</tr>\n",
       "<tr>\n",
       "  <th>Date:</th>           <td>Tue, 05 Nov 2019</td> <th>  Deviance:          </th> <td>  16186.</td> \n",
       "</tr>\n",
       "<tr>\n",
       "  <th>Time:</th>               <td>20:42:59</td>     <th>  Pearson chi2:      </th> <td>3.08e+04</td> \n",
       "</tr>\n",
       "<tr>\n",
       "  <th>No. Iterations:</th>         <td>6</td>        <th>  Covariance Type:   </th> <td>nonrobust</td>\n",
       "</tr>\n",
       "</table>\n",
       "<table class=\"simpletable\">\n",
       "<tr>\n",
       "               <td></td>                 <th>coef</th>     <th>std err</th>      <th>z</th>      <th>P>|z|</th>  <th>[0.025</th>    <th>0.975]</th>  \n",
       "</tr>\n",
       "<tr>\n",
       "  <th>const</th>                      <td>   -1.1358</td> <td>    0.221</td> <td>   -5.131</td> <td> 0.000</td> <td>   -1.570</td> <td>   -0.702</td>\n",
       "</tr>\n",
       "<tr>\n",
       "  <th>job_housemaid</th>              <td>   -0.1883</td> <td>    0.147</td> <td>   -1.283</td> <td> 0.199</td> <td>   -0.476</td> <td>    0.099</td>\n",
       "</tr>\n",
       "<tr>\n",
       "  <th>job_student</th>                <td>    0.2326</td> <td>    0.103</td> <td>    2.269</td> <td> 0.023</td> <td>    0.032</td> <td>    0.433</td>\n",
       "</tr>\n",
       "<tr>\n",
       "  <th>job_unknown</th>                <td>   -0.2678</td> <td>    0.257</td> <td>   -1.041</td> <td> 0.298</td> <td>   -0.772</td> <td>    0.236</td>\n",
       "</tr>\n",
       "<tr>\n",
       "  <th>contact_telephone</th>          <td>   -0.3636</td> <td>    0.064</td> <td>   -5.652</td> <td> 0.000</td> <td>   -0.490</td> <td>   -0.238</td>\n",
       "</tr>\n",
       "<tr>\n",
       "  <th>month_aug</th>                  <td>    0.0455</td> <td>    0.070</td> <td>    0.647</td> <td> 0.517</td> <td>   -0.092</td> <td>    0.183</td>\n",
       "</tr>\n",
       "<tr>\n",
       "  <th>month_dec</th>                  <td>    0.4741</td> <td>    0.195</td> <td>    2.437</td> <td> 0.015</td> <td>    0.093</td> <td>    0.855</td>\n",
       "</tr>\n",
       "<tr>\n",
       "  <th>month_jun</th>                  <td>    0.0482</td> <td>    0.074</td> <td>    0.646</td> <td> 0.518</td> <td>   -0.098</td> <td>    0.194</td>\n",
       "</tr>\n",
       "<tr>\n",
       "  <th>month_mar</th>                  <td>    0.7773</td> <td>    0.114</td> <td>    6.833</td> <td> 0.000</td> <td>    0.554</td> <td>    1.000</td>\n",
       "</tr>\n",
       "<tr>\n",
       "  <th>month_may</th>                  <td>   -0.9709</td> <td>    0.058</td> <td>  -16.603</td> <td> 0.000</td> <td>   -1.086</td> <td>   -0.856</td>\n",
       "</tr>\n",
       "<tr>\n",
       "  <th>month_nov</th>                  <td>   -0.1392</td> <td>    0.079</td> <td>   -1.765</td> <td> 0.078</td> <td>   -0.294</td> <td>    0.015</td>\n",
       "</tr>\n",
       "<tr>\n",
       "  <th>day_of_week_mon</th>            <td>   -0.3176</td> <td>    0.053</td> <td>   -5.938</td> <td> 0.000</td> <td>   -0.422</td> <td>   -0.213</td>\n",
       "</tr>\n",
       "<tr>\n",
       "  <th>pdays_First_time_contacted</th> <td>   -1.4196</td> <td>    0.222</td> <td>   -6.383</td> <td> 0.000</td> <td>   -1.855</td> <td>   -0.984</td>\n",
       "</tr>\n",
       "<tr>\n",
       "  <th>previous_More than_3_times</th> <td>   -0.1465</td> <td>    0.288</td> <td>   -0.509</td> <td> 0.611</td> <td>   -0.711</td> <td>    0.418</td>\n",
       "</tr>\n",
       "<tr>\n",
       "  <th>previous_Never contacted</th>   <td>    0.5392</td> <td>    0.066</td> <td>    8.131</td> <td> 0.000</td> <td>    0.409</td> <td>    0.669</td>\n",
       "</tr>\n",
       "<tr>\n",
       "  <th>poutcome_success</th>           <td>    0.6231</td> <td>    0.224</td> <td>    2.779</td> <td> 0.005</td> <td>    0.184</td> <td>    1.063</td>\n",
       "</tr>\n",
       "<tr>\n",
       "  <th>cons.price.idx</th>             <td>    0.2007</td> <td>    0.027</td> <td>    7.454</td> <td> 0.000</td> <td>    0.148</td> <td>    0.253</td>\n",
       "</tr>\n",
       "<tr>\n",
       "  <th>euribor3m</th>                  <td>   -0.9709</td> <td>    0.029</td> <td>  -33.277</td> <td> 0.000</td> <td>   -1.028</td> <td>   -0.914</td>\n",
       "</tr>\n",
       "</table>"
      ],
      "text/plain": [
       "<class 'statsmodels.iolib.summary.Summary'>\n",
       "\"\"\"\n",
       "                 Generalized Linear Model Regression Results                  \n",
       "==============================================================================\n",
       "Dep. Variable:               response   No. Observations:                28831\n",
       "Model:                            GLM   Df Residuals:                    28813\n",
       "Model Family:                Binomial   Df Model:                           17\n",
       "Link Function:                  logit   Scale:                          1.0000\n",
       "Method:                          IRLS   Log-Likelihood:                -8092.9\n",
       "Date:                Tue, 05 Nov 2019   Deviance:                       16186.\n",
       "Time:                        20:42:59   Pearson chi2:                 3.08e+04\n",
       "No. Iterations:                     6   Covariance Type:             nonrobust\n",
       "==============================================================================================\n",
       "                                 coef    std err          z      P>|z|      [0.025      0.975]\n",
       "----------------------------------------------------------------------------------------------\n",
       "const                         -1.1358      0.221     -5.131      0.000      -1.570      -0.702\n",
       "job_housemaid                 -0.1883      0.147     -1.283      0.199      -0.476       0.099\n",
       "job_student                    0.2326      0.103      2.269      0.023       0.032       0.433\n",
       "job_unknown                   -0.2678      0.257     -1.041      0.298      -0.772       0.236\n",
       "contact_telephone             -0.3636      0.064     -5.652      0.000      -0.490      -0.238\n",
       "month_aug                      0.0455      0.070      0.647      0.517      -0.092       0.183\n",
       "month_dec                      0.4741      0.195      2.437      0.015       0.093       0.855\n",
       "month_jun                      0.0482      0.074      0.646      0.518      -0.098       0.194\n",
       "month_mar                      0.7773      0.114      6.833      0.000       0.554       1.000\n",
       "month_may                     -0.9709      0.058    -16.603      0.000      -1.086      -0.856\n",
       "month_nov                     -0.1392      0.079     -1.765      0.078      -0.294       0.015\n",
       "day_of_week_mon               -0.3176      0.053     -5.938      0.000      -0.422      -0.213\n",
       "pdays_First_time_contacted    -1.4196      0.222     -6.383      0.000      -1.855      -0.984\n",
       "previous_More than_3_times    -0.1465      0.288     -0.509      0.611      -0.711       0.418\n",
       "previous_Never contacted       0.5392      0.066      8.131      0.000       0.409       0.669\n",
       "poutcome_success               0.6231      0.224      2.779      0.005       0.184       1.063\n",
       "cons.price.idx                 0.2007      0.027      7.454      0.000       0.148       0.253\n",
       "euribor3m                     -0.9709      0.029    -33.277      0.000      -1.028      -0.914\n",
       "==============================================================================================\n",
       "\"\"\""
      ]
     },
     "execution_count": 99,
     "metadata": {},
     "output_type": "execute_result"
    }
   ],
   "source": [
    "lr_17 = sm.GLM(y_train,sm.add_constant(X_train[cols20]),family = sm.families.Binomial())\n",
    "lr_17.fit().summary()"
   ]
  },
  {
   "cell_type": "markdown",
   "metadata": {},
   "source": [
    "### VIF"
   ]
  },
  {
   "cell_type": "code",
   "execution_count": 100,
   "metadata": {},
   "outputs": [
    {
     "data": {
      "text/html": [
       "<div>\n",
       "<style scoped>\n",
       "    .dataframe tbody tr th:only-of-type {\n",
       "        vertical-align: middle;\n",
       "    }\n",
       "\n",
       "    .dataframe tbody tr th {\n",
       "        vertical-align: top;\n",
       "    }\n",
       "\n",
       "    .dataframe thead th {\n",
       "        text-align: right;\n",
       "    }\n",
       "</style>\n",
       "<table border=\"1\" class=\"dataframe\">\n",
       "  <thead>\n",
       "    <tr style=\"text-align: right;\">\n",
       "      <th></th>\n",
       "      <th>0</th>\n",
       "    </tr>\n",
       "  </thead>\n",
       "  <tbody>\n",
       "    <tr>\n",
       "      <th>pdays_First_time_contacted</th>\n",
       "      <td>14.718344</td>\n",
       "    </tr>\n",
       "    <tr>\n",
       "      <th>previous_Never contacted</th>\n",
       "      <td>11.859087</td>\n",
       "    </tr>\n",
       "    <tr>\n",
       "      <th>cons.price.idx</th>\n",
       "      <td>4.046494</td>\n",
       "    </tr>\n",
       "    <tr>\n",
       "      <th>contact_telephone</th>\n",
       "      <td>3.777277</td>\n",
       "    </tr>\n",
       "    <tr>\n",
       "      <th>euribor3m</th>\n",
       "      <td>3.601199</td>\n",
       "    </tr>\n",
       "    <tr>\n",
       "      <th>month_may</th>\n",
       "      <td>3.137526</td>\n",
       "    </tr>\n",
       "    <tr>\n",
       "      <th>month_jun</th>\n",
       "      <td>2.107789</td>\n",
       "    </tr>\n",
       "    <tr>\n",
       "      <th>month_aug</th>\n",
       "      <td>2.027908</td>\n",
       "    </tr>\n",
       "    <tr>\n",
       "      <th>month_nov</th>\n",
       "      <td>1.657557</td>\n",
       "    </tr>\n",
       "    <tr>\n",
       "      <th>poutcome_success</th>\n",
       "      <td>1.313211</td>\n",
       "    </tr>\n",
       "    <tr>\n",
       "      <th>day_of_week_mon</th>\n",
       "      <td>1.261425</td>\n",
       "    </tr>\n",
       "    <tr>\n",
       "      <th>month_mar</th>\n",
       "      <td>1.088822</td>\n",
       "    </tr>\n",
       "    <tr>\n",
       "      <th>job_student</th>\n",
       "      <td>1.057091</td>\n",
       "    </tr>\n",
       "    <tr>\n",
       "      <th>previous_More than_3_times</th>\n",
       "      <td>1.056232</td>\n",
       "    </tr>\n",
       "    <tr>\n",
       "      <th>month_dec</th>\n",
       "      <td>1.050895</td>\n",
       "    </tr>\n",
       "    <tr>\n",
       "      <th>job_housemaid</th>\n",
       "      <td>1.030635</td>\n",
       "    </tr>\n",
       "    <tr>\n",
       "      <th>job_unknown</th>\n",
       "      <td>1.010307</td>\n",
       "    </tr>\n",
       "  </tbody>\n",
       "</table>\n",
       "</div>"
      ],
      "text/plain": [
       "                                    0\n",
       "pdays_First_time_contacted  14.718344\n",
       "previous_Never contacted    11.859087\n",
       "cons.price.idx               4.046494\n",
       "contact_telephone            3.777277\n",
       "euribor3m                    3.601199\n",
       "month_may                    3.137526\n",
       "month_jun                    2.107789\n",
       "month_aug                    2.027908\n",
       "month_nov                    1.657557\n",
       "poutcome_success             1.313211\n",
       "day_of_week_mon              1.261425\n",
       "month_mar                    1.088822\n",
       "job_student                  1.057091\n",
       "previous_More than_3_times   1.056232\n",
       "month_dec                    1.050895\n",
       "job_housemaid                1.030635\n",
       "job_unknown                  1.010307"
      ]
     },
     "execution_count": 100,
     "metadata": {},
     "output_type": "execute_result"
    }
   ],
   "source": [
    "X = X_train[cols20]\n",
    "pd.DataFrame([variance_inflation_factor(X.values, i) \n",
    "               for i in range(X.shape[1])], \n",
    "              index=X.columns).sort_values(by =0,ascending = False)"
   ]
  },
  {
   "cell_type": "markdown",
   "metadata": {},
   "source": [
    "## Dropping pdays_First_time_contacted"
   ]
  },
  {
   "cell_type": "code",
   "execution_count": 101,
   "metadata": {},
   "outputs": [],
   "source": [
    "cols20.remove('pdays_First_time_contacted')"
   ]
  },
  {
   "cell_type": "code",
   "execution_count": 102,
   "metadata": {},
   "outputs": [
    {
     "data": {
      "text/html": [
       "<table class=\"simpletable\">\n",
       "<caption>Generalized Linear Model Regression Results</caption>\n",
       "<tr>\n",
       "  <th>Dep. Variable:</th>      <td>response</td>     <th>  No. Observations:  </th>  <td> 28831</td>  \n",
       "</tr>\n",
       "<tr>\n",
       "  <th>Model:</th>                 <td>GLM</td>       <th>  Df Residuals:      </th>  <td> 28814</td>  \n",
       "</tr>\n",
       "<tr>\n",
       "  <th>Model Family:</th>       <td>Binomial</td>     <th>  Df Model:          </th>  <td>    16</td>  \n",
       "</tr>\n",
       "<tr>\n",
       "  <th>Link Function:</th>        <td>logit</td>      <th>  Scale:             </th> <td>  1.0000</td> \n",
       "</tr>\n",
       "<tr>\n",
       "  <th>Method:</th>               <td>IRLS</td>       <th>  Log-Likelihood:    </th> <td> -8113.0</td> \n",
       "</tr>\n",
       "<tr>\n",
       "  <th>Date:</th>           <td>Tue, 05 Nov 2019</td> <th>  Deviance:          </th> <td>  16226.</td> \n",
       "</tr>\n",
       "<tr>\n",
       "  <th>Time:</th>               <td>20:43:00</td>     <th>  Pearson chi2:      </th> <td>3.08e+04</td> \n",
       "</tr>\n",
       "<tr>\n",
       "  <th>No. Iterations:</th>         <td>6</td>        <th>  Covariance Type:   </th> <td>nonrobust</td>\n",
       "</tr>\n",
       "</table>\n",
       "<table class=\"simpletable\">\n",
       "<tr>\n",
       "               <td></td>                 <th>coef</th>     <th>std err</th>      <th>z</th>      <th>P>|z|</th>  <th>[0.025</th>    <th>0.975]</th>  \n",
       "</tr>\n",
       "<tr>\n",
       "  <th>const</th>                      <td>   -2.4784</td> <td>    0.071</td> <td>  -34.913</td> <td> 0.000</td> <td>   -2.617</td> <td>   -2.339</td>\n",
       "</tr>\n",
       "<tr>\n",
       "  <th>job_housemaid</th>              <td>   -0.1938</td> <td>    0.147</td> <td>   -1.320</td> <td> 0.187</td> <td>   -0.481</td> <td>    0.094</td>\n",
       "</tr>\n",
       "<tr>\n",
       "  <th>job_student</th>                <td>    0.2659</td> <td>    0.102</td> <td>    2.614</td> <td> 0.009</td> <td>    0.067</td> <td>    0.465</td>\n",
       "</tr>\n",
       "<tr>\n",
       "  <th>job_unknown</th>                <td>   -0.2547</td> <td>    0.257</td> <td>   -0.992</td> <td> 0.321</td> <td>   -0.758</td> <td>    0.248</td>\n",
       "</tr>\n",
       "<tr>\n",
       "  <th>contact_telephone</th>          <td>   -0.3623</td> <td>    0.064</td> <td>   -5.637</td> <td> 0.000</td> <td>   -0.488</td> <td>   -0.236</td>\n",
       "</tr>\n",
       "<tr>\n",
       "  <th>month_aug</th>                  <td>    0.0724</td> <td>    0.070</td> <td>    1.033</td> <td> 0.302</td> <td>   -0.065</td> <td>    0.210</td>\n",
       "</tr>\n",
       "<tr>\n",
       "  <th>month_dec</th>                  <td>    0.4720</td> <td>    0.194</td> <td>    2.435</td> <td> 0.015</td> <td>    0.092</td> <td>    0.852</td>\n",
       "</tr>\n",
       "<tr>\n",
       "  <th>month_jun</th>                  <td>    0.0432</td> <td>    0.074</td> <td>    0.581</td> <td> 0.561</td> <td>   -0.102</td> <td>    0.189</td>\n",
       "</tr>\n",
       "<tr>\n",
       "  <th>month_mar</th>                  <td>    0.7812</td> <td>    0.113</td> <td>    6.889</td> <td> 0.000</td> <td>    0.559</td> <td>    1.003</td>\n",
       "</tr>\n",
       "<tr>\n",
       "  <th>month_may</th>                  <td>   -0.9781</td> <td>    0.058</td> <td>  -16.745</td> <td> 0.000</td> <td>   -1.093</td> <td>   -0.864</td>\n",
       "</tr>\n",
       "<tr>\n",
       "  <th>month_nov</th>                  <td>   -0.1262</td> <td>    0.079</td> <td>   -1.603</td> <td> 0.109</td> <td>   -0.281</td> <td>    0.028</td>\n",
       "</tr>\n",
       "<tr>\n",
       "  <th>day_of_week_mon</th>            <td>   -0.3144</td> <td>    0.053</td> <td>   -5.888</td> <td> 0.000</td> <td>   -0.419</td> <td>   -0.210</td>\n",
       "</tr>\n",
       "<tr>\n",
       "  <th>previous_More than_3_times</th> <td>    0.1334</td> <td>    0.293</td> <td>    0.455</td> <td> 0.649</td> <td>   -0.441</td> <td>    0.708</td>\n",
       "</tr>\n",
       "<tr>\n",
       "  <th>previous_Never contacted</th>   <td>    0.4557</td> <td>    0.064</td> <td>    7.140</td> <td> 0.000</td> <td>    0.331</td> <td>    0.581</td>\n",
       "</tr>\n",
       "<tr>\n",
       "  <th>poutcome_success</th>           <td>    1.9341</td> <td>    0.092</td> <td>   21.007</td> <td> 0.000</td> <td>    1.754</td> <td>    2.115</td>\n",
       "</tr>\n",
       "<tr>\n",
       "  <th>cons.price.idx</th>             <td>    0.2142</td> <td>    0.027</td> <td>    8.009</td> <td> 0.000</td> <td>    0.162</td> <td>    0.267</td>\n",
       "</tr>\n",
       "<tr>\n",
       "  <th>euribor3m</th>                  <td>   -0.9841</td> <td>    0.029</td> <td>  -33.903</td> <td> 0.000</td> <td>   -1.041</td> <td>   -0.927</td>\n",
       "</tr>\n",
       "</table>"
      ],
      "text/plain": [
       "<class 'statsmodels.iolib.summary.Summary'>\n",
       "\"\"\"\n",
       "                 Generalized Linear Model Regression Results                  \n",
       "==============================================================================\n",
       "Dep. Variable:               response   No. Observations:                28831\n",
       "Model:                            GLM   Df Residuals:                    28814\n",
       "Model Family:                Binomial   Df Model:                           16\n",
       "Link Function:                  logit   Scale:                          1.0000\n",
       "Method:                          IRLS   Log-Likelihood:                -8113.0\n",
       "Date:                Tue, 05 Nov 2019   Deviance:                       16226.\n",
       "Time:                        20:43:00   Pearson chi2:                 3.08e+04\n",
       "No. Iterations:                     6   Covariance Type:             nonrobust\n",
       "==============================================================================================\n",
       "                                 coef    std err          z      P>|z|      [0.025      0.975]\n",
       "----------------------------------------------------------------------------------------------\n",
       "const                         -2.4784      0.071    -34.913      0.000      -2.617      -2.339\n",
       "job_housemaid                 -0.1938      0.147     -1.320      0.187      -0.481       0.094\n",
       "job_student                    0.2659      0.102      2.614      0.009       0.067       0.465\n",
       "job_unknown                   -0.2547      0.257     -0.992      0.321      -0.758       0.248\n",
       "contact_telephone             -0.3623      0.064     -5.637      0.000      -0.488      -0.236\n",
       "month_aug                      0.0724      0.070      1.033      0.302      -0.065       0.210\n",
       "month_dec                      0.4720      0.194      2.435      0.015       0.092       0.852\n",
       "month_jun                      0.0432      0.074      0.581      0.561      -0.102       0.189\n",
       "month_mar                      0.7812      0.113      6.889      0.000       0.559       1.003\n",
       "month_may                     -0.9781      0.058    -16.745      0.000      -1.093      -0.864\n",
       "month_nov                     -0.1262      0.079     -1.603      0.109      -0.281       0.028\n",
       "day_of_week_mon               -0.3144      0.053     -5.888      0.000      -0.419      -0.210\n",
       "previous_More than_3_times     0.1334      0.293      0.455      0.649      -0.441       0.708\n",
       "previous_Never contacted       0.4557      0.064      7.140      0.000       0.331       0.581\n",
       "poutcome_success               1.9341      0.092     21.007      0.000       1.754       2.115\n",
       "cons.price.idx                 0.2142      0.027      8.009      0.000       0.162       0.267\n",
       "euribor3m                     -0.9841      0.029    -33.903      0.000      -1.041      -0.927\n",
       "==============================================================================================\n",
       "\"\"\""
      ]
     },
     "execution_count": 102,
     "metadata": {},
     "output_type": "execute_result"
    }
   ],
   "source": [
    "lr_16 = sm.GLM(y_train,sm.add_constant(X_train[cols20]),family = sm.families.Binomial())\n",
    "lr_16.fit().summary()"
   ]
  },
  {
   "cell_type": "markdown",
   "metadata": {},
   "source": [
    "### VIF"
   ]
  },
  {
   "cell_type": "code",
   "execution_count": 103,
   "metadata": {},
   "outputs": [
    {
     "data": {
      "text/html": [
       "<div>\n",
       "<style scoped>\n",
       "    .dataframe tbody tr th:only-of-type {\n",
       "        vertical-align: middle;\n",
       "    }\n",
       "\n",
       "    .dataframe tbody tr th {\n",
       "        vertical-align: top;\n",
       "    }\n",
       "\n",
       "    .dataframe thead th {\n",
       "        text-align: right;\n",
       "    }\n",
       "</style>\n",
       "<table border=\"1\" class=\"dataframe\">\n",
       "  <thead>\n",
       "    <tr style=\"text-align: right;\">\n",
       "      <th></th>\n",
       "      <th>0</th>\n",
       "    </tr>\n",
       "  </thead>\n",
       "  <tbody>\n",
       "    <tr>\n",
       "      <th>cons.price.idx</th>\n",
       "      <td>4.035945</td>\n",
       "    </tr>\n",
       "    <tr>\n",
       "      <th>contact_telephone</th>\n",
       "      <td>3.771004</td>\n",
       "    </tr>\n",
       "    <tr>\n",
       "      <th>euribor3m</th>\n",
       "      <td>3.353547</td>\n",
       "    </tr>\n",
       "    <tr>\n",
       "      <th>previous_Never contacted</th>\n",
       "      <td>3.341325</td>\n",
       "    </tr>\n",
       "    <tr>\n",
       "      <th>month_may</th>\n",
       "      <td>2.838058</td>\n",
       "    </tr>\n",
       "    <tr>\n",
       "      <th>month_jun</th>\n",
       "      <td>2.034711</td>\n",
       "    </tr>\n",
       "    <tr>\n",
       "      <th>month_aug</th>\n",
       "      <td>1.862232</td>\n",
       "    </tr>\n",
       "    <tr>\n",
       "      <th>month_nov</th>\n",
       "      <td>1.450672</td>\n",
       "    </tr>\n",
       "    <tr>\n",
       "      <th>poutcome_success</th>\n",
       "      <td>1.245238</td>\n",
       "    </tr>\n",
       "    <tr>\n",
       "      <th>day_of_week_mon</th>\n",
       "      <td>1.241692</td>\n",
       "    </tr>\n",
       "    <tr>\n",
       "      <th>month_mar</th>\n",
       "      <td>1.083574</td>\n",
       "    </tr>\n",
       "    <tr>\n",
       "      <th>previous_More than_3_times</th>\n",
       "      <td>1.056122</td>\n",
       "    </tr>\n",
       "    <tr>\n",
       "      <th>job_student</th>\n",
       "      <td>1.056115</td>\n",
       "    </tr>\n",
       "    <tr>\n",
       "      <th>month_dec</th>\n",
       "      <td>1.047923</td>\n",
       "    </tr>\n",
       "    <tr>\n",
       "      <th>job_housemaid</th>\n",
       "      <td>1.028285</td>\n",
       "    </tr>\n",
       "    <tr>\n",
       "      <th>job_unknown</th>\n",
       "      <td>1.010082</td>\n",
       "    </tr>\n",
       "  </tbody>\n",
       "</table>\n",
       "</div>"
      ],
      "text/plain": [
       "                                   0\n",
       "cons.price.idx              4.035945\n",
       "contact_telephone           3.771004\n",
       "euribor3m                   3.353547\n",
       "previous_Never contacted    3.341325\n",
       "month_may                   2.838058\n",
       "month_jun                   2.034711\n",
       "month_aug                   1.862232\n",
       "month_nov                   1.450672\n",
       "poutcome_success            1.245238\n",
       "day_of_week_mon             1.241692\n",
       "month_mar                   1.083574\n",
       "previous_More than_3_times  1.056122\n",
       "job_student                 1.056115\n",
       "month_dec                   1.047923\n",
       "job_housemaid               1.028285\n",
       "job_unknown                 1.010082"
      ]
     },
     "execution_count": 103,
     "metadata": {},
     "output_type": "execute_result"
    }
   ],
   "source": [
    "X = X_train[cols20]\n",
    "pd.DataFrame([variance_inflation_factor(X.values, i) \n",
    "               for i in range(X.shape[1])], \n",
    "              index=X.columns).sort_values(by =0,ascending = False)"
   ]
  },
  {
   "cell_type": "markdown",
   "metadata": {},
   "source": [
    "## Dropping previous_More than_3_times\t"
   ]
  },
  {
   "cell_type": "code",
   "execution_count": 104,
   "metadata": {},
   "outputs": [],
   "source": [
    "cols20.remove('previous_More than_3_times')"
   ]
  },
  {
   "cell_type": "code",
   "execution_count": 105,
   "metadata": {},
   "outputs": [
    {
     "data": {
      "text/html": [
       "<table class=\"simpletable\">\n",
       "<caption>Generalized Linear Model Regression Results</caption>\n",
       "<tr>\n",
       "  <th>Dep. Variable:</th>      <td>response</td>     <th>  No. Observations:  </th>  <td> 28831</td>  \n",
       "</tr>\n",
       "<tr>\n",
       "  <th>Model:</th>                 <td>GLM</td>       <th>  Df Residuals:      </th>  <td> 28815</td>  \n",
       "</tr>\n",
       "<tr>\n",
       "  <th>Model Family:</th>       <td>Binomial</td>     <th>  Df Model:          </th>  <td>    15</td>  \n",
       "</tr>\n",
       "<tr>\n",
       "  <th>Link Function:</th>        <td>logit</td>      <th>  Scale:             </th> <td>  1.0000</td> \n",
       "</tr>\n",
       "<tr>\n",
       "  <th>Method:</th>               <td>IRLS</td>       <th>  Log-Likelihood:    </th> <td> -8113.1</td> \n",
       "</tr>\n",
       "<tr>\n",
       "  <th>Date:</th>           <td>Tue, 05 Nov 2019</td> <th>  Deviance:          </th> <td>  16226.</td> \n",
       "</tr>\n",
       "<tr>\n",
       "  <th>Time:</th>               <td>20:43:01</td>     <th>  Pearson chi2:      </th> <td>3.08e+04</td> \n",
       "</tr>\n",
       "<tr>\n",
       "  <th>No. Iterations:</th>         <td>6</td>        <th>  Covariance Type:   </th> <td>nonrobust</td>\n",
       "</tr>\n",
       "</table>\n",
       "<table class=\"simpletable\">\n",
       "<tr>\n",
       "              <td></td>                <th>coef</th>     <th>std err</th>      <th>z</th>      <th>P>|z|</th>  <th>[0.025</th>    <th>0.975]</th>  \n",
       "</tr>\n",
       "<tr>\n",
       "  <th>const</th>                    <td>   -2.4774</td> <td>    0.071</td> <td>  -34.921</td> <td> 0.000</td> <td>   -2.616</td> <td>   -2.338</td>\n",
       "</tr>\n",
       "<tr>\n",
       "  <th>job_housemaid</th>            <td>   -0.1930</td> <td>    0.147</td> <td>   -1.316</td> <td> 0.188</td> <td>   -0.481</td> <td>    0.095</td>\n",
       "</tr>\n",
       "<tr>\n",
       "  <th>job_student</th>              <td>    0.2670</td> <td>    0.102</td> <td>    2.626</td> <td> 0.009</td> <td>    0.068</td> <td>    0.466</td>\n",
       "</tr>\n",
       "<tr>\n",
       "  <th>job_unknown</th>              <td>   -0.2558</td> <td>    0.257</td> <td>   -0.996</td> <td> 0.319</td> <td>   -0.759</td> <td>    0.248</td>\n",
       "</tr>\n",
       "<tr>\n",
       "  <th>contact_telephone</th>        <td>   -0.3629</td> <td>    0.064</td> <td>   -5.647</td> <td> 0.000</td> <td>   -0.489</td> <td>   -0.237</td>\n",
       "</tr>\n",
       "<tr>\n",
       "  <th>month_aug</th>                <td>    0.0748</td> <td>    0.070</td> <td>    1.071</td> <td> 0.284</td> <td>   -0.062</td> <td>    0.212</td>\n",
       "</tr>\n",
       "<tr>\n",
       "  <th>month_dec</th>                <td>    0.4720</td> <td>    0.194</td> <td>    2.435</td> <td> 0.015</td> <td>    0.092</td> <td>    0.852</td>\n",
       "</tr>\n",
       "<tr>\n",
       "  <th>month_jun</th>                <td>    0.0428</td> <td>    0.074</td> <td>    0.575</td> <td> 0.565</td> <td>   -0.103</td> <td>    0.188</td>\n",
       "</tr>\n",
       "<tr>\n",
       "  <th>month_mar</th>                <td>    0.7815</td> <td>    0.113</td> <td>    6.892</td> <td> 0.000</td> <td>    0.559</td> <td>    1.004</td>\n",
       "</tr>\n",
       "<tr>\n",
       "  <th>month_may</th>                <td>   -0.9772</td> <td>    0.058</td> <td>  -16.740</td> <td> 0.000</td> <td>   -1.092</td> <td>   -0.863</td>\n",
       "</tr>\n",
       "<tr>\n",
       "  <th>month_nov</th>                <td>   -0.1242</td> <td>    0.079</td> <td>   -1.581</td> <td> 0.114</td> <td>   -0.278</td> <td>    0.030</td>\n",
       "</tr>\n",
       "<tr>\n",
       "  <th>day_of_week_mon</th>          <td>   -0.3146</td> <td>    0.053</td> <td>   -5.891</td> <td> 0.000</td> <td>   -0.419</td> <td>   -0.210</td>\n",
       "</tr>\n",
       "<tr>\n",
       "  <th>previous_Never contacted</th> <td>    0.4542</td> <td>    0.064</td> <td>    7.128</td> <td> 0.000</td> <td>    0.329</td> <td>    0.579</td>\n",
       "</tr>\n",
       "<tr>\n",
       "  <th>poutcome_success</th>         <td>    1.9364</td> <td>    0.092</td> <td>   21.062</td> <td> 0.000</td> <td>    1.756</td> <td>    2.117</td>\n",
       "</tr>\n",
       "<tr>\n",
       "  <th>cons.price.idx</th>           <td>    0.2161</td> <td>    0.026</td> <td>    8.176</td> <td> 0.000</td> <td>    0.164</td> <td>    0.268</td>\n",
       "</tr>\n",
       "<tr>\n",
       "  <th>euribor3m</th>                <td>   -0.9854</td> <td>    0.029</td> <td>  -34.128</td> <td> 0.000</td> <td>   -1.042</td> <td>   -0.929</td>\n",
       "</tr>\n",
       "</table>"
      ],
      "text/plain": [
       "<class 'statsmodels.iolib.summary.Summary'>\n",
       "\"\"\"\n",
       "                 Generalized Linear Model Regression Results                  \n",
       "==============================================================================\n",
       "Dep. Variable:               response   No. Observations:                28831\n",
       "Model:                            GLM   Df Residuals:                    28815\n",
       "Model Family:                Binomial   Df Model:                           15\n",
       "Link Function:                  logit   Scale:                          1.0000\n",
       "Method:                          IRLS   Log-Likelihood:                -8113.1\n",
       "Date:                Tue, 05 Nov 2019   Deviance:                       16226.\n",
       "Time:                        20:43:01   Pearson chi2:                 3.08e+04\n",
       "No. Iterations:                     6   Covariance Type:             nonrobust\n",
       "============================================================================================\n",
       "                               coef    std err          z      P>|z|      [0.025      0.975]\n",
       "--------------------------------------------------------------------------------------------\n",
       "const                       -2.4774      0.071    -34.921      0.000      -2.616      -2.338\n",
       "job_housemaid               -0.1930      0.147     -1.316      0.188      -0.481       0.095\n",
       "job_student                  0.2670      0.102      2.626      0.009       0.068       0.466\n",
       "job_unknown                 -0.2558      0.257     -0.996      0.319      -0.759       0.248\n",
       "contact_telephone           -0.3629      0.064     -5.647      0.000      -0.489      -0.237\n",
       "month_aug                    0.0748      0.070      1.071      0.284      -0.062       0.212\n",
       "month_dec                    0.4720      0.194      2.435      0.015       0.092       0.852\n",
       "month_jun                    0.0428      0.074      0.575      0.565      -0.103       0.188\n",
       "month_mar                    0.7815      0.113      6.892      0.000       0.559       1.004\n",
       "month_may                   -0.9772      0.058    -16.740      0.000      -1.092      -0.863\n",
       "month_nov                   -0.1242      0.079     -1.581      0.114      -0.278       0.030\n",
       "day_of_week_mon             -0.3146      0.053     -5.891      0.000      -0.419      -0.210\n",
       "previous_Never contacted     0.4542      0.064      7.128      0.000       0.329       0.579\n",
       "poutcome_success             1.9364      0.092     21.062      0.000       1.756       2.117\n",
       "cons.price.idx               0.2161      0.026      8.176      0.000       0.164       0.268\n",
       "euribor3m                   -0.9854      0.029    -34.128      0.000      -1.042      -0.929\n",
       "============================================================================================\n",
       "\"\"\""
      ]
     },
     "execution_count": 105,
     "metadata": {},
     "output_type": "execute_result"
    }
   ],
   "source": [
    "lr_15 = sm.GLM(y_train,sm.add_constant(X_train[cols20]),family = sm.families.Binomial())\n",
    "lr_15.fit().summary()"
   ]
  },
  {
   "cell_type": "markdown",
   "metadata": {},
   "source": [
    "## Dropping month_jun"
   ]
  },
  {
   "cell_type": "code",
   "execution_count": 106,
   "metadata": {},
   "outputs": [],
   "source": [
    "cols20.remove('month_jun')"
   ]
  },
  {
   "cell_type": "code",
   "execution_count": 107,
   "metadata": {},
   "outputs": [
    {
     "data": {
      "text/html": [
       "<table class=\"simpletable\">\n",
       "<caption>Generalized Linear Model Regression Results</caption>\n",
       "<tr>\n",
       "  <th>Dep. Variable:</th>      <td>response</td>     <th>  No. Observations:  </th>  <td> 28831</td>  \n",
       "</tr>\n",
       "<tr>\n",
       "  <th>Model:</th>                 <td>GLM</td>       <th>  Df Residuals:      </th>  <td> 28816</td>  \n",
       "</tr>\n",
       "<tr>\n",
       "  <th>Model Family:</th>       <td>Binomial</td>     <th>  Df Model:          </th>  <td>    14</td>  \n",
       "</tr>\n",
       "<tr>\n",
       "  <th>Link Function:</th>        <td>logit</td>      <th>  Scale:             </th> <td>  1.0000</td> \n",
       "</tr>\n",
       "<tr>\n",
       "  <th>Method:</th>               <td>IRLS</td>       <th>  Log-Likelihood:    </th> <td> -8113.2</td> \n",
       "</tr>\n",
       "<tr>\n",
       "  <th>Date:</th>           <td>Tue, 05 Nov 2019</td> <th>  Deviance:          </th> <td>  16226.</td> \n",
       "</tr>\n",
       "<tr>\n",
       "  <th>Time:</th>               <td>20:43:01</td>     <th>  Pearson chi2:      </th> <td>3.07e+04</td> \n",
       "</tr>\n",
       "<tr>\n",
       "  <th>No. Iterations:</th>         <td>6</td>        <th>  Covariance Type:   </th> <td>nonrobust</td>\n",
       "</tr>\n",
       "</table>\n",
       "<table class=\"simpletable\">\n",
       "<tr>\n",
       "              <td></td>                <th>coef</th>     <th>std err</th>      <th>z</th>      <th>P>|z|</th>  <th>[0.025</th>    <th>0.975]</th>  \n",
       "</tr>\n",
       "<tr>\n",
       "  <th>const</th>                    <td>   -2.4701</td> <td>    0.070</td> <td>  -35.416</td> <td> 0.000</td> <td>   -2.607</td> <td>   -2.333</td>\n",
       "</tr>\n",
       "<tr>\n",
       "  <th>job_housemaid</th>            <td>   -0.1936</td> <td>    0.147</td> <td>   -1.319</td> <td> 0.187</td> <td>   -0.481</td> <td>    0.094</td>\n",
       "</tr>\n",
       "<tr>\n",
       "  <th>job_student</th>              <td>    0.2670</td> <td>    0.102</td> <td>    2.625</td> <td> 0.009</td> <td>    0.068</td> <td>    0.466</td>\n",
       "</tr>\n",
       "<tr>\n",
       "  <th>job_unknown</th>              <td>   -0.2538</td> <td>    0.257</td> <td>   -0.989</td> <td> 0.323</td> <td>   -0.757</td> <td>    0.249</td>\n",
       "</tr>\n",
       "<tr>\n",
       "  <th>contact_telephone</th>        <td>   -0.3506</td> <td>    0.060</td> <td>   -5.796</td> <td> 0.000</td> <td>   -0.469</td> <td>   -0.232</td>\n",
       "</tr>\n",
       "<tr>\n",
       "  <th>month_aug</th>                <td>    0.0674</td> <td>    0.069</td> <td>    0.982</td> <td> 0.326</td> <td>   -0.067</td> <td>    0.202</td>\n",
       "</tr>\n",
       "<tr>\n",
       "  <th>month_dec</th>                <td>    0.4634</td> <td>    0.193</td> <td>    2.398</td> <td> 0.016</td> <td>    0.085</td> <td>    0.842</td>\n",
       "</tr>\n",
       "<tr>\n",
       "  <th>month_mar</th>                <td>    0.7731</td> <td>    0.112</td> <td>    6.876</td> <td> 0.000</td> <td>    0.553</td> <td>    0.993</td>\n",
       "</tr>\n",
       "<tr>\n",
       "  <th>month_may</th>                <td>   -0.9874</td> <td>    0.056</td> <td>  -17.770</td> <td> 0.000</td> <td>   -1.096</td> <td>   -0.879</td>\n",
       "</tr>\n",
       "<tr>\n",
       "  <th>month_nov</th>                <td>   -0.1323</td> <td>    0.077</td> <td>   -1.712</td> <td> 0.087</td> <td>   -0.284</td> <td>    0.019</td>\n",
       "</tr>\n",
       "<tr>\n",
       "  <th>day_of_week_mon</th>          <td>   -0.3142</td> <td>    0.053</td> <td>   -5.884</td> <td> 0.000</td> <td>   -0.419</td> <td>   -0.210</td>\n",
       "</tr>\n",
       "<tr>\n",
       "  <th>previous_Never contacted</th> <td>    0.4546</td> <td>    0.064</td> <td>    7.132</td> <td> 0.000</td> <td>    0.330</td> <td>    0.579</td>\n",
       "</tr>\n",
       "<tr>\n",
       "  <th>poutcome_success</th>         <td>    1.9369</td> <td>    0.092</td> <td>   21.066</td> <td> 0.000</td> <td>    1.757</td> <td>    2.117</td>\n",
       "</tr>\n",
       "<tr>\n",
       "  <th>cons.price.idx</th>           <td>    0.2176</td> <td>    0.026</td> <td>    8.273</td> <td> 0.000</td> <td>    0.166</td> <td>    0.269</td>\n",
       "</tr>\n",
       "<tr>\n",
       "  <th>euribor3m</th>                <td>   -0.9860</td> <td>    0.029</td> <td>  -34.205</td> <td> 0.000</td> <td>   -1.042</td> <td>   -0.929</td>\n",
       "</tr>\n",
       "</table>"
      ],
      "text/plain": [
       "<class 'statsmodels.iolib.summary.Summary'>\n",
       "\"\"\"\n",
       "                 Generalized Linear Model Regression Results                  \n",
       "==============================================================================\n",
       "Dep. Variable:               response   No. Observations:                28831\n",
       "Model:                            GLM   Df Residuals:                    28816\n",
       "Model Family:                Binomial   Df Model:                           14\n",
       "Link Function:                  logit   Scale:                          1.0000\n",
       "Method:                          IRLS   Log-Likelihood:                -8113.2\n",
       "Date:                Tue, 05 Nov 2019   Deviance:                       16226.\n",
       "Time:                        20:43:01   Pearson chi2:                 3.07e+04\n",
       "No. Iterations:                     6   Covariance Type:             nonrobust\n",
       "============================================================================================\n",
       "                               coef    std err          z      P>|z|      [0.025      0.975]\n",
       "--------------------------------------------------------------------------------------------\n",
       "const                       -2.4701      0.070    -35.416      0.000      -2.607      -2.333\n",
       "job_housemaid               -0.1936      0.147     -1.319      0.187      -0.481       0.094\n",
       "job_student                  0.2670      0.102      2.625      0.009       0.068       0.466\n",
       "job_unknown                 -0.2538      0.257     -0.989      0.323      -0.757       0.249\n",
       "contact_telephone           -0.3506      0.060     -5.796      0.000      -0.469      -0.232\n",
       "month_aug                    0.0674      0.069      0.982      0.326      -0.067       0.202\n",
       "month_dec                    0.4634      0.193      2.398      0.016       0.085       0.842\n",
       "month_mar                    0.7731      0.112      6.876      0.000       0.553       0.993\n",
       "month_may                   -0.9874      0.056    -17.770      0.000      -1.096      -0.879\n",
       "month_nov                   -0.1323      0.077     -1.712      0.087      -0.284       0.019\n",
       "day_of_week_mon             -0.3142      0.053     -5.884      0.000      -0.419      -0.210\n",
       "previous_Never contacted     0.4546      0.064      7.132      0.000       0.330       0.579\n",
       "poutcome_success             1.9369      0.092     21.066      0.000       1.757       2.117\n",
       "cons.price.idx               0.2176      0.026      8.273      0.000       0.166       0.269\n",
       "euribor3m                   -0.9860      0.029    -34.205      0.000      -1.042      -0.929\n",
       "============================================================================================\n",
       "\"\"\""
      ]
     },
     "execution_count": 107,
     "metadata": {},
     "output_type": "execute_result"
    }
   ],
   "source": [
    "lr_14 = sm.GLM(y_train,sm.add_constant(X_train[cols20]),family = sm.families.Binomial())\n",
    "lr_14.fit().summary()"
   ]
  },
  {
   "cell_type": "markdown",
   "metadata": {},
   "source": [
    "## Dropping month_aug"
   ]
  },
  {
   "cell_type": "code",
   "execution_count": 108,
   "metadata": {},
   "outputs": [],
   "source": [
    "cols20.remove('month_aug')"
   ]
  },
  {
   "cell_type": "code",
   "execution_count": 109,
   "metadata": {},
   "outputs": [
    {
     "data": {
      "text/html": [
       "<table class=\"simpletable\">\n",
       "<caption>Generalized Linear Model Regression Results</caption>\n",
       "<tr>\n",
       "  <th>Dep. Variable:</th>      <td>response</td>     <th>  No. Observations:  </th>  <td> 28831</td>  \n",
       "</tr>\n",
       "<tr>\n",
       "  <th>Model:</th>                 <td>GLM</td>       <th>  Df Residuals:      </th>  <td> 28817</td>  \n",
       "</tr>\n",
       "<tr>\n",
       "  <th>Model Family:</th>       <td>Binomial</td>     <th>  Df Model:          </th>  <td>    13</td>  \n",
       "</tr>\n",
       "<tr>\n",
       "  <th>Link Function:</th>        <td>logit</td>      <th>  Scale:             </th> <td>  1.0000</td> \n",
       "</tr>\n",
       "<tr>\n",
       "  <th>Method:</th>               <td>IRLS</td>       <th>  Log-Likelihood:    </th> <td> -8113.7</td> \n",
       "</tr>\n",
       "<tr>\n",
       "  <th>Date:</th>           <td>Tue, 05 Nov 2019</td> <th>  Deviance:          </th> <td>  16227.</td> \n",
       "</tr>\n",
       "<tr>\n",
       "  <th>Time:</th>               <td>20:43:01</td>     <th>  Pearson chi2:      </th> <td>3.07e+04</td> \n",
       "</tr>\n",
       "<tr>\n",
       "  <th>No. Iterations:</th>         <td>6</td>        <th>  Covariance Type:   </th> <td>nonrobust</td>\n",
       "</tr>\n",
       "</table>\n",
       "<table class=\"simpletable\">\n",
       "<tr>\n",
       "              <td></td>                <th>coef</th>     <th>std err</th>      <th>z</th>      <th>P>|z|</th>  <th>[0.025</th>    <th>0.975]</th>  \n",
       "</tr>\n",
       "<tr>\n",
       "  <th>const</th>                    <td>   -2.4502</td> <td>    0.067</td> <td>  -36.767</td> <td> 0.000</td> <td>   -2.581</td> <td>   -2.320</td>\n",
       "</tr>\n",
       "<tr>\n",
       "  <th>job_housemaid</th>            <td>   -0.1912</td> <td>    0.147</td> <td>   -1.304</td> <td> 0.192</td> <td>   -0.479</td> <td>    0.096</td>\n",
       "</tr>\n",
       "<tr>\n",
       "  <th>job_student</th>              <td>    0.2721</td> <td>    0.101</td> <td>    2.681</td> <td> 0.007</td> <td>    0.073</td> <td>    0.471</td>\n",
       "</tr>\n",
       "<tr>\n",
       "  <th>job_unknown</th>              <td>   -0.2518</td> <td>    0.257</td> <td>   -0.980</td> <td> 0.327</td> <td>   -0.755</td> <td>    0.252</td>\n",
       "</tr>\n",
       "<tr>\n",
       "  <th>contact_telephone</th>        <td>   -0.3557</td> <td>    0.060</td> <td>   -5.904</td> <td> 0.000</td> <td>   -0.474</td> <td>   -0.238</td>\n",
       "</tr>\n",
       "<tr>\n",
       "  <th>month_dec</th>                <td>    0.4456</td> <td>    0.192</td> <td>    2.316</td> <td> 0.021</td> <td>    0.068</td> <td>    0.823</td>\n",
       "</tr>\n",
       "<tr>\n",
       "  <th>month_mar</th>                <td>    0.7597</td> <td>    0.112</td> <td>    6.810</td> <td> 0.000</td> <td>    0.541</td> <td>    0.978</td>\n",
       "</tr>\n",
       "<tr>\n",
       "  <th>month_may</th>                <td>   -1.0025</td> <td>    0.053</td> <td>  -18.785</td> <td> 0.000</td> <td>   -1.107</td> <td>   -0.898</td>\n",
       "</tr>\n",
       "<tr>\n",
       "  <th>month_nov</th>                <td>   -0.1534</td> <td>    0.074</td> <td>   -2.068</td> <td> 0.039</td> <td>   -0.299</td> <td>   -0.008</td>\n",
       "</tr>\n",
       "<tr>\n",
       "  <th>day_of_week_mon</th>          <td>   -0.3147</td> <td>    0.053</td> <td>   -5.895</td> <td> 0.000</td> <td>   -0.419</td> <td>   -0.210</td>\n",
       "</tr>\n",
       "<tr>\n",
       "  <th>previous_Never contacted</th> <td>    0.4526</td> <td>    0.064</td> <td>    7.110</td> <td> 0.000</td> <td>    0.328</td> <td>    0.577</td>\n",
       "</tr>\n",
       "<tr>\n",
       "  <th>poutcome_success</th>         <td>    1.9437</td> <td>    0.092</td> <td>   21.208</td> <td> 0.000</td> <td>    1.764</td> <td>    2.123</td>\n",
       "</tr>\n",
       "<tr>\n",
       "  <th>cons.price.idx</th>           <td>    0.2089</td> <td>    0.025</td> <td>    8.422</td> <td> 0.000</td> <td>    0.160</td> <td>    0.258</td>\n",
       "</tr>\n",
       "<tr>\n",
       "  <th>euribor3m</th>                <td>   -0.9767</td> <td>    0.027</td> <td>  -35.835</td> <td> 0.000</td> <td>   -1.030</td> <td>   -0.923</td>\n",
       "</tr>\n",
       "</table>"
      ],
      "text/plain": [
       "<class 'statsmodels.iolib.summary.Summary'>\n",
       "\"\"\"\n",
       "                 Generalized Linear Model Regression Results                  \n",
       "==============================================================================\n",
       "Dep. Variable:               response   No. Observations:                28831\n",
       "Model:                            GLM   Df Residuals:                    28817\n",
       "Model Family:                Binomial   Df Model:                           13\n",
       "Link Function:                  logit   Scale:                          1.0000\n",
       "Method:                          IRLS   Log-Likelihood:                -8113.7\n",
       "Date:                Tue, 05 Nov 2019   Deviance:                       16227.\n",
       "Time:                        20:43:01   Pearson chi2:                 3.07e+04\n",
       "No. Iterations:                     6   Covariance Type:             nonrobust\n",
       "============================================================================================\n",
       "                               coef    std err          z      P>|z|      [0.025      0.975]\n",
       "--------------------------------------------------------------------------------------------\n",
       "const                       -2.4502      0.067    -36.767      0.000      -2.581      -2.320\n",
       "job_housemaid               -0.1912      0.147     -1.304      0.192      -0.479       0.096\n",
       "job_student                  0.2721      0.101      2.681      0.007       0.073       0.471\n",
       "job_unknown                 -0.2518      0.257     -0.980      0.327      -0.755       0.252\n",
       "contact_telephone           -0.3557      0.060     -5.904      0.000      -0.474      -0.238\n",
       "month_dec                    0.4456      0.192      2.316      0.021       0.068       0.823\n",
       "month_mar                    0.7597      0.112      6.810      0.000       0.541       0.978\n",
       "month_may                   -1.0025      0.053    -18.785      0.000      -1.107      -0.898\n",
       "month_nov                   -0.1534      0.074     -2.068      0.039      -0.299      -0.008\n",
       "day_of_week_mon             -0.3147      0.053     -5.895      0.000      -0.419      -0.210\n",
       "previous_Never contacted     0.4526      0.064      7.110      0.000       0.328       0.577\n",
       "poutcome_success             1.9437      0.092     21.208      0.000       1.764       2.123\n",
       "cons.price.idx               0.2089      0.025      8.422      0.000       0.160       0.258\n",
       "euribor3m                   -0.9767      0.027    -35.835      0.000      -1.030      -0.923\n",
       "============================================================================================\n",
       "\"\"\""
      ]
     },
     "execution_count": 109,
     "metadata": {},
     "output_type": "execute_result"
    }
   ],
   "source": [
    "lr_13 = sm.GLM(y_train,sm.add_constant(X_train[cols20]),family = sm.families.Binomial())\n",
    "lr_13.fit().summary()"
   ]
  },
  {
   "cell_type": "markdown",
   "metadata": {},
   "source": [
    "## Dropping job_unknown"
   ]
  },
  {
   "cell_type": "code",
   "execution_count": 110,
   "metadata": {},
   "outputs": [],
   "source": [
    "cols20.remove('job_unknown')"
   ]
  },
  {
   "cell_type": "code",
   "execution_count": 111,
   "metadata": {},
   "outputs": [
    {
     "data": {
      "text/html": [
       "<table class=\"simpletable\">\n",
       "<caption>Generalized Linear Model Regression Results</caption>\n",
       "<tr>\n",
       "  <th>Dep. Variable:</th>      <td>response</td>     <th>  No. Observations:  </th>  <td> 28831</td>  \n",
       "</tr>\n",
       "<tr>\n",
       "  <th>Model:</th>                 <td>GLM</td>       <th>  Df Residuals:      </th>  <td> 28818</td>  \n",
       "</tr>\n",
       "<tr>\n",
       "  <th>Model Family:</th>       <td>Binomial</td>     <th>  Df Model:          </th>  <td>    12</td>  \n",
       "</tr>\n",
       "<tr>\n",
       "  <th>Link Function:</th>        <td>logit</td>      <th>  Scale:             </th> <td>  1.0000</td> \n",
       "</tr>\n",
       "<tr>\n",
       "  <th>Method:</th>               <td>IRLS</td>       <th>  Log-Likelihood:    </th> <td> -8114.2</td> \n",
       "</tr>\n",
       "<tr>\n",
       "  <th>Date:</th>           <td>Tue, 05 Nov 2019</td> <th>  Deviance:          </th> <td>  16228.</td> \n",
       "</tr>\n",
       "<tr>\n",
       "  <th>Time:</th>               <td>20:43:01</td>     <th>  Pearson chi2:      </th> <td>3.07e+04</td> \n",
       "</tr>\n",
       "<tr>\n",
       "  <th>No. Iterations:</th>         <td>6</td>        <th>  Covariance Type:   </th> <td>nonrobust</td>\n",
       "</tr>\n",
       "</table>\n",
       "<table class=\"simpletable\">\n",
       "<tr>\n",
       "              <td></td>                <th>coef</th>     <th>std err</th>      <th>z</th>      <th>P>|z|</th>  <th>[0.025</th>    <th>0.975]</th>  \n",
       "</tr>\n",
       "<tr>\n",
       "  <th>const</th>                    <td>   -2.4520</td> <td>    0.067</td> <td>  -36.805</td> <td> 0.000</td> <td>   -2.583</td> <td>   -2.321</td>\n",
       "</tr>\n",
       "<tr>\n",
       "  <th>job_housemaid</th>            <td>   -0.1892</td> <td>    0.147</td> <td>   -1.290</td> <td> 0.197</td> <td>   -0.477</td> <td>    0.098</td>\n",
       "</tr>\n",
       "<tr>\n",
       "  <th>job_student</th>              <td>    0.2742</td> <td>    0.101</td> <td>    2.703</td> <td> 0.007</td> <td>    0.075</td> <td>    0.473</td>\n",
       "</tr>\n",
       "<tr>\n",
       "  <th>contact_telephone</th>        <td>   -0.3562</td> <td>    0.060</td> <td>   -5.913</td> <td> 0.000</td> <td>   -0.474</td> <td>   -0.238</td>\n",
       "</tr>\n",
       "<tr>\n",
       "  <th>month_dec</th>                <td>    0.4460</td> <td>    0.193</td> <td>    2.317</td> <td> 0.021</td> <td>    0.069</td> <td>    0.823</td>\n",
       "</tr>\n",
       "<tr>\n",
       "  <th>month_mar</th>                <td>    0.7605</td> <td>    0.112</td> <td>    6.818</td> <td> 0.000</td> <td>    0.542</td> <td>    0.979</td>\n",
       "</tr>\n",
       "<tr>\n",
       "  <th>month_may</th>                <td>   -1.0015</td> <td>    0.053</td> <td>  -18.772</td> <td> 0.000</td> <td>   -1.106</td> <td>   -0.897</td>\n",
       "</tr>\n",
       "<tr>\n",
       "  <th>month_nov</th>                <td>   -0.1516</td> <td>    0.074</td> <td>   -2.045</td> <td> 0.041</td> <td>   -0.297</td> <td>   -0.006</td>\n",
       "</tr>\n",
       "<tr>\n",
       "  <th>day_of_week_mon</th>          <td>   -0.3146</td> <td>    0.053</td> <td>   -5.894</td> <td> 0.000</td> <td>   -0.419</td> <td>   -0.210</td>\n",
       "</tr>\n",
       "<tr>\n",
       "  <th>previous_Never contacted</th> <td>    0.4523</td> <td>    0.064</td> <td>    7.106</td> <td> 0.000</td> <td>    0.328</td> <td>    0.577</td>\n",
       "</tr>\n",
       "<tr>\n",
       "  <th>poutcome_success</th>         <td>    1.9413</td> <td>    0.092</td> <td>   21.192</td> <td> 0.000</td> <td>    1.762</td> <td>    2.121</td>\n",
       "</tr>\n",
       "<tr>\n",
       "  <th>cons.price.idx</th>           <td>    0.2090</td> <td>    0.025</td> <td>    8.427</td> <td> 0.000</td> <td>    0.160</td> <td>    0.258</td>\n",
       "</tr>\n",
       "<tr>\n",
       "  <th>euribor3m</th>                <td>   -0.9767</td> <td>    0.027</td> <td>  -35.838</td> <td> 0.000</td> <td>   -1.030</td> <td>   -0.923</td>\n",
       "</tr>\n",
       "</table>"
      ],
      "text/plain": [
       "<class 'statsmodels.iolib.summary.Summary'>\n",
       "\"\"\"\n",
       "                 Generalized Linear Model Regression Results                  \n",
       "==============================================================================\n",
       "Dep. Variable:               response   No. Observations:                28831\n",
       "Model:                            GLM   Df Residuals:                    28818\n",
       "Model Family:                Binomial   Df Model:                           12\n",
       "Link Function:                  logit   Scale:                          1.0000\n",
       "Method:                          IRLS   Log-Likelihood:                -8114.2\n",
       "Date:                Tue, 05 Nov 2019   Deviance:                       16228.\n",
       "Time:                        20:43:01   Pearson chi2:                 3.07e+04\n",
       "No. Iterations:                     6   Covariance Type:             nonrobust\n",
       "============================================================================================\n",
       "                               coef    std err          z      P>|z|      [0.025      0.975]\n",
       "--------------------------------------------------------------------------------------------\n",
       "const                       -2.4520      0.067    -36.805      0.000      -2.583      -2.321\n",
       "job_housemaid               -0.1892      0.147     -1.290      0.197      -0.477       0.098\n",
       "job_student                  0.2742      0.101      2.703      0.007       0.075       0.473\n",
       "contact_telephone           -0.3562      0.060     -5.913      0.000      -0.474      -0.238\n",
       "month_dec                    0.4460      0.193      2.317      0.021       0.069       0.823\n",
       "month_mar                    0.7605      0.112      6.818      0.000       0.542       0.979\n",
       "month_may                   -1.0015      0.053    -18.772      0.000      -1.106      -0.897\n",
       "month_nov                   -0.1516      0.074     -2.045      0.041      -0.297      -0.006\n",
       "day_of_week_mon             -0.3146      0.053     -5.894      0.000      -0.419      -0.210\n",
       "previous_Never contacted     0.4523      0.064      7.106      0.000       0.328       0.577\n",
       "poutcome_success             1.9413      0.092     21.192      0.000       1.762       2.121\n",
       "cons.price.idx               0.2090      0.025      8.427      0.000       0.160       0.258\n",
       "euribor3m                   -0.9767      0.027    -35.838      0.000      -1.030      -0.923\n",
       "============================================================================================\n",
       "\"\"\""
      ]
     },
     "execution_count": 111,
     "metadata": {},
     "output_type": "execute_result"
    }
   ],
   "source": [
    "lr_12 = sm.GLM(y_train,sm.add_constant(X_train[cols20]),family = sm.families.Binomial())\n",
    "lr_12.fit().summary()"
   ]
  },
  {
   "cell_type": "markdown",
   "metadata": {},
   "source": [
    "## Dropping job_housemaid"
   ]
  },
  {
   "cell_type": "code",
   "execution_count": 112,
   "metadata": {},
   "outputs": [],
   "source": [
    "cols20.remove('job_housemaid')"
   ]
  },
  {
   "cell_type": "code",
   "execution_count": 113,
   "metadata": {},
   "outputs": [
    {
     "data": {
      "text/html": [
       "<table class=\"simpletable\">\n",
       "<caption>Generalized Linear Model Regression Results</caption>\n",
       "<tr>\n",
       "  <th>Dep. Variable:</th>      <td>response</td>     <th>  No. Observations:  </th>  <td> 28831</td>  \n",
       "</tr>\n",
       "<tr>\n",
       "  <th>Model:</th>                 <td>GLM</td>       <th>  Df Residuals:      </th>  <td> 28819</td>  \n",
       "</tr>\n",
       "<tr>\n",
       "  <th>Model Family:</th>       <td>Binomial</td>     <th>  Df Model:          </th>  <td>    11</td>  \n",
       "</tr>\n",
       "<tr>\n",
       "  <th>Link Function:</th>        <td>logit</td>      <th>  Scale:             </th> <td>  1.0000</td> \n",
       "</tr>\n",
       "<tr>\n",
       "  <th>Method:</th>               <td>IRLS</td>       <th>  Log-Likelihood:    </th> <td> -8115.1</td> \n",
       "</tr>\n",
       "<tr>\n",
       "  <th>Date:</th>           <td>Tue, 05 Nov 2019</td> <th>  Deviance:          </th> <td>  16230.</td> \n",
       "</tr>\n",
       "<tr>\n",
       "  <th>Time:</th>               <td>20:43:01</td>     <th>  Pearson chi2:      </th> <td>3.08e+04</td> \n",
       "</tr>\n",
       "<tr>\n",
       "  <th>No. Iterations:</th>         <td>6</td>        <th>  Covariance Type:   </th> <td>nonrobust</td>\n",
       "</tr>\n",
       "</table>\n",
       "<table class=\"simpletable\">\n",
       "<tr>\n",
       "              <td></td>                <th>coef</th>     <th>std err</th>      <th>z</th>      <th>P>|z|</th>  <th>[0.025</th>    <th>0.975]</th>  \n",
       "</tr>\n",
       "<tr>\n",
       "  <th>const</th>                    <td>   -2.4568</td> <td>    0.067</td> <td>  -36.932</td> <td> 0.000</td> <td>   -2.587</td> <td>   -2.326</td>\n",
       "</tr>\n",
       "<tr>\n",
       "  <th>job_student</th>              <td>    0.2784</td> <td>    0.101</td> <td>    2.746</td> <td> 0.006</td> <td>    0.080</td> <td>    0.477</td>\n",
       "</tr>\n",
       "<tr>\n",
       "  <th>contact_telephone</th>        <td>   -0.3561</td> <td>    0.060</td> <td>   -5.912</td> <td> 0.000</td> <td>   -0.474</td> <td>   -0.238</td>\n",
       "</tr>\n",
       "<tr>\n",
       "  <th>month_dec</th>                <td>    0.4388</td> <td>    0.193</td> <td>    2.279</td> <td> 0.023</td> <td>    0.061</td> <td>    0.816</td>\n",
       "</tr>\n",
       "<tr>\n",
       "  <th>month_mar</th>                <td>    0.7623</td> <td>    0.112</td> <td>    6.834</td> <td> 0.000</td> <td>    0.544</td> <td>    0.981</td>\n",
       "</tr>\n",
       "<tr>\n",
       "  <th>month_may</th>                <td>   -0.9998</td> <td>    0.053</td> <td>  -18.748</td> <td> 0.000</td> <td>   -1.104</td> <td>   -0.895</td>\n",
       "</tr>\n",
       "<tr>\n",
       "  <th>month_nov</th>                <td>   -0.1512</td> <td>    0.074</td> <td>   -2.039</td> <td> 0.041</td> <td>   -0.297</td> <td>   -0.006</td>\n",
       "</tr>\n",
       "<tr>\n",
       "  <th>day_of_week_mon</th>          <td>   -0.3147</td> <td>    0.053</td> <td>   -5.896</td> <td> 0.000</td> <td>   -0.419</td> <td>   -0.210</td>\n",
       "</tr>\n",
       "<tr>\n",
       "  <th>previous_Never contacted</th> <td>    0.4520</td> <td>    0.064</td> <td>    7.101</td> <td> 0.000</td> <td>    0.327</td> <td>    0.577</td>\n",
       "</tr>\n",
       "<tr>\n",
       "  <th>poutcome_success</th>         <td>    1.9392</td> <td>    0.092</td> <td>   21.171</td> <td> 0.000</td> <td>    1.760</td> <td>    2.119</td>\n",
       "</tr>\n",
       "<tr>\n",
       "  <th>cons.price.idx</th>           <td>    0.2084</td> <td>    0.025</td> <td>    8.407</td> <td> 0.000</td> <td>    0.160</td> <td>    0.257</td>\n",
       "</tr>\n",
       "<tr>\n",
       "  <th>euribor3m</th>                <td>   -0.9771</td> <td>    0.027</td> <td>  -35.863</td> <td> 0.000</td> <td>   -1.031</td> <td>   -0.924</td>\n",
       "</tr>\n",
       "</table>"
      ],
      "text/plain": [
       "<class 'statsmodels.iolib.summary.Summary'>\n",
       "\"\"\"\n",
       "                 Generalized Linear Model Regression Results                  \n",
       "==============================================================================\n",
       "Dep. Variable:               response   No. Observations:                28831\n",
       "Model:                            GLM   Df Residuals:                    28819\n",
       "Model Family:                Binomial   Df Model:                           11\n",
       "Link Function:                  logit   Scale:                          1.0000\n",
       "Method:                          IRLS   Log-Likelihood:                -8115.1\n",
       "Date:                Tue, 05 Nov 2019   Deviance:                       16230.\n",
       "Time:                        20:43:01   Pearson chi2:                 3.08e+04\n",
       "No. Iterations:                     6   Covariance Type:             nonrobust\n",
       "============================================================================================\n",
       "                               coef    std err          z      P>|z|      [0.025      0.975]\n",
       "--------------------------------------------------------------------------------------------\n",
       "const                       -2.4568      0.067    -36.932      0.000      -2.587      -2.326\n",
       "job_student                  0.2784      0.101      2.746      0.006       0.080       0.477\n",
       "contact_telephone           -0.3561      0.060     -5.912      0.000      -0.474      -0.238\n",
       "month_dec                    0.4388      0.193      2.279      0.023       0.061       0.816\n",
       "month_mar                    0.7623      0.112      6.834      0.000       0.544       0.981\n",
       "month_may                   -0.9998      0.053    -18.748      0.000      -1.104      -0.895\n",
       "month_nov                   -0.1512      0.074     -2.039      0.041      -0.297      -0.006\n",
       "day_of_week_mon             -0.3147      0.053     -5.896      0.000      -0.419      -0.210\n",
       "previous_Never contacted     0.4520      0.064      7.101      0.000       0.327       0.577\n",
       "poutcome_success             1.9392      0.092     21.171      0.000       1.760       2.119\n",
       "cons.price.idx               0.2084      0.025      8.407      0.000       0.160       0.257\n",
       "euribor3m                   -0.9771      0.027    -35.863      0.000      -1.031      -0.924\n",
       "============================================================================================\n",
       "\"\"\""
      ]
     },
     "execution_count": 113,
     "metadata": {},
     "output_type": "execute_result"
    }
   ],
   "source": [
    "lr_11 = sm.GLM(y_train,sm.add_constant(X_train[cols20]),family = sm.families.Binomial())\n",
    "lr_11.fit().summary()"
   ]
  },
  {
   "cell_type": "markdown",
   "metadata": {},
   "source": [
    "### VIF"
   ]
  },
  {
   "cell_type": "code",
   "execution_count": 114,
   "metadata": {},
   "outputs": [
    {
     "data": {
      "text/html": [
       "<div>\n",
       "<style scoped>\n",
       "    .dataframe tbody tr th:only-of-type {\n",
       "        vertical-align: middle;\n",
       "    }\n",
       "\n",
       "    .dataframe tbody tr th {\n",
       "        vertical-align: top;\n",
       "    }\n",
       "\n",
       "    .dataframe thead th {\n",
       "        text-align: right;\n",
       "    }\n",
       "</style>\n",
       "<table border=\"1\" class=\"dataframe\">\n",
       "  <thead>\n",
       "    <tr style=\"text-align: right;\">\n",
       "      <th></th>\n",
       "      <th>0</th>\n",
       "    </tr>\n",
       "  </thead>\n",
       "  <tbody>\n",
       "    <tr>\n",
       "      <th>contact_telephone</th>\n",
       "      <td>3.128822</td>\n",
       "    </tr>\n",
       "    <tr>\n",
       "      <th>cons.price.idx</th>\n",
       "      <td>2.902488</td>\n",
       "    </tr>\n",
       "    <tr>\n",
       "      <th>euribor3m</th>\n",
       "      <td>2.417599</td>\n",
       "    </tr>\n",
       "    <tr>\n",
       "      <th>previous_Never contacted</th>\n",
       "      <td>2.332753</td>\n",
       "    </tr>\n",
       "    <tr>\n",
       "      <th>month_may</th>\n",
       "      <td>2.083972</td>\n",
       "    </tr>\n",
       "    <tr>\n",
       "      <th>month_nov</th>\n",
       "      <td>1.249816</td>\n",
       "    </tr>\n",
       "    <tr>\n",
       "      <th>day_of_week_mon</th>\n",
       "      <td>1.238559</td>\n",
       "    </tr>\n",
       "    <tr>\n",
       "      <th>poutcome_success</th>\n",
       "      <td>1.152082</td>\n",
       "    </tr>\n",
       "    <tr>\n",
       "      <th>month_mar</th>\n",
       "      <td>1.066043</td>\n",
       "    </tr>\n",
       "    <tr>\n",
       "      <th>job_student</th>\n",
       "      <td>1.052044</td>\n",
       "    </tr>\n",
       "    <tr>\n",
       "      <th>month_dec</th>\n",
       "      <td>1.039134</td>\n",
       "    </tr>\n",
       "  </tbody>\n",
       "</table>\n",
       "</div>"
      ],
      "text/plain": [
       "                                 0\n",
       "contact_telephone         3.128822\n",
       "cons.price.idx            2.902488\n",
       "euribor3m                 2.417599\n",
       "previous_Never contacted  2.332753\n",
       "month_may                 2.083972\n",
       "month_nov                 1.249816\n",
       "day_of_week_mon           1.238559\n",
       "poutcome_success          1.152082\n",
       "month_mar                 1.066043\n",
       "job_student               1.052044\n",
       "month_dec                 1.039134"
      ]
     },
     "execution_count": 114,
     "metadata": {},
     "output_type": "execute_result"
    }
   ],
   "source": [
    "X = X_train[cols20]\n",
    "pd.DataFrame([variance_inflation_factor(X.values, i) \n",
    "               for i in range(X.shape[1])], \n",
    "              index=X.columns).sort_values(by =0,ascending = False)"
   ]
  },
  {
   "cell_type": "markdown",
   "metadata": {},
   "source": [
    "All pvalues and VIFs are in acceptable range"
   ]
  },
  {
   "cell_type": "markdown",
   "metadata": {},
   "source": [
    "## Using grid search for hyper parameter tuning"
   ]
  },
  {
   "cell_type": "code",
   "execution_count": 115,
   "metadata": {},
   "outputs": [
    {
     "data": {
      "text/plain": [
       "GridSearchCV(cv=StratifiedKFold(n_splits=5, random_state=42, shuffle=True),\n",
       "       error_score='raise-deprecating',\n",
       "       estimator=LogisticRegression(C=1.0, class_weight='balanced', dual=False,\n",
       "          fit_intercept=True, intercept_scaling=1, max_iter=100,\n",
       "          multi_class='warn', n_jobs=None, penalty='l2', random_state=42,\n",
       "          solver='warn', tol=0.0001, verbose=0, warm_start=False),\n",
       "       fit_params=None, iid='warn', n_jobs=None,\n",
       "       param_grid=[{'C': [0.1, 0.5, 1, 2, 3, 4, 5, 10], 'penalty': ['l1', 'l2']}],\n",
       "       pre_dispatch='2*n_jobs', refit=True, return_train_score='warn',\n",
       "       scoring='roc_auc', verbose=0)"
      ]
     },
     "execution_count": 115,
     "metadata": {},
     "output_type": "execute_result"
    }
   ],
   "source": [
    "logistic = LogisticRegression(class_weight='balanced',random_state = 42)\n",
    "params = [{'C': [0.1, 0.5, 1, 2, 3, 4, 5, 10], 'penalty': ['l1', 'l2']}]\n",
    "folds = StratifiedKFold(n_splits = 5, shuffle = True, random_state = 42)\n",
    "model = GridSearchCV(estimator=logistic, cv=folds, param_grid=params, scoring='roc_auc')\n",
    "model.fit(X_train[cols20],y_train)"
   ]
  },
  {
   "cell_type": "code",
   "execution_count": 116,
   "metadata": {
    "scrolled": true
   },
   "outputs": [
    {
     "name": "stdout",
     "output_type": "stream",
     "text": [
      "Best AUC:  0.785004661030428\n",
      "Best hyperparameters:  {'C': 2, 'penalty': 'l1'}\n"
     ]
    }
   ],
   "source": [
    "# print best hyperparameters\n",
    "print(\"Best AUC: \", model.best_score_)\n",
    "print(\"Best hyperparameters: \", model.best_params_)"
   ]
  },
  {
   "cell_type": "markdown",
   "metadata": {},
   "source": [
    "## Train set metrics"
   ]
  },
  {
   "cell_type": "code",
   "execution_count": 117,
   "metadata": {},
   "outputs": [
    {
     "name": "stdout",
     "output_type": "stream",
     "text": [
      "[[20233  5347]\n",
      " [ 1068  2183]]\n",
      "Sensitivity: \t0.67\n",
      "Specificity: \t0.79\n",
      "AUC:    \t 0.79\n"
     ]
    }
   ],
   "source": [
    "# predict churn on test data\n",
    "y_pred = model.predict(X_train[cols20])\n",
    "\n",
    "# create onfusion matrix\n",
    "cm = confusion_matrix(y_train, y_pred)\n",
    "print(cm)\n",
    "\n",
    "# check sensitivity and specificity\n",
    "sensitivity, specificity, _ = sensitivity_specificity_support(y_train, y_pred, average='binary')\n",
    "print(\"Sensitivity: \\t\", round(sensitivity, 2), \"\\n\", \"Specificity: \\t\", round(specificity, 2), sep='')\n",
    "\n",
    "# check area under curve\n",
    "y_pred_prob = model.predict_proba(X_train[cols20])[:, 1]\n",
    "print(\"AUC:    \\t\", round(roc_auc_score(y_train, y_pred_prob),2))"
   ]
  },
  {
   "cell_type": "markdown",
   "metadata": {},
   "source": [
    "## test set metrics"
   ]
  },
  {
   "cell_type": "code",
   "execution_count": 118,
   "metadata": {},
   "outputs": [
    {
     "name": "stdout",
     "output_type": "stream",
     "text": [
      "[[8659 2309]\n",
      " [ 473  916]]\n",
      "Sensitivity: \t0.66\n",
      "Specificity: \t0.79\n",
      "AUC:    \t 0.78\n"
     ]
    }
   ],
   "source": [
    "# predict churn on test data\n",
    "y_pred = model.predict(X_test[cols20])\n",
    "\n",
    "# create onfusion matrix\n",
    "cm = confusion_matrix(y_test, y_pred)\n",
    "print(cm)\n",
    "\n",
    "# check sensitivity and specificity\n",
    "sensitivity, specificity, _ = sensitivity_specificity_support(y_test, y_pred, average='binary')\n",
    "print(\"Sensitivity: \\t\", round(sensitivity, 2), \"\\n\", \"Specificity: \\t\", round(specificity, 2), sep='')\n",
    "\n",
    "# check area under curve\n",
    "y_pred_prob = model.predict_proba(X_test[cols20])[:, 1]\n",
    "print(\"AUC:    \\t\", round(roc_auc_score(y_test, y_pred_prob),2))"
   ]
  },
  {
   "cell_type": "markdown",
   "metadata": {},
   "source": [
    "## Finding optimal Cutoff point"
   ]
  },
  {
   "cell_type": "code",
   "execution_count": 119,
   "metadata": {},
   "outputs": [],
   "source": [
    "y_train_prob_pred = model.predict_proba(X_train[cols20])"
   ]
  },
  {
   "cell_type": "code",
   "execution_count": 120,
   "metadata": {},
   "outputs": [
    {
     "data": {
      "text/plain": [
       "array([[0.24032122, 0.75967878],\n",
       "       [0.53867921, 0.46132079],\n",
       "       [0.84976048, 0.15023952],\n",
       "       [0.59084579, 0.40915421],\n",
       "       [0.47570593, 0.52429407]])"
      ]
     },
     "execution_count": 120,
     "metadata": {},
     "output_type": "execute_result"
    }
   ],
   "source": [
    "y_train_prob_pred[:5]"
   ]
  },
  {
   "cell_type": "code",
   "execution_count": 121,
   "metadata": {},
   "outputs": [],
   "source": [
    "# taking probability for response = 1, which is second column\n",
    "prob_df = pd.DataFrame(y_train_prob_pred[:,1],index = X_train.index).reset_index().rename(columns = {0:'probability'})"
   ]
  },
  {
   "cell_type": "code",
   "execution_count": 122,
   "metadata": {},
   "outputs": [
    {
     "data": {
      "text/html": [
       "<div>\n",
       "<style scoped>\n",
       "    .dataframe tbody tr th:only-of-type {\n",
       "        vertical-align: middle;\n",
       "    }\n",
       "\n",
       "    .dataframe tbody tr th {\n",
       "        vertical-align: top;\n",
       "    }\n",
       "\n",
       "    .dataframe thead th {\n",
       "        text-align: right;\n",
       "    }\n",
       "</style>\n",
       "<table border=\"1\" class=\"dataframe\">\n",
       "  <thead>\n",
       "    <tr style=\"text-align: right;\">\n",
       "      <th></th>\n",
       "      <th>prospect_id</th>\n",
       "      <th>probability</th>\n",
       "      <th>response</th>\n",
       "    </tr>\n",
       "  </thead>\n",
       "  <tbody>\n",
       "    <tr>\n",
       "      <th>0</th>\n",
       "      <td>39341</td>\n",
       "      <td>0.986816</td>\n",
       "      <td>1</td>\n",
       "    </tr>\n",
       "    <tr>\n",
       "      <th>1</th>\n",
       "      <td>39337</td>\n",
       "      <td>0.986802</td>\n",
       "      <td>1</td>\n",
       "    </tr>\n",
       "    <tr>\n",
       "      <th>2</th>\n",
       "      <td>39259</td>\n",
       "      <td>0.986719</td>\n",
       "      <td>1</td>\n",
       "    </tr>\n",
       "    <tr>\n",
       "      <th>3</th>\n",
       "      <td>39154</td>\n",
       "      <td>0.986677</td>\n",
       "      <td>1</td>\n",
       "    </tr>\n",
       "    <tr>\n",
       "      <th>4</th>\n",
       "      <td>39148</td>\n",
       "      <td>0.986677</td>\n",
       "      <td>1</td>\n",
       "    </tr>\n",
       "  </tbody>\n",
       "</table>\n",
       "</div>"
      ],
      "text/plain": [
       "   prospect_id  probability  response\n",
       "0        39341     0.986816         1\n",
       "1        39337     0.986802         1\n",
       "2        39259     0.986719         1\n",
       "3        39154     0.986677         1\n",
       "4        39148     0.986677         1"
      ]
     },
     "execution_count": 122,
     "metadata": {},
     "output_type": "execute_result"
    }
   ],
   "source": [
    "prob_df = prob_df.sort_values(by='probability',ascending = False)\n",
    "prob_df = prob_df.merge(y_train.reset_index(),on='prospect_id')\n",
    "prob_df.head()"
   ]
  },
  {
   "cell_type": "code",
   "execution_count": 123,
   "metadata": {},
   "outputs": [
    {
     "data": {
      "text/html": [
       "<div>\n",
       "<style scoped>\n",
       "    .dataframe tbody tr th:only-of-type {\n",
       "        vertical-align: middle;\n",
       "    }\n",
       "\n",
       "    .dataframe tbody tr th {\n",
       "        vertical-align: top;\n",
       "    }\n",
       "\n",
       "    .dataframe thead th {\n",
       "        text-align: right;\n",
       "    }\n",
       "</style>\n",
       "<table border=\"1\" class=\"dataframe\">\n",
       "  <thead>\n",
       "    <tr style=\"text-align: right;\">\n",
       "      <th></th>\n",
       "      <th>prospect_id</th>\n",
       "      <th>probability</th>\n",
       "      <th>response</th>\n",
       "      <th>0.1</th>\n",
       "      <th>0.2</th>\n",
       "      <th>0.3</th>\n",
       "      <th>0.4</th>\n",
       "      <th>0.5</th>\n",
       "      <th>0.6</th>\n",
       "      <th>0.7</th>\n",
       "      <th>0.8</th>\n",
       "      <th>0.9</th>\n",
       "    </tr>\n",
       "  </thead>\n",
       "  <tbody>\n",
       "    <tr>\n",
       "      <th>0</th>\n",
       "      <td>39341</td>\n",
       "      <td>0.986816</td>\n",
       "      <td>1</td>\n",
       "      <td>1</td>\n",
       "      <td>1</td>\n",
       "      <td>1</td>\n",
       "      <td>1</td>\n",
       "      <td>1</td>\n",
       "      <td>1</td>\n",
       "      <td>1</td>\n",
       "      <td>1</td>\n",
       "      <td>1</td>\n",
       "    </tr>\n",
       "    <tr>\n",
       "      <th>1</th>\n",
       "      <td>39337</td>\n",
       "      <td>0.986802</td>\n",
       "      <td>1</td>\n",
       "      <td>1</td>\n",
       "      <td>1</td>\n",
       "      <td>1</td>\n",
       "      <td>1</td>\n",
       "      <td>1</td>\n",
       "      <td>1</td>\n",
       "      <td>1</td>\n",
       "      <td>1</td>\n",
       "      <td>1</td>\n",
       "    </tr>\n",
       "    <tr>\n",
       "      <th>2</th>\n",
       "      <td>39259</td>\n",
       "      <td>0.986719</td>\n",
       "      <td>1</td>\n",
       "      <td>1</td>\n",
       "      <td>1</td>\n",
       "      <td>1</td>\n",
       "      <td>1</td>\n",
       "      <td>1</td>\n",
       "      <td>1</td>\n",
       "      <td>1</td>\n",
       "      <td>1</td>\n",
       "      <td>1</td>\n",
       "    </tr>\n",
       "    <tr>\n",
       "      <th>3</th>\n",
       "      <td>39154</td>\n",
       "      <td>0.986677</td>\n",
       "      <td>1</td>\n",
       "      <td>1</td>\n",
       "      <td>1</td>\n",
       "      <td>1</td>\n",
       "      <td>1</td>\n",
       "      <td>1</td>\n",
       "      <td>1</td>\n",
       "      <td>1</td>\n",
       "      <td>1</td>\n",
       "      <td>1</td>\n",
       "    </tr>\n",
       "    <tr>\n",
       "      <th>4</th>\n",
       "      <td>39148</td>\n",
       "      <td>0.986677</td>\n",
       "      <td>1</td>\n",
       "      <td>1</td>\n",
       "      <td>1</td>\n",
       "      <td>1</td>\n",
       "      <td>1</td>\n",
       "      <td>1</td>\n",
       "      <td>1</td>\n",
       "      <td>1</td>\n",
       "      <td>1</td>\n",
       "      <td>1</td>\n",
       "    </tr>\n",
       "  </tbody>\n",
       "</table>\n",
       "</div>"
      ],
      "text/plain": [
       "   prospect_id  probability  response  0.1  0.2  0.3  0.4  0.5  0.6  0.7  0.8  \\\n",
       "0        39341     0.986816         1    1    1    1    1    1    1    1    1   \n",
       "1        39337     0.986802         1    1    1    1    1    1    1    1    1   \n",
       "2        39259     0.986719         1    1    1    1    1    1    1    1    1   \n",
       "3        39154     0.986677         1    1    1    1    1    1    1    1    1   \n",
       "4        39148     0.986677         1    1    1    1    1    1    1    1    1   \n",
       "\n",
       "   0.9  \n",
       "0    1  \n",
       "1    1  \n",
       "2    1  \n",
       "3    1  \n",
       "4    1  "
      ]
     },
     "execution_count": 123,
     "metadata": {},
     "output_type": "execute_result"
    }
   ],
   "source": [
    "cut_off = prob_df.copy()\n",
    "for c in range(1,10):\n",
    "    cut_off[c/10] = cut_off.probability.apply(lambda x: 1 if x> c/10 else 0)\n",
    "cut_off.head()"
   ]
  },
  {
   "cell_type": "code",
   "execution_count": 124,
   "metadata": {},
   "outputs": [
    {
     "name": "stdout",
     "output_type": "stream",
     "text": [
      "     prob  accuracy     sensi     speci\n",
      "0.1   0.1  0.112761  1.000000  0.000000\n",
      "0.2   0.2  0.287226  0.953860  0.202502\n",
      "0.3   0.3  0.374770  0.908028  0.306998\n",
      "0.4   0.4  0.726787  0.708705  0.729085\n",
      "0.5   0.5  0.777496  0.671486  0.790970\n",
      "0.6   0.6  0.837293  0.608736  0.866341\n",
      "0.7   0.7  0.864660  0.516149  0.908952\n",
      "0.8   0.8  0.894835  0.311904  0.968921\n",
      "0.9   0.9  0.899379  0.186404  0.989992\n"
     ]
    }
   ],
   "source": [
    "metric_df = pd.DataFrame(columns = ['prob','accuracy','sensi','speci'])\n",
    "\n",
    "num = [0.1,0.2,0.3,0.4,0.5,0.6,0.7,0.8,0.9]\n",
    "for i in num:\n",
    "    cm1 = confusion_matrix(cut_off.response, cut_off[i] )\n",
    "    total1=sum(sum(cm1))\n",
    "    accuracy = (cm1[0,0]+cm1[1,1])/total1\n",
    "    \n",
    "    speci = cm1[0,0]/(cm1[0,0]+cm1[0,1])\n",
    "    sensi = cm1[1,1]/(cm1[1,0]+cm1[1,1])\n",
    "    metric_df.loc[i] =[ i ,accuracy,sensi,speci]\n",
    "print(metric_df)"
   ]
  },
  {
   "cell_type": "code",
   "execution_count": 125,
   "metadata": {},
   "outputs": [
    {
     "data": {
      "image/png": "[encoded data removed]",
      "text/plain": [
       "<Figure size 432x288 with 1 Axes>"
      ]
     },
     "metadata": {},
     "output_type": "display_data"
    }
   ],
   "source": [
    "# Let's plot accuracy sensitivity and specificity for various probabilities.\n",
    "metric_df.plot.line(x='prob', y=['accuracy','sensi','speci'])\n",
    "plt.xticks(np.arange(0,1,0.05))\n",
    "plt.xticks(rotation='vertical')\n",
    "plt.show()"
   ]
  },
  {
   "cell_type": "code",
   "execution_count": 126,
   "metadata": {},
   "outputs": [
    {
     "data": {
      "image/png": "[encoded data removed]",
      "text/plain": [
       "<Figure size 432x288 with 1 Axes>"
      ]
     },
     "metadata": {},
     "output_type": "display_data"
    }
   ],
   "source": [
    "# Let's plot accuracy sensitivity and specificity for various probabilities.\n",
    "metric_df.plot.line(x='prob', y=['accuracy','sensi','speci'])\n",
    "plt.xticks(np.arange(0.3,0.4,0.01))\n",
    "plt.xticks(rotation='vertical')\n",
    "plt.xlim(0.35,0.45)\n",
    "plt.show()"
   ]
  },
  {
   "cell_type": "code",
   "execution_count": 127,
   "metadata": {},
   "outputs": [],
   "source": [
    "prob_df['pred_response'] = prob_df.probability.apply(lambda x : 1 if x> 0.395 else 0)"
   ]
  },
  {
   "cell_type": "markdown",
   "metadata": {},
   "source": [
    "__Optimal cutoff probability is 0.395__."
   ]
  },
  {
   "cell_type": "markdown",
   "metadata": {},
   "source": [
    "## ROC curve"
   ]
  },
  {
   "cell_type": "code",
   "execution_count": 128,
   "metadata": {},
   "outputs": [
    {
     "data": {
      "image/png": "[encoded data removed]",
      "text/plain": [
       "<Figure size 360x360 with 1 Axes>"
      ]
     },
     "metadata": {},
     "output_type": "display_data"
    }
   ],
   "source": [
    "from sklearn import metrics\n",
    "def draw_roc( actual, probs ):\n",
    "    fpr, tpr, thresholds = metrics.roc_curve( actual, probs,\n",
    "                                              drop_intermediate = False )\n",
    "    auc_score = metrics.roc_auc_score( actual, probs )\n",
    "    plt.figure(figsize=(5, 5))\n",
    "    plt.plot( fpr, tpr, label='ROC curve (area = %0.2f)' % auc_score )\n",
    "    plt.plot([0, 1], [0, 1], 'k--')\n",
    "    plt.xlim([0.0, 1.0])\n",
    "    plt.ylim([0.0, 1.05])\n",
    "    plt.xlabel('False Positive Rate or [1 - True Negative Rate]')\n",
    "    plt.ylabel('True Positive Rate')\n",
    "    plt.title('Receiver operating characteristic example')\n",
    "    plt.legend(loc=\"lower right\")\n",
    "    plt.show()\n",
    "\n",
    "    return None\n",
    "\n",
    "fpr, tpr, thresholds = metrics.roc_curve( prob_df.response, prob_df.probability, drop_intermediate = False )\n",
    "\n",
    "draw_roc(prob_df.response, prob_df.probability)"
   ]
  },
  {
   "cell_type": "code",
   "execution_count": 129,
   "metadata": {},
   "outputs": [],
   "source": [
    "def print_bold(x):\n",
    "    print('\\033[1m'+str(x)+'\\033[0m')"
   ]
  },
  {
   "cell_type": "markdown",
   "metadata": {},
   "source": [
    "### train set metrics with optimal cutoff"
   ]
  },
  {
   "cell_type": "code",
   "execution_count": 130,
   "metadata": {},
   "outputs": [
    {
     "name": "stdout",
     "output_type": "stream",
     "text": [
      "\u001b[1mtrain set accuracy :\u001b[0m\n",
      "0.7261281259755125\n",
      "\u001b[1m\n",
      "train set confusion matrix:\u001b[0m\n",
      "[[18631  6949]\n",
      " [  947  2304]]\n",
      "\u001b[1m\n",
      "Sensitivity :\u001b[0m\n",
      "0.7087050138418948\n",
      "\u001b[1m\n",
      "Specificity :\u001b[0m\n",
      "0.7283424550430023\n",
      "\u001b[1m\n",
      "False poisitive rate :\u001b[0m\n",
      "0.2716575449569977\n",
      "\u001b[1m\n",
      "Positive predictive power :\u001b[0m\n",
      "0.24900032421917215\n",
      "\u001b[1m\n",
      "Negative predictive power :\u001b[0m\n",
      "0.9516293799162325\n"
     ]
    }
   ],
   "source": [
    "from sklearn.metrics import accuracy_score\n",
    "# Let's check the overall accuracy.\n",
    "print_bold('train set accuracy :')\n",
    "print(accuracy_score(prob_df.response, prob_df.pred_response))\n",
    "\n",
    "confusion2 = confusion_matrix(prob_df.response, prob_df.pred_response)\n",
    "print_bold('\\ntrain set confusion matrix:')\n",
    "print(confusion2)\n",
    "\n",
    "TP = confusion2[1,1] # true positive \n",
    "TN = confusion2[0,0] # true negatives\n",
    "FP = confusion2[0,1] # false positives\n",
    "FN = confusion2[1,0] # false negatives\n",
    "\n",
    "# Let's see the sensitivity of our logistic regression model\n",
    "print_bold('\\nSensitivity :')\n",
    "print(TP / float(TP+FN))\n",
    "\n",
    "# Let us calculate specificity\n",
    "print_bold('\\nSpecificity :')\n",
    "print(TN / float(TN+FP))\n",
    "\n",
    "# Calculate false postive rate \n",
    "print_bold('\\nFalse poisitive rate :')\n",
    "print(FP/ float(TN+FP))\n",
    "\n",
    "# Positive predictive value \n",
    "print_bold('\\nPositive predictive power :')\n",
    "print (TP / float(TP+FP))\n",
    "\n",
    "# Negative predictive value\n",
    "print_bold('\\nNegative predictive power :')\n",
    "print (TN / float(TN+ FN))"
   ]
  },
  {
   "cell_type": "markdown",
   "metadata": {},
   "source": [
    "### test set metrics with optimal cutoff"
   ]
  },
  {
   "cell_type": "code",
   "execution_count": 131,
   "metadata": {},
   "outputs": [
    {
     "data": {
      "text/html": [
       "<div>\n",
       "<style scoped>\n",
       "    .dataframe tbody tr th:only-of-type {\n",
       "        vertical-align: middle;\n",
       "    }\n",
       "\n",
       "    .dataframe tbody tr th {\n",
       "        vertical-align: top;\n",
       "    }\n",
       "\n",
       "    .dataframe thead th {\n",
       "        text-align: right;\n",
       "    }\n",
       "</style>\n",
       "<table border=\"1\" class=\"dataframe\">\n",
       "  <thead>\n",
       "    <tr style=\"text-align: right;\">\n",
       "      <th></th>\n",
       "      <th>prospect_id</th>\n",
       "      <th>probability</th>\n",
       "      <th>response</th>\n",
       "      <th>pred_response</th>\n",
       "    </tr>\n",
       "  </thead>\n",
       "  <tbody>\n",
       "    <tr>\n",
       "      <th>0</th>\n",
       "      <td>39256</td>\n",
       "      <td>0.982973</td>\n",
       "      <td>1</td>\n",
       "      <td>1</td>\n",
       "    </tr>\n",
       "    <tr>\n",
       "      <th>1</th>\n",
       "      <td>39393</td>\n",
       "      <td>0.980622</td>\n",
       "      <td>1</td>\n",
       "      <td>1</td>\n",
       "    </tr>\n",
       "    <tr>\n",
       "      <th>2</th>\n",
       "      <td>39386</td>\n",
       "      <td>0.980612</td>\n",
       "      <td>1</td>\n",
       "      <td>1</td>\n",
       "    </tr>\n",
       "    <tr>\n",
       "      <th>3</th>\n",
       "      <td>39309</td>\n",
       "      <td>0.980531</td>\n",
       "      <td>0</td>\n",
       "      <td>1</td>\n",
       "    </tr>\n",
       "    <tr>\n",
       "      <th>4</th>\n",
       "      <td>39287</td>\n",
       "      <td>0.980500</td>\n",
       "      <td>1</td>\n",
       "      <td>1</td>\n",
       "    </tr>\n",
       "  </tbody>\n",
       "</table>\n",
       "</div>"
      ],
      "text/plain": [
       "   prospect_id  probability  response  pred_response\n",
       "0        39256     0.982973         1              1\n",
       "1        39393     0.980622         1              1\n",
       "2        39386     0.980612         1              1\n",
       "3        39309     0.980531         0              1\n",
       "4        39287     0.980500         1              1"
      ]
     },
     "execution_count": 131,
     "metadata": {},
     "output_type": "execute_result"
    }
   ],
   "source": [
    "y_test_prob_pred = model.predict_proba(X_test[cols20])\n",
    "# taking probability for response = 1, which is second column\n",
    "prob_test_df = pd.DataFrame(y_test_prob_pred[:,1],index = X_test.index).reset_index().rename(columns = {0:'probability'})\n",
    "\n",
    "prob_test_df = prob_test_df.sort_values(by='probability',ascending = False)\n",
    "prob_test_df = prob_test_df.merge(y_test.reset_index(),on='prospect_id')\n",
    "prob_test_df['pred_response'] = prob_test_df.probability.apply(lambda x : 1 if x> 0.395 else 0)\n",
    "prob_test_df.head()"
   ]
  },
  {
   "cell_type": "code",
   "execution_count": 132,
   "metadata": {},
   "outputs": [
    {
     "name": "stdout",
     "output_type": "stream",
     "text": [
      "\u001b[1mtest set accuracy :\u001b[0m\n",
      "0.7248523104313345\n",
      "\u001b[1m\n",
      "test set confusion matrix:\u001b[0m\n",
      "[[7982 2986]\n",
      " [ 414  975]]\n",
      "\u001b[1m\n",
      "Sensitivity :\u001b[0m\n",
      "0.7019438444924406\n",
      "\u001b[1m\n",
      "Specificity :\u001b[0m\n",
      "0.7277534646243617\n",
      "\u001b[1m\n",
      "False poisitive rate :\u001b[0m\n",
      "0.2722465353756382\n",
      "\u001b[1m\n",
      "Positive predictive power :\u001b[0m\n",
      "0.24614996213077506\n",
      "\u001b[1m\n",
      "Negative predictive power :\u001b[0m\n",
      "0.9506908051453072\n"
     ]
    }
   ],
   "source": [
    "from sklearn.metrics import accuracy_score\n",
    "# Let's check the overall accuracy.\n",
    "print_bold('test set accuracy :')\n",
    "print(accuracy_score(prob_test_df.response, prob_test_df.pred_response))\n",
    "\n",
    "print_bold('\\ntest set confusion matrix:')\n",
    "confusion2 = confusion_matrix(prob_test_df.response, prob_test_df.pred_response)\n",
    "print(confusion2)\n",
    "\n",
    "TP = confusion2[1,1] # true positive \n",
    "TN = confusion2[0,0] # true negatives\n",
    "FP = confusion2[0,1] # false positives\n",
    "FN = confusion2[1,0] # false negatives\n",
    "\n",
    "# Let's see the sensitivity of our logistic regression model\n",
    "print_bold('\\nSensitivity :')\n",
    "print(TP / float(TP+FN))\n",
    "\n",
    "# Let us calculate specificity\n",
    "print_bold('\\nSpecificity :')\n",
    "print(TN / float(TN+FP))\n",
    "\n",
    "# Calculate false postive rate \n",
    "print_bold('\\nFalse poisitive rate :')\n",
    "print(FP/ float(TN+FP))\n",
    "\n",
    "# Positive predictive value \n",
    "print_bold('\\nPositive predictive power :')\n",
    "print (TP / float(TP+FP))\n",
    "\n",
    "# Negative predictive value\n",
    "print_bold('\\nNegative predictive power :')\n",
    "print (TN / float(TN+ FN))"
   ]
  },
  {
   "cell_type": "markdown",
   "metadata": {},
   "source": [
    "train and test set metrics are similar therefore we can use this as the final model"
   ]
  },
  {
   "cell_type": "markdown",
   "metadata": {},
   "source": [
    "### Metrics for entire dataset"
   ]
  },
  {
   "cell_type": "code",
   "execution_count": 133,
   "metadata": {},
   "outputs": [
    {
     "data": {
      "text/html": [
       "<div>\n",
       "<style scoped>\n",
       "    .dataframe tbody tr th:only-of-type {\n",
       "        vertical-align: middle;\n",
       "    }\n",
       "\n",
       "    .dataframe tbody tr th {\n",
       "        vertical-align: top;\n",
       "    }\n",
       "\n",
       "    .dataframe thead th {\n",
       "        text-align: right;\n",
       "    }\n",
       "</style>\n",
       "<table border=\"1\" class=\"dataframe\">\n",
       "  <thead>\n",
       "    <tr style=\"text-align: right;\">\n",
       "      <th></th>\n",
       "      <th>job_blue-collar</th>\n",
       "      <th>job_entrepreneur</th>\n",
       "      <th>job_housemaid</th>\n",
       "      <th>job_management</th>\n",
       "      <th>job_retired</th>\n",
       "      <th>job_self-employed</th>\n",
       "      <th>job_services</th>\n",
       "      <th>job_student</th>\n",
       "      <th>job_technician</th>\n",
       "      <th>job_unemployed</th>\n",
       "      <th>...</th>\n",
       "      <th>previous_Never contacted</th>\n",
       "      <th>poutcome_nonexistent</th>\n",
       "      <th>poutcome_success</th>\n",
       "      <th>age</th>\n",
       "      <th>campaign</th>\n",
       "      <th>emp.var.rate</th>\n",
       "      <th>cons.price.idx</th>\n",
       "      <th>cons.conf.idx</th>\n",
       "      <th>euribor3m</th>\n",
       "      <th>nr.employed</th>\n",
       "    </tr>\n",
       "    <tr>\n",
       "      <th>prospect_id</th>\n",
       "      <th></th>\n",
       "      <th></th>\n",
       "      <th></th>\n",
       "      <th></th>\n",
       "      <th></th>\n",
       "      <th></th>\n",
       "      <th></th>\n",
       "      <th></th>\n",
       "      <th></th>\n",
       "      <th></th>\n",
       "      <th></th>\n",
       "      <th></th>\n",
       "      <th></th>\n",
       "      <th></th>\n",
       "      <th></th>\n",
       "      <th></th>\n",
       "      <th></th>\n",
       "      <th></th>\n",
       "      <th></th>\n",
       "      <th></th>\n",
       "      <th></th>\n",
       "    </tr>\n",
       "  </thead>\n",
       "  <tbody>\n",
       "    <tr>\n",
       "      <th>1</th>\n",
       "      <td>0</td>\n",
       "      <td>0</td>\n",
       "      <td>1</td>\n",
       "      <td>0</td>\n",
       "      <td>0</td>\n",
       "      <td>0</td>\n",
       "      <td>0</td>\n",
       "      <td>0</td>\n",
       "      <td>0</td>\n",
       "      <td>0</td>\n",
       "      <td>...</td>\n",
       "      <td>1</td>\n",
       "      <td>1</td>\n",
       "      <td>0</td>\n",
       "      <td>1.575150</td>\n",
       "      <td>-0.654725</td>\n",
       "      <td>0.647239</td>\n",
       "      <td>0.718889</td>\n",
       "      <td>0.887856</td>\n",
       "      <td>0.711964</td>\n",
       "      <td>0.330676</td>\n",
       "    </tr>\n",
       "    <tr>\n",
       "      <th>2</th>\n",
       "      <td>0</td>\n",
       "      <td>0</td>\n",
       "      <td>0</td>\n",
       "      <td>0</td>\n",
       "      <td>0</td>\n",
       "      <td>0</td>\n",
       "      <td>1</td>\n",
       "      <td>0</td>\n",
       "      <td>0</td>\n",
       "      <td>0</td>\n",
       "      <td>...</td>\n",
       "      <td>1</td>\n",
       "      <td>1</td>\n",
       "      <td>0</td>\n",
       "      <td>1.673227</td>\n",
       "      <td>-0.654725</td>\n",
       "      <td>0.647239</td>\n",
       "      <td>0.718889</td>\n",
       "      <td>0.887856</td>\n",
       "      <td>0.711964</td>\n",
       "      <td>0.330676</td>\n",
       "    </tr>\n",
       "    <tr>\n",
       "      <th>3</th>\n",
       "      <td>0</td>\n",
       "      <td>0</td>\n",
       "      <td>0</td>\n",
       "      <td>0</td>\n",
       "      <td>0</td>\n",
       "      <td>0</td>\n",
       "      <td>1</td>\n",
       "      <td>0</td>\n",
       "      <td>0</td>\n",
       "      <td>0</td>\n",
       "      <td>...</td>\n",
       "      <td>1</td>\n",
       "      <td>1</td>\n",
       "      <td>0</td>\n",
       "      <td>-0.288308</td>\n",
       "      <td>-0.654725</td>\n",
       "      <td>0.647239</td>\n",
       "      <td>0.718889</td>\n",
       "      <td>0.887856</td>\n",
       "      <td>0.711964</td>\n",
       "      <td>0.330676</td>\n",
       "    </tr>\n",
       "    <tr>\n",
       "      <th>4</th>\n",
       "      <td>0</td>\n",
       "      <td>0</td>\n",
       "      <td>0</td>\n",
       "      <td>0</td>\n",
       "      <td>0</td>\n",
       "      <td>0</td>\n",
       "      <td>0</td>\n",
       "      <td>0</td>\n",
       "      <td>0</td>\n",
       "      <td>0</td>\n",
       "      <td>...</td>\n",
       "      <td>1</td>\n",
       "      <td>1</td>\n",
       "      <td>0</td>\n",
       "      <td>0.005923</td>\n",
       "      <td>-0.654725</td>\n",
       "      <td>0.647239</td>\n",
       "      <td>0.718889</td>\n",
       "      <td>0.887856</td>\n",
       "      <td>0.711964</td>\n",
       "      <td>0.330676</td>\n",
       "    </tr>\n",
       "    <tr>\n",
       "      <th>5</th>\n",
       "      <td>0</td>\n",
       "      <td>0</td>\n",
       "      <td>0</td>\n",
       "      <td>0</td>\n",
       "      <td>0</td>\n",
       "      <td>0</td>\n",
       "      <td>1</td>\n",
       "      <td>0</td>\n",
       "      <td>0</td>\n",
       "      <td>0</td>\n",
       "      <td>...</td>\n",
       "      <td>1</td>\n",
       "      <td>1</td>\n",
       "      <td>0</td>\n",
       "      <td>1.575150</td>\n",
       "      <td>-0.654725</td>\n",
       "      <td>0.647239</td>\n",
       "      <td>0.718889</td>\n",
       "      <td>0.887856</td>\n",
       "      <td>0.711964</td>\n",
       "      <td>0.330676</td>\n",
       "    </tr>\n",
       "  </tbody>\n",
       "</table>\n",
       "<p>5 rows × 50 columns</p>\n",
       "</div>"
      ],
      "text/plain": [
       "             job_blue-collar  job_entrepreneur  job_housemaid  job_management  \\\n",
       "prospect_id                                                                     \n",
       "1                          0                 0              1               0   \n",
       "2                          0                 0              0               0   \n",
       "3                          0                 0              0               0   \n",
       "4                          0                 0              0               0   \n",
       "5                          0                 0              0               0   \n",
       "\n",
       "             job_retired  job_self-employed  job_services  job_student  \\\n",
       "prospect_id                                                              \n",
       "1                      0                  0             0            0   \n",
       "2                      0                  0             1            0   \n",
       "3                      0                  0             1            0   \n",
       "4                      0                  0             0            0   \n",
       "5                      0                  0             1            0   \n",
       "\n",
       "             job_technician  job_unemployed  ...  previous_Never contacted  \\\n",
       "prospect_id                                  ...                             \n",
       "1                         0               0  ...                         1   \n",
       "2                         0               0  ...                         1   \n",
       "3                         0               0  ...                         1   \n",
       "4                         0               0  ...                         1   \n",
       "5                         0               0  ...                         1   \n",
       "\n",
       "             poutcome_nonexistent  poutcome_success       age  campaign  \\\n",
       "prospect_id                                                               \n",
       "1                               1                 0  1.575150 -0.654725   \n",
       "2                               1                 0  1.673227 -0.654725   \n",
       "3                               1                 0 -0.288308 -0.654725   \n",
       "4                               1                 0  0.005923 -0.654725   \n",
       "5                               1                 0  1.575150 -0.654725   \n",
       "\n",
       "             emp.var.rate  cons.price.idx  cons.conf.idx  euribor3m  \\\n",
       "prospect_id                                                           \n",
       "1                0.647239        0.718889       0.887856   0.711964   \n",
       "2                0.647239        0.718889       0.887856   0.711964   \n",
       "3                0.647239        0.718889       0.887856   0.711964   \n",
       "4                0.647239        0.718889       0.887856   0.711964   \n",
       "5                0.647239        0.718889       0.887856   0.711964   \n",
       "\n",
       "             nr.employed  \n",
       "prospect_id               \n",
       "1               0.330676  \n",
       "2               0.330676  \n",
       "3               0.330676  \n",
       "4               0.330676  \n",
       "5               0.330676  \n",
       "\n",
       "[5 rows x 50 columns]"
      ]
     },
     "execution_count": 133,
     "metadata": {},
     "output_type": "execute_result"
    }
   ],
   "source": [
    "X_final = pd.concat([X_train,X_test],axis = 0).sort_index()\n",
    "X_final.head()"
   ]
  },
  {
   "cell_type": "code",
   "execution_count": 134,
   "metadata": {},
   "outputs": [
    {
     "data": {
      "text/plain": [
       "prospect_id\n",
       "1    0\n",
       "2    0\n",
       "3    0\n",
       "4    0\n",
       "5    0\n",
       "Name: response, dtype: int64"
      ]
     },
     "execution_count": 134,
     "metadata": {},
     "output_type": "execute_result"
    }
   ],
   "source": [
    "y_final = pd.concat([y_train,y_test],axis = 0).sort_index()\n",
    "y_final.head()"
   ]
  },
  {
   "cell_type": "code",
   "execution_count": 135,
   "metadata": {},
   "outputs": [
    {
     "data": {
      "text/html": [
       "<div>\n",
       "<style scoped>\n",
       "    .dataframe tbody tr th:only-of-type {\n",
       "        vertical-align: middle;\n",
       "    }\n",
       "\n",
       "    .dataframe tbody tr th {\n",
       "        vertical-align: top;\n",
       "    }\n",
       "\n",
       "    .dataframe thead th {\n",
       "        text-align: right;\n",
       "    }\n",
       "</style>\n",
       "<table border=\"1\" class=\"dataframe\">\n",
       "  <thead>\n",
       "    <tr style=\"text-align: right;\">\n",
       "      <th></th>\n",
       "      <th>prospect_id</th>\n",
       "      <th>probability</th>\n",
       "      <th>response</th>\n",
       "      <th>pred_response</th>\n",
       "    </tr>\n",
       "  </thead>\n",
       "  <tbody>\n",
       "    <tr>\n",
       "      <th>0</th>\n",
       "      <td>39341</td>\n",
       "      <td>0.986816</td>\n",
       "      <td>1</td>\n",
       "      <td>1</td>\n",
       "    </tr>\n",
       "    <tr>\n",
       "      <th>1</th>\n",
       "      <td>39337</td>\n",
       "      <td>0.986802</td>\n",
       "      <td>1</td>\n",
       "      <td>1</td>\n",
       "    </tr>\n",
       "    <tr>\n",
       "      <th>2</th>\n",
       "      <td>39259</td>\n",
       "      <td>0.986719</td>\n",
       "      <td>1</td>\n",
       "      <td>1</td>\n",
       "    </tr>\n",
       "    <tr>\n",
       "      <th>3</th>\n",
       "      <td>39148</td>\n",
       "      <td>0.986677</td>\n",
       "      <td>1</td>\n",
       "      <td>1</td>\n",
       "    </tr>\n",
       "    <tr>\n",
       "      <th>4</th>\n",
       "      <td>39154</td>\n",
       "      <td>0.986677</td>\n",
       "      <td>1</td>\n",
       "      <td>1</td>\n",
       "    </tr>\n",
       "  </tbody>\n",
       "</table>\n",
       "</div>"
      ],
      "text/plain": [
       "   prospect_id  probability  response  pred_response\n",
       "0        39341     0.986816         1              1\n",
       "1        39337     0.986802         1              1\n",
       "2        39259     0.986719         1              1\n",
       "3        39148     0.986677         1              1\n",
       "4        39154     0.986677         1              1"
      ]
     },
     "execution_count": 135,
     "metadata": {},
     "output_type": "execute_result"
    }
   ],
   "source": [
    "y_final_prob_pred = model.predict_proba(X_final[cols20])\n",
    "# taking probability for response = 1, which is second column\n",
    "prob_final_df = pd.DataFrame(y_final_prob_pred[:,1],index = X_final.index).reset_index().rename(columns = {0:'probability'})\n",
    "\n",
    "prob_final_df = prob_final_df.sort_values(by='probability',ascending = False)\n",
    "prob_final_df = prob_final_df.merge(y_final.reset_index(),on='prospect_id')\n",
    "prob_final_df['pred_response'] = prob_final_df.probability.apply(lambda x : 1 if x> 0.395 else 0)\n",
    "prob_final_df.head()"
   ]
  },
  {
   "cell_type": "code",
   "execution_count": 136,
   "metadata": {},
   "outputs": [
    {
     "name": "stdout",
     "output_type": "stream",
     "text": [
      "0.7257453627270078\n",
      "\u001b[1maccuracy :\u001b[0m\n",
      "\u001b[1m\n",
      "confusion matrix for entire data:\u001b[0m\n",
      "[[26613  9935]\n",
      " [ 1361  3279]]\n",
      "\u001b[1m\n",
      "Sensitivity :\u001b[0m\n",
      "0.7066810344827587\n",
      "\u001b[1m\n",
      "Specificity :\u001b[0m\n",
      "0.7281656999014994\n",
      "\u001b[1m\n",
      "False poisitive rate :\u001b[0m\n",
      "0.2718343000985006\n",
      "\u001b[1m\n",
      "Positive predictive power :\u001b[0m\n",
      "0.24814590585742394\n",
      "\u001b[1m\n",
      "Negative predictive power :\u001b[0m\n",
      "0.9513476799885608\n"
     ]
    }
   ],
   "source": [
    "print_bold('accuracy :')\n",
    "print(accuracy_score(prob_final_df.response, prob_final_df.pred_response))\n",
    "\n",
    "confusion2 = confusion_matrix(prob_final_df.response, prob_final_df.pred_response)\n",
    "\n",
    "\n",
    "\n",
    "print_bold('\\nconfusion matrix for entire data:')\n",
    "print(confusion2)\n",
    "\n",
    "TP = confusion2[1,1] # true positive \n",
    "TN = confusion2[0,0] # true negatives\n",
    "FP = confusion2[0,1] # false positives\n",
    "FN = confusion2[1,0] # false negatives\n",
    "\n",
    "# Let's see the sensitivity of our logistic regression model\n",
    "print_bold('\\nSensitivity :')\n",
    "print(TP / float(TP+FN))\n",
    "\n",
    "# Let us calculate specificity\n",
    "print_bold('\\nSpecificity :')\n",
    "print(TN / float(TN+FP))\n",
    "\n",
    "# Calculate false postive rate \n",
    "print_bold('\\nFalse poisitive rate :')\n",
    "print(FP/ float(TN+FP))\n",
    "\n",
    "# Positive predictive value \n",
    "print_bold('\\nPositive predictive power :')\n",
    "print (TP / float(TP+FP))\n",
    "\n",
    "# Negative predictive value\n",
    "print_bold('\\nNegative predictive power :')\n",
    "print (TN / float(TN+ FN))"
   ]
  },
  {
   "cell_type": "markdown",
   "metadata": {},
   "source": [
    "## Checkpoint 3"
   ]
  },
  {
   "cell_type": "markdown",
   "metadata": {},
   "source": [
    "Assuming that cost of call is 1 paisa per second."
   ]
  },
  {
   "cell_type": "code",
   "execution_count": 137,
   "metadata": {},
   "outputs": [
    {
     "data": {
      "text/html": [
       "<div>\n",
       "<style scoped>\n",
       "    .dataframe tbody tr th:only-of-type {\n",
       "        vertical-align: middle;\n",
       "    }\n",
       "\n",
       "    .dataframe tbody tr th {\n",
       "        vertical-align: top;\n",
       "    }\n",
       "\n",
       "    .dataframe thead th {\n",
       "        text-align: right;\n",
       "    }\n",
       "</style>\n",
       "<table border=\"1\" class=\"dataframe\">\n",
       "  <thead>\n",
       "    <tr style=\"text-align: right;\">\n",
       "      <th></th>\n",
       "      <th>prospect_id</th>\n",
       "      <th>probability</th>\n",
       "      <th>response</th>\n",
       "      <th>pred_response</th>\n",
       "      <th>duration</th>\n",
       "      <th>campaign</th>\n",
       "      <th>cost_of_call_in_Rs</th>\n",
       "    </tr>\n",
       "  </thead>\n",
       "  <tbody>\n",
       "    <tr>\n",
       "      <th>0</th>\n",
       "      <td>39341</td>\n",
       "      <td>0.986816</td>\n",
       "      <td>1</td>\n",
       "      <td>1</td>\n",
       "      <td>101</td>\n",
       "      <td>1</td>\n",
       "      <td>1.01</td>\n",
       "    </tr>\n",
       "    <tr>\n",
       "      <th>1</th>\n",
       "      <td>39337</td>\n",
       "      <td>0.986802</td>\n",
       "      <td>1</td>\n",
       "      <td>1</td>\n",
       "      <td>136</td>\n",
       "      <td>1</td>\n",
       "      <td>1.36</td>\n",
       "    </tr>\n",
       "    <tr>\n",
       "      <th>2</th>\n",
       "      <td>39259</td>\n",
       "      <td>0.986719</td>\n",
       "      <td>1</td>\n",
       "      <td>1</td>\n",
       "      <td>215</td>\n",
       "      <td>1</td>\n",
       "      <td>2.15</td>\n",
       "    </tr>\n",
       "    <tr>\n",
       "      <th>3</th>\n",
       "      <td>39148</td>\n",
       "      <td>0.986677</td>\n",
       "      <td>1</td>\n",
       "      <td>1</td>\n",
       "      <td>313</td>\n",
       "      <td>1</td>\n",
       "      <td>3.13</td>\n",
       "    </tr>\n",
       "    <tr>\n",
       "      <th>4</th>\n",
       "      <td>39154</td>\n",
       "      <td>0.986677</td>\n",
       "      <td>1</td>\n",
       "      <td>1</td>\n",
       "      <td>363</td>\n",
       "      <td>1</td>\n",
       "      <td>3.63</td>\n",
       "    </tr>\n",
       "  </tbody>\n",
       "</table>\n",
       "</div>"
      ],
      "text/plain": [
       "   prospect_id  probability  response  pred_response  duration  campaign  \\\n",
       "0        39341     0.986816         1              1       101         1   \n",
       "1        39337     0.986802         1              1       136         1   \n",
       "2        39259     0.986719         1              1       215         1   \n",
       "3        39148     0.986677         1              1       313         1   \n",
       "4        39154     0.986677         1              1       363         1   \n",
       "\n",
       "   cost_of_call_in_Rs  \n",
       "0                1.01  \n",
       "1                1.36  \n",
       "2                2.15  \n",
       "3                3.13  \n",
       "4                3.63  "
      ]
     },
     "execution_count": 137,
     "metadata": {},
     "output_type": "execute_result"
    }
   ],
   "source": [
    "duration_pred = prob_final_df.merge(duration,on='prospect_id')\n",
    "duration_pred = duration_pred.merge(marketing.campaign.reset_index(),on='prospect_id')\n",
    "duration_pred['cost_of_call_in_Rs'] = duration_pred.duration/100\n",
    "duration_pred.head()"
   ]
  },
  {
   "cell_type": "markdown",
   "metadata": {},
   "source": [
    "## Checkpoint 4"
   ]
  },
  {
   "cell_type": "markdown",
   "metadata": {},
   "source": [
    "__Goal is to reach 80% of responders.__"
   ]
  },
  {
   "cell_type": "code",
   "execution_count": 138,
   "metadata": {},
   "outputs": [],
   "source": [
    "decile_df = duration_pred.copy()"
   ]
  },
  {
   "cell_type": "code",
   "execution_count": 139,
   "metadata": {},
   "outputs": [
    {
     "data": {
      "text/html": [
       "<div>\n",
       "<style scoped>\n",
       "    .dataframe tbody tr th:only-of-type {\n",
       "        vertical-align: middle;\n",
       "    }\n",
       "\n",
       "    .dataframe tbody tr th {\n",
       "        vertical-align: top;\n",
       "    }\n",
       "\n",
       "    .dataframe thead th {\n",
       "        text-align: right;\n",
       "    }\n",
       "</style>\n",
       "<table border=\"1\" class=\"dataframe\">\n",
       "  <thead>\n",
       "    <tr style=\"text-align: right;\">\n",
       "      <th></th>\n",
       "      <th>prospect_id</th>\n",
       "      <th>probability</th>\n",
       "      <th>response</th>\n",
       "      <th>pred_response</th>\n",
       "      <th>duration</th>\n",
       "      <th>campaign</th>\n",
       "      <th>cost_of_call_in_Rs</th>\n",
       "      <th>decile</th>\n",
       "    </tr>\n",
       "  </thead>\n",
       "  <tbody>\n",
       "    <tr>\n",
       "      <th>0</th>\n",
       "      <td>39341</td>\n",
       "      <td>0.986816</td>\n",
       "      <td>1</td>\n",
       "      <td>1</td>\n",
       "      <td>101</td>\n",
       "      <td>1</td>\n",
       "      <td>1.01</td>\n",
       "      <td>1</td>\n",
       "    </tr>\n",
       "    <tr>\n",
       "      <th>1</th>\n",
       "      <td>39337</td>\n",
       "      <td>0.986802</td>\n",
       "      <td>1</td>\n",
       "      <td>1</td>\n",
       "      <td>136</td>\n",
       "      <td>1</td>\n",
       "      <td>1.36</td>\n",
       "      <td>1</td>\n",
       "    </tr>\n",
       "    <tr>\n",
       "      <th>2</th>\n",
       "      <td>39259</td>\n",
       "      <td>0.986719</td>\n",
       "      <td>1</td>\n",
       "      <td>1</td>\n",
       "      <td>215</td>\n",
       "      <td>1</td>\n",
       "      <td>2.15</td>\n",
       "      <td>1</td>\n",
       "    </tr>\n",
       "    <tr>\n",
       "      <th>3</th>\n",
       "      <td>39148</td>\n",
       "      <td>0.986677</td>\n",
       "      <td>1</td>\n",
       "      <td>1</td>\n",
       "      <td>313</td>\n",
       "      <td>1</td>\n",
       "      <td>3.13</td>\n",
       "      <td>1</td>\n",
       "    </tr>\n",
       "    <tr>\n",
       "      <th>4</th>\n",
       "      <td>39154</td>\n",
       "      <td>0.986677</td>\n",
       "      <td>1</td>\n",
       "      <td>1</td>\n",
       "      <td>363</td>\n",
       "      <td>1</td>\n",
       "      <td>3.63</td>\n",
       "      <td>1</td>\n",
       "    </tr>\n",
       "  </tbody>\n",
       "</table>\n",
       "</div>"
      ],
      "text/plain": [
       "   prospect_id  probability  response  pred_response  duration  campaign  \\\n",
       "0        39341     0.986816         1              1       101         1   \n",
       "1        39337     0.986802         1              1       136         1   \n",
       "2        39259     0.986719         1              1       215         1   \n",
       "3        39148     0.986677         1              1       313         1   \n",
       "4        39154     0.986677         1              1       363         1   \n",
       "\n",
       "   cost_of_call_in_Rs decile  \n",
       "0                1.01      1  \n",
       "1                1.36      1  \n",
       "2                2.15      1  \n",
       "3                3.13      1  \n",
       "4                3.63      1  "
      ]
     },
     "execution_count": 139,
     "metadata": {},
     "output_type": "execute_result"
    }
   ],
   "source": [
    "decile_df['decile'] = pd.qcut(decile_df['probability'], 10, labels=np.arange(10, 0, -1))\n",
    "decile_df.head()"
   ]
  },
  {
   "cell_type": "code",
   "execution_count": 140,
   "metadata": {},
   "outputs": [],
   "source": [
    "lift_df = decile_df.groupby('decile')['probability'].count().reset_index()"
   ]
  },
  {
   "cell_type": "code",
   "execution_count": 141,
   "metadata": {},
   "outputs": [
    {
     "data": {
      "text/html": [
       "<div>\n",
       "<style scoped>\n",
       "    .dataframe tbody tr th:only-of-type {\n",
       "        vertical-align: middle;\n",
       "    }\n",
       "\n",
       "    .dataframe tbody tr th {\n",
       "        vertical-align: top;\n",
       "    }\n",
       "\n",
       "    .dataframe thead th {\n",
       "        text-align: right;\n",
       "    }\n",
       "</style>\n",
       "<table border=\"1\" class=\"dataframe\">\n",
       "  <thead>\n",
       "    <tr style=\"text-align: right;\">\n",
       "      <th></th>\n",
       "      <th>decile</th>\n",
       "      <th>probability</th>\n",
       "    </tr>\n",
       "  </thead>\n",
       "  <tbody>\n",
       "    <tr>\n",
       "      <th>0</th>\n",
       "      <td>10</td>\n",
       "      <td>5661</td>\n",
       "    </tr>\n",
       "    <tr>\n",
       "      <th>1</th>\n",
       "      <td>9</td>\n",
       "      <td>2695</td>\n",
       "    </tr>\n",
       "    <tr>\n",
       "      <th>2</th>\n",
       "      <td>8</td>\n",
       "      <td>4489</td>\n",
       "    </tr>\n",
       "    <tr>\n",
       "      <th>3</th>\n",
       "      <td>7</td>\n",
       "      <td>3721</td>\n",
       "    </tr>\n",
       "    <tr>\n",
       "      <th>4</th>\n",
       "      <td>6</td>\n",
       "      <td>4479</td>\n",
       "    </tr>\n",
       "    <tr>\n",
       "      <th>5</th>\n",
       "      <td>5</td>\n",
       "      <td>3943</td>\n",
       "    </tr>\n",
       "    <tr>\n",
       "      <th>6</th>\n",
       "      <td>4</td>\n",
       "      <td>3962</td>\n",
       "    </tr>\n",
       "    <tr>\n",
       "      <th>7</th>\n",
       "      <td>3</td>\n",
       "      <td>4256</td>\n",
       "    </tr>\n",
       "    <tr>\n",
       "      <th>8</th>\n",
       "      <td>2</td>\n",
       "      <td>3884</td>\n",
       "    </tr>\n",
       "    <tr>\n",
       "      <th>9</th>\n",
       "      <td>1</td>\n",
       "      <td>4098</td>\n",
       "    </tr>\n",
       "  </tbody>\n",
       "</table>\n",
       "</div>"
      ],
      "text/plain": [
       "  decile  probability\n",
       "0     10         5661\n",
       "1      9         2695\n",
       "2      8         4489\n",
       "3      7         3721\n",
       "4      6         4479\n",
       "5      5         3943\n",
       "6      4         3962\n",
       "7      3         4256\n",
       "8      2         3884\n",
       "9      1         4098"
      ]
     },
     "execution_count": 141,
     "metadata": {},
     "output_type": "execute_result"
    }
   ],
   "source": [
    "lift_df"
   ]
  },
  {
   "cell_type": "code",
   "execution_count": 142,
   "metadata": {},
   "outputs": [],
   "source": [
    "lift_df.rename({'probability':'total'}, axis=1, inplace=True)"
   ]
  },
  {
   "cell_type": "code",
   "execution_count": 143,
   "metadata": {},
   "outputs": [],
   "source": [
    "lift_df_pred = decile_df[decile_df['response']==1].groupby('decile')['response'].count().reset_index()"
   ]
  },
  {
   "cell_type": "code",
   "execution_count": 144,
   "metadata": {},
   "outputs": [],
   "source": [
    "lift_df_final = lift_df.merge(lift_df_pred,on = 'decile')"
   ]
  },
  {
   "cell_type": "code",
   "execution_count": 145,
   "metadata": {},
   "outputs": [],
   "source": [
    "lift_df_final = lift_df_final.sort_values(['decile'], ascending=False)"
   ]
  },
  {
   "cell_type": "code",
   "execution_count": 146,
   "metadata": {},
   "outputs": [],
   "source": [
    "lift_df_final['cumresp'] = lift_df_final['response'].cumsum()"
   ]
  },
  {
   "cell_type": "code",
   "execution_count": 147,
   "metadata": {},
   "outputs": [],
   "source": [
    "lift_df_final['gain'] = 100*(lift_df_final['cumresp']/sum(lift_df_final['response']))"
   ]
  },
  {
   "cell_type": "code",
   "execution_count": 148,
   "metadata": {},
   "outputs": [],
   "source": [
    "lift_df_final['cumlift'] = lift_df_final['gain']/(lift_df_final['decile'].astype('int')*(100/10))"
   ]
  },
  {
   "cell_type": "code",
   "execution_count": 149,
   "metadata": {},
   "outputs": [],
   "source": [
    "lift_df_final = lift_df_final.merge(decile_df.groupby('decile').duration.sum().reset_index(),on='decile')"
   ]
  },
  {
   "cell_type": "code",
   "execution_count": 150,
   "metadata": {},
   "outputs": [],
   "source": [
    "lift_df_final = lift_df_final.merge(decile_df.groupby('decile').campaign.sum().reset_index(),on='decile')"
   ]
  },
  {
   "cell_type": "code",
   "execution_count": 151,
   "metadata": {},
   "outputs": [
    {
     "data": {
      "text/html": [
       "<div>\n",
       "<style scoped>\n",
       "    .dataframe tbody tr th:only-of-type {\n",
       "        vertical-align: middle;\n",
       "    }\n",
       "\n",
       "    .dataframe tbody tr th {\n",
       "        vertical-align: top;\n",
       "    }\n",
       "\n",
       "    .dataframe thead th {\n",
       "        text-align: right;\n",
       "    }\n",
       "</style>\n",
       "<table border=\"1\" class=\"dataframe\">\n",
       "  <thead>\n",
       "    <tr style=\"text-align: right;\">\n",
       "      <th></th>\n",
       "      <th>decile</th>\n",
       "      <th>total</th>\n",
       "      <th>response</th>\n",
       "      <th>cumresp</th>\n",
       "      <th>gain</th>\n",
       "      <th>cumlift</th>\n",
       "      <th>duration</th>\n",
       "      <th>campaign</th>\n",
       "    </tr>\n",
       "  </thead>\n",
       "  <tbody>\n",
       "    <tr>\n",
       "      <th>0</th>\n",
       "      <td>1</td>\n",
       "      <td>4098</td>\n",
       "      <td>2020</td>\n",
       "      <td>2020</td>\n",
       "      <td>43.534483</td>\n",
       "      <td>4.353448</td>\n",
       "      <td>1189485</td>\n",
       "      <td>7659</td>\n",
       "    </tr>\n",
       "    <tr>\n",
       "      <th>1</th>\n",
       "      <td>2</td>\n",
       "      <td>3884</td>\n",
       "      <td>819</td>\n",
       "      <td>2839</td>\n",
       "      <td>61.185345</td>\n",
       "      <td>3.059267</td>\n",
       "      <td>1044115</td>\n",
       "      <td>7467</td>\n",
       "    </tr>\n",
       "    <tr>\n",
       "      <th>2</th>\n",
       "      <td>3</td>\n",
       "      <td>4256</td>\n",
       "      <td>396</td>\n",
       "      <td>3235</td>\n",
       "      <td>69.719828</td>\n",
       "      <td>2.323994</td>\n",
       "      <td>1083972</td>\n",
       "      <td>10263</td>\n",
       "    </tr>\n",
       "    <tr>\n",
       "      <th>3</th>\n",
       "      <td>4</td>\n",
       "      <td>3962</td>\n",
       "      <td>246</td>\n",
       "      <td>3481</td>\n",
       "      <td>75.021552</td>\n",
       "      <td>1.875539</td>\n",
       "      <td>1003041</td>\n",
       "      <td>8520</td>\n",
       "    </tr>\n",
       "    <tr>\n",
       "      <th>4</th>\n",
       "      <td>5</td>\n",
       "      <td>3943</td>\n",
       "      <td>258</td>\n",
       "      <td>3739</td>\n",
       "      <td>80.581897</td>\n",
       "      <td>1.611638</td>\n",
       "      <td>1083679</td>\n",
       "      <td>11409</td>\n",
       "    </tr>\n",
       "    <tr>\n",
       "      <th>5</th>\n",
       "      <td>6</td>\n",
       "      <td>4479</td>\n",
       "      <td>175</td>\n",
       "      <td>3914</td>\n",
       "      <td>84.353448</td>\n",
       "      <td>1.405891</td>\n",
       "      <td>1001609</td>\n",
       "      <td>14590</td>\n",
       "    </tr>\n",
       "    <tr>\n",
       "      <th>6</th>\n",
       "      <td>7</td>\n",
       "      <td>3721</td>\n",
       "      <td>234</td>\n",
       "      <td>4148</td>\n",
       "      <td>89.396552</td>\n",
       "      <td>1.277094</td>\n",
       "      <td>898509</td>\n",
       "      <td>9647</td>\n",
       "    </tr>\n",
       "    <tr>\n",
       "      <th>7</th>\n",
       "      <td>8</td>\n",
       "      <td>4489</td>\n",
       "      <td>217</td>\n",
       "      <td>4365</td>\n",
       "      <td>94.073276</td>\n",
       "      <td>1.175916</td>\n",
       "      <td>1016262</td>\n",
       "      <td>12934</td>\n",
       "    </tr>\n",
       "    <tr>\n",
       "      <th>8</th>\n",
       "      <td>9</td>\n",
       "      <td>2695</td>\n",
       "      <td>91</td>\n",
       "      <td>4456</td>\n",
       "      <td>96.034483</td>\n",
       "      <td>1.067050</td>\n",
       "      <td>672548</td>\n",
       "      <td>5947</td>\n",
       "    </tr>\n",
       "    <tr>\n",
       "      <th>9</th>\n",
       "      <td>10</td>\n",
       "      <td>5661</td>\n",
       "      <td>184</td>\n",
       "      <td>4640</td>\n",
       "      <td>100.000000</td>\n",
       "      <td>1.000000</td>\n",
       "      <td>1482916</td>\n",
       "      <td>14535</td>\n",
       "    </tr>\n",
       "  </tbody>\n",
       "</table>\n",
       "</div>"
      ],
      "text/plain": [
       "  decile  total  response  cumresp        gain   cumlift  duration  campaign\n",
       "0      1   4098      2020     2020   43.534483  4.353448   1189485      7659\n",
       "1      2   3884       819     2839   61.185345  3.059267   1044115      7467\n",
       "2      3   4256       396     3235   69.719828  2.323994   1083972     10263\n",
       "3      4   3962       246     3481   75.021552  1.875539   1003041      8520\n",
       "4      5   3943       258     3739   80.581897  1.611638   1083679     11409\n",
       "5      6   4479       175     3914   84.353448  1.405891   1001609     14590\n",
       "6      7   3721       234     4148   89.396552  1.277094    898509      9647\n",
       "7      8   4489       217     4365   94.073276  1.175916   1016262     12934\n",
       "8      9   2695        91     4456   96.034483  1.067050    672548      5947\n",
       "9     10   5661       184     4640  100.000000  1.000000   1482916     14535"
      ]
     },
     "execution_count": 151,
     "metadata": {},
     "output_type": "execute_result"
    }
   ],
   "source": [
    "lift_df_final"
   ]
  },
  {
   "cell_type": "markdown",
   "metadata": {},
   "source": [
    "Our goal is to reach 80% of the responders. If we target the people is top 5 deciles ordered according to decreasing predicted probability, then we can contact 80.58% of the responders. __Hence We are required to contact Top 5 deciles.__"
   ]
  },
  {
   "cell_type": "markdown",
   "metadata": {},
   "source": [
    "#### Average call duration for 5 deciles"
   ]
  },
  {
   "cell_type": "code",
   "execution_count": 152,
   "metadata": {
    "scrolled": true
   },
   "outputs": [
    {
     "name": "stdout",
     "output_type": "stream",
     "text": [
      "\u001b[1mAverage call duration for top 5 deciles:\u001b[0m\n",
      "268.2962815866554\n"
     ]
    }
   ],
   "source": [
    "print_bold('Average call duration for top 5 deciles:')\n",
    "print(lift_df_final.loc[lift_df_final.decile >6,'duration'].sum()/lift_df_final.loc[lift_df_final.decile >6,'total'].sum())"
   ]
  },
  {
   "cell_type": "markdown",
   "metadata": {},
   "source": [
    "__The average call duration for top 4 deciles is 268.29 seconds, which is about 4.5 minutes.__"
   ]
  },
  {
   "cell_type": "markdown",
   "metadata": {},
   "source": [
    "## Checkpoint 5: Lift and gain chart"
   ]
  },
  {
   "cell_type": "markdown",
   "metadata": {},
   "source": [
    "## Gain chart"
   ]
  },
  {
   "cell_type": "code",
   "execution_count": 163,
   "metadata": {},
   "outputs": [
    {
     "data": {
      "image/png": "[encoded data removed]",
      "text/plain": [
       "<Figure size 432x288 with 1 Axes>"
      ]
     },
     "metadata": {},
     "output_type": "display_data"
    }
   ],
   "source": [
    "plt.plot(lift_df_final['total'].cumsum(),lift_df_final['gain'],'r')\n",
    "plt.title('Gain chart')\n",
    "plt.xlabel('Number of people')\n",
    "plt.ylabel('Gain %')\n",
    "plt.show()"
   ]
  },
  {
   "cell_type": "markdown",
   "metadata": {},
   "source": [
    "## Lift Chart"
   ]
  },
  {
   "cell_type": "code",
   "execution_count": 164,
   "metadata": {},
   "outputs": [
    {
     "data": {
      "image/png": "[encoded data removed]",
      "text/plain": [
       "<Figure size 432x288 with 1 Axes>"
      ]
     },
     "metadata": {},
     "output_type": "display_data"
    }
   ],
   "source": [
    "plt.plot(lift_df_final.decile.tolist(),lift_df_final.cumlift.tolist(),color='r',label = 'with model')\n",
    "plt.axhline(y=1, color='k', linestyle='-.',label = 'without model')\n",
    "plt.legend()\n",
    "plt.xlim([1,10])\n",
    "plt.ylim([0,5])\n",
    "plt.title('Lift chart')\n",
    "plt.xlabel('Deciles')\n",
    "plt.ylabel('lift')\n",
    "plt.show()"
   ]
  },
  {
   "cell_type": "markdown",
   "metadata": {},
   "source": [
    "## Checkpoint 6:"
   ]
  },
  {
   "cell_type": "markdown",
   "metadata": {},
   "source": [
    "### Cost wrt number of contacts made"
   ]
  },
  {
   "cell_type": "code",
   "execution_count": 155,
   "metadata": {},
   "outputs": [
    {
     "name": "stdout",
     "output_type": "stream",
     "text": [
      "\u001b[1mNumber of contacts made in top 5 deciles:\u001b[0m\n",
      "45318\n"
     ]
    }
   ],
   "source": [
    "print_bold('Number of contacts made in top 5 deciles:')\n",
    "print(lift_df_final.loc[lift_df_final.decile >6,'campaign'].sum())"
   ]
  },
  {
   "cell_type": "code",
   "execution_count": 156,
   "metadata": {},
   "outputs": [
    {
     "name": "stdout",
     "output_type": "stream",
     "text": [
      "\u001b[1mpercentage of contacts made in top 5 deciles:\u001b[0m\n",
      "0.4401044954404638\n"
     ]
    }
   ],
   "source": [
    "print_bold('percentage of contacts made in top 5 deciles:')\n",
    "print(45318/lift_df_final.campaign.sum())"
   ]
  },
  {
   "cell_type": "code",
   "execution_count": 157,
   "metadata": {},
   "outputs": [
    {
     "name": "stdout",
     "output_type": "stream",
     "text": [
      "\u001b[1mTotal contacts made:\u001b[0m\n",
      "102971\n"
     ]
    }
   ],
   "source": [
    "print_bold('Total contacts made:')\n",
    "print(lift_df_final.campaign.sum())"
   ]
  },
  {
   "cell_type": "markdown",
   "metadata": {},
   "source": [
    "The cost incured is determined as 1\\*number of contacts made. There since we are looking for 80% of the responders, we are only required to contact top 5 deciles, which turns out to be 45318. __Therefore the cost incured is 45318.__ <br>\n",
    "When compared to the total cost which is __102971__, when have __reduced the cost to about 44%__ using the logistic regression model. We have gained a __56% reduction in cost.__"
   ]
  },
  {
   "cell_type": "markdown",
   "metadata": {},
   "source": [
    "### Cost wrt the duration of phonecall"
   ]
  },
  {
   "cell_type": "markdown",
   "metadata": {},
   "source": [
    "Assumptions:\n",
    "- Total duration is calculated as number of contacts * average call duration\n",
    "- Average call time remains same for all the contacts across all the calls, although this assumption is not true it gives a rough idea about cost incured\n",
    "- Average call cost for top 5 deciles is calculated seperately\n",
    "- Call cost is considered as 1 paisa per second"
   ]
  },
  {
   "cell_type": "code",
   "execution_count": 158,
   "metadata": {},
   "outputs": [
    {
     "name": "stdout",
     "output_type": "stream",
     "text": [
      "Average duration of call in seconds for all the people:\n",
      "254.3492279304652\n",
      "Number of contacts made in total:\n",
      "102971\n",
      "Total duration spent for all the calls:\n",
      "26190594.34922793\n",
      "\u001b[1mAssuming cost of the call is 1 paisa per second\u001b[0m\n",
      "Total cost fot contating all people(in Rs):\n",
      "261905.9434922793\n"
     ]
    }
   ],
   "source": [
    "print('Average duration of call in seconds for all the people:')\n",
    "print(lift_df_final.duration.sum()/len(y_final))\n",
    "print('Number of contacts made in total:')\n",
    "print(lift_df_final.campaign.sum())\n",
    "print('Total duration spent for all the calls:')\n",
    "print(lift_df_final.campaign.sum()*lift_df_final.duration.sum()/len(y_final))\n",
    "print_bold('Assuming cost of the call is 1 paisa per second')\n",
    "print('Total cost fot contating all people(in Rs):')\n",
    "print(lift_df_final.campaign.sum()*lift_df_final.duration.sum()/(len(y_final)*100))\n",
    "total_cost = lift_df_final.campaign.sum()*lift_df_final.duration.sum()/(len(y_final)*100)"
   ]
  },
  {
   "cell_type": "code",
   "execution_count": 159,
   "metadata": {
    "scrolled": true
   },
   "outputs": [
    {
     "name": "stdout",
     "output_type": "stream",
     "text": [
      "\u001b[1mwe are required to contact only top 5 deciles to acheive that tagert of 80%, therefore\u001b[0m\n",
      "Average call duration top 5 deciles:\n",
      "268.2962815866554\n",
      "Number of contacts made in top 5 decile:\n",
      "45318\n",
      "cost fot contating top 5 deciles people(in Rs):\n",
      "121586.5088894405\n",
      "\u001b[1mfinal cost as fraction of intial cost:\u001b[0m\n",
      "46.42\n"
     ]
    }
   ],
   "source": [
    "print_bold('we are required to contact only top 5 deciles to acheive that tagert of 80%, therefore')\n",
    "print('Average call duration top 5 deciles:')\n",
    "avg_dur = lift_df_final.loc[lift_df_final.decile >6,'duration'].sum()/lift_df_final.loc[lift_df_final.decile >6,'total'].sum()\n",
    "print(avg_dur)\n",
    "print('Number of contacts made in top 5 decile:')\n",
    "print(lift_df_final.loc[lift_df_final.decile >6,'campaign'].sum())\n",
    "print('cost fot contating top 5 deciles people(in Rs):')\n",
    "print(avg_dur*lift_df_final.loc[lift_df_final.decile >6,'campaign'].sum()/100)\n",
    "top_5_cost = avg_dur*lift_df_final.loc[lift_df_final.decile >6,'campaign'].sum()/100\n",
    "print_bold('final cost as fraction of intial cost:')\n",
    "print(round(100*top_5_cost/total_cost,2))"
   ]
  },
  {
   "cell_type": "markdown",
   "metadata": {},
   "source": [
    "The cost incured is determined as 1\\*average_call_duration\\*number_of_contacts_made. Therefore since we are looking for 80% of the responders, we are only required to contact top 5 deciles, which turns out to be __121586.50 Rs.__ \n",
    "When compared to the total cost which is __261905.94 Rs__, when have __reduced the cost to about 46%__ using the logistic regression model. We have gained a __54% reduction in cost.__"
   ]
  },
  {
   "cell_type": "markdown",
   "metadata": {},
   "source": [
    "## Final model parameters and obervations"
   ]
  },
  {
   "cell_type": "code",
   "execution_count": 160,
   "metadata": {},
   "outputs": [
    {
     "name": "stdout",
     "output_type": "stream",
     "text": [
      "\u001b[1mLogistic regression equation:\u001b[0m\n",
      "-0.42 + 0.392\u001b[1m x \u001b[0mjob_student -0.252\u001b[1m x \u001b[0mcontact_telephone + 0.523\u001b[1m x \u001b[0mmonth_dec + 0.834\u001b[1m x \u001b[0mmonth_mar -0.956\u001b[1m x \u001b[0mmonth_may -0.189\u001b[1m x \u001b[0mmonth_nov -0.233\u001b[1m x \u001b[0mday_of_week_mon + 0.424\u001b[1m x \u001b[0mprevious_Never contacted + 1.984\u001b[1m x \u001b[0mpoutcome_success + 0.182\u001b[1m x \u001b[0mcons.price.idx -0.924\u001b[1m x \u001b[0meuribor3m\n"
     ]
    }
   ],
   "source": [
    "final_model = model.best_estimator_\n",
    "formula = str(round(final_model.intercept_[0],3))\n",
    "for i,j in zip(X_train[cols20].columns,final_model.coef_.reshape(-1,).tolist()):\n",
    "    if j > 0:\n",
    "        formula = formula+ ' + '+str(round(j,3))+'\\033[1m'+' x '+'\\033[0m'+str(i)\n",
    "    else:\n",
    "        formula = formula+' '+str(round(j,3))+'\\033[1m'+' x '+'\\033[0m'+str(i)\n",
    "\n",
    "print_bold('Logistic regression equation:')\n",
    "print(formula)"
   ]
  },
  {
   "cell_type": "code",
   "execution_count": 161,
   "metadata": {},
   "outputs": [
    {
     "name": "stdout",
     "output_type": "stream",
     "text": [
      "\u001b[92m\u001b[1mjob_student\u001b[0m                  :    \u001b[1m0.392\u001b[0m\n",
      "\u001b[91m\u001b[1mcontact_telephone\u001b[0m            :   \u001b[1m-0.252\u001b[0m\n",
      "\u001b[92m\u001b[1mmonth_dec\u001b[0m                    :    \u001b[1m0.523\u001b[0m\n",
      "\u001b[92m\u001b[1mmonth_mar\u001b[0m                    :    \u001b[1m0.834\u001b[0m\n",
      "\u001b[91m\u001b[1mmonth_may\u001b[0m                    :   \u001b[1m-0.956\u001b[0m\n",
      "\u001b[91m\u001b[1mmonth_nov\u001b[0m                    :   \u001b[1m-0.189\u001b[0m\n",
      "\u001b[91m\u001b[1mday_of_week_mon\u001b[0m              :   \u001b[1m-0.233\u001b[0m\n",
      "\u001b[92m\u001b[1mprevious_Never contacted\u001b[0m     :    \u001b[1m0.424\u001b[0m\n",
      "\u001b[92m\u001b[1mpoutcome_success\u001b[0m             :    \u001b[1m1.984\u001b[0m\n",
      "\u001b[92m\u001b[1mcons.price.idx\u001b[0m               :    \u001b[1m0.182\u001b[0m\n",
      "\u001b[91m\u001b[1meuribor3m\u001b[0m                    :   \u001b[1m-0.924\u001b[0m\n"
     ]
    }
   ],
   "source": [
    "for i,j in zip(X_train[cols20].columns,final_model.coef_.reshape(-1,).tolist()):\n",
    "    if j > 0 :\n",
    "        val = '\\033[1m'+str(round(j,3))+'\\033[0m'\n",
    "        var = '\\033[92m'+'\\033[1m'+str(i)+'\\033[0m'\n",
    "    else :\n",
    "        val = '\\033[1m'+str(round(j,3))+'\\033[0m'\n",
    "        var = '\\033[91m'+'\\033[1m'+str(i)+'\\033[0m'\n",
    "    print('{message: <40}'.format(message=var),' : ','{message: >15}'.format(message=val))"
   ]
  },
  {
   "cell_type": "markdown",
   "metadata": {},
   "source": [
    "The final model has 11 features that effect the response. The variable in green effect the output positively where as the variable in red effect the output negatively. \n",
    "- `Poutcome_success` has the largest positive impact whereas `month_may` and `euribor3m` has the largest negative impact.\n",
    "- We can see that festive months dec and mar have high positive correlation\n",
    "- Monday seems to a strong variable that effects negatively the response."
   ]
  }
 ],
 "metadata": {
  "kernelspec": {
   "display_name": "Python 3",
   "language": "python",
   "name": "python3"
  },
  "language_info": {
   "codemirror_mode": {
    "name": "ipython",
    "version": 3
   },
   "file_extension": ".py",
   "mimetype": "text/x-python",
   "name": "python",
   "nbconvert_exporter": "python",
   "pygments_lexer": "ipython3",
   "version": "3.7.3"
  }
 },
 "nbformat": 4,
 "nbformat_minor": 2
}
